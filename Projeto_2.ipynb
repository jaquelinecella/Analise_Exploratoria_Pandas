{
  "cells": [
    {
      "cell_type": "markdown",
      "metadata": {
        "id": "view-in-github",
        "colab_type": "text"
      },
      "source": [
        "<a href=\"https://colab.research.google.com/github/jaquelinecella/Analise_Exploratoria_Pandas/blob/main/Projeto_2.ipynb\" target=\"_parent\"><img src=\"https://colab.research.google.com/assets/colab-badge.svg\" alt=\"Open In Colab\"/></a>"
      ]
    },
    {
      "cell_type": "markdown",
      "metadata": {
        "id": "3F82nYyMTqc3"
      },
      "source": [
        "**PROJETO DE ANÁLISE EXPLORATÓRIA** "
      ]
    },
    {
      "cell_type": "markdown",
      "metadata": {
        "id": "CRJ6pbAaT2Am"
      },
      "source": [
        "Análise Exploratória realizada com dados das bolsas de estudo PROUNI concedidas no ano de 2020. Os dados foram extraídos do site oficial do Governo Federal https://dadosabertos.mec.gov.br/prouni/item/124-bolsas-e-perfil-2020. Projeto em andamento."
      ]
    },
    {
      "cell_type": "markdown",
      "metadata": {
        "id": "mkQA4tvETLuT"
      },
      "source": [
        "#1. Importação das bibliotecas que serão utilizadas"
      ]
    },
    {
      "cell_type": "code",
      "execution_count": 2,
      "metadata": {
        "id": "NoG6BTHthDUK"
      },
      "outputs": [],
      "source": [
        "import pandas as pd\n",
        "import numpy as np\n",
        "import datetime as dt\n",
        "import matplotlib.pyplot as plt\n",
        "from geopy.geocoders import Nominatim\n",
        "import folium\n",
        "from folium.plugins import HeatMap\n"
      ]
    },
    {
      "cell_type": "markdown",
      "metadata": {
        "id": "woD2brfhTWWz"
      },
      "source": [
        "#2.Leitura do arquivo original extraído do site oficial"
      ]
    },
    {
      "cell_type": "code",
      "execution_count": 3,
      "metadata": {
        "id": "xvTMx-2b9grp"
      },
      "outputs": [],
      "source": [
        "original = pd.read_csv('ProuniRelatorioDadosAbertos2020.csv', encoding= \"ISO-8859-1\", sep = ';')\n",
        "                       "
      ]
    },
    {
      "cell_type": "markdown",
      "metadata": {
        "id": "lrelzGdUTjtg"
      },
      "source": [
        "#3.Limpeza, organização e transformação dos dados"
      ]
    },
    {
      "cell_type": "code",
      "execution_count": null,
      "metadata": {
        "id": "atxw5TzYBUg3"
      },
      "outputs": [],
      "source": [
        "original"
      ]
    },
    {
      "cell_type": "markdown",
      "metadata": {
        "id": "WDGZZjf0LKI8"
      },
      "source": [
        "##Gerando cópia do arquivo original para realizar manipulação com segurança"
      ]
    },
    {
      "cell_type": "code",
      "execution_count": 5,
      "metadata": {
        "id": "VFkYJgK9zNci"
      },
      "outputs": [],
      "source": [
        "original_copia = original.copy()"
      ]
    },
    {
      "cell_type": "code",
      "execution_count": null,
      "metadata": {
        "id": "L0sfoKFD0UZK"
      },
      "outputs": [],
      "source": [
        "original_copia.head(10)"
      ]
    },
    {
      "cell_type": "markdown",
      "metadata": {
        "id": "CAhgyiaUJnra"
      },
      "source": [
        "##Verificando a quantidade de linhas e colunas do DataFrame\n"
      ]
    },
    {
      "cell_type": "code",
      "execution_count": 7,
      "metadata": {
        "colab": {
          "base_uri": "https://localhost:8080/"
        },
        "id": "QKqlqR-k09Fw",
        "outputId": "524c60e1-1584-465b-c269-e5081c19ef31"
      },
      "outputs": [
        {
          "output_type": "execute_result",
          "data": {
            "text/plain": [
              "(166830, 17)"
            ]
          },
          "metadata": {},
          "execution_count": 7
        }
      ],
      "source": [
        "original_copia.shape"
      ]
    },
    {
      "cell_type": "code",
      "execution_count": null,
      "metadata": {
        "id": "DMbfiwWMnloC"
      },
      "outputs": [],
      "source": [
        "original_copia.head(5)"
      ]
    },
    {
      "cell_type": "markdown",
      "metadata": {
        "id": "ngI8rDYnJ_WD"
      },
      "source": [
        "##Verificando o tipo dos dados presentes no DataFrame para identificar se é necessário realizar conversão"
      ]
    },
    {
      "cell_type": "code",
      "execution_count": 9,
      "metadata": {
        "colab": {
          "base_uri": "https://localhost:8080/"
        },
        "id": "7OQPQtWCA7sf",
        "outputId": "41a5029e-4616-4bc6-d259-37cbcb244ea7"
      },
      "outputs": [
        {
          "output_type": "stream",
          "name": "stdout",
          "text": [
            "<class 'pandas.core.frame.DataFrame'>\n",
            "RangeIndex: 166830 entries, 0 to 166829\n",
            "Data columns (total 17 columns):\n",
            " #   Column                          Non-Null Count   Dtype \n",
            "---  ------                          --------------   ----- \n",
            " 0   ANO_CONCESSAO_BOLSA             166830 non-null  int64 \n",
            " 1   CODIGO_EMEC_IES_BOLSA           166830 non-null  int64 \n",
            " 2   NOME_IES_BOLSA                  166830 non-null  object\n",
            " 3   MUNICIPIO                       166830 non-null  object\n",
            " 4   CAMPUS                          166830 non-null  object\n",
            " 5   TIPO_BOLSA                      166830 non-null  object\n",
            " 6   MODALIDADE_ENSINO_BOLSA         166830 non-null  object\n",
            " 7   NOME_CURSO_BOLSA                166792 non-null  object\n",
            " 8   NOME_TURNO_CURSO_BOLSA          166830 non-null  object\n",
            " 9   CPF_BENEFICIARIO                166830 non-null  object\n",
            " 10  SEXO_BENEFICIARIO               166830 non-null  object\n",
            " 11  RACA_BENEFICIARIO               166830 non-null  object\n",
            " 12  DATA_NASCIMENTO                 166830 non-null  object\n",
            " 13  BENEFICIARIO_DEFICIENTE_FISICO  166830 non-null  object\n",
            " 14  REGIAO_BENEFICIARIO             166830 non-null  object\n",
            " 15  UF_BENEFICIARIO                 166830 non-null  object\n",
            " 16  MUNICIPIO_BENEFICIARIO          166830 non-null  object\n",
            "dtypes: int64(2), object(15)\n",
            "memory usage: 21.6+ MB\n"
          ]
        }
      ],
      "source": [
        "original_copia.info()"
      ]
    },
    {
      "cell_type": "markdown",
      "metadata": {
        "id": "Wellke4xKQIK"
      },
      "source": [
        "##Convertendo o formato do campo 'DATA_NASCIMENTO' para datetime."
      ]
    },
    {
      "cell_type": "code",
      "execution_count": 10,
      "metadata": {
        "colab": {
          "base_uri": "https://localhost:8080/"
        },
        "id": "DKKqVebdvkbo",
        "outputId": "03b9b463-9fa3-494c-847a-9a78485a9cd9"
      },
      "outputs": [
        {
          "output_type": "execute_result",
          "data": {
            "text/plain": [
              "0        1973-11-08\n",
              "1        1987-05-13\n",
              "2        2001-07-23\n",
              "3        2003-04-04\n",
              "4        1977-07-12\n",
              "            ...    \n",
              "166825   1996-11-30\n",
              "166826   2002-03-25\n",
              "166827   1997-04-19\n",
              "166828   1975-09-17\n",
              "166829   1996-06-25\n",
              "Name: DATA_NASCIMENTO, Length: 166830, dtype: datetime64[ns]"
            ]
          },
          "metadata": {},
          "execution_count": 10
        }
      ],
      "source": [
        "pd.to_datetime(original_copia['DATA_NASCIMENTO'])"
      ]
    },
    {
      "cell_type": "code",
      "execution_count": 11,
      "metadata": {
        "id": "cIhycDXhv_a_"
      },
      "outputs": [],
      "source": [
        "original_copia['DATA_NASCIMENTO'] = pd.to_datetime(original_copia['DATA_NASCIMENTO'])"
      ]
    },
    {
      "cell_type": "code",
      "execution_count": 12,
      "metadata": {
        "colab": {
          "base_uri": "https://localhost:8080/"
        },
        "id": "tgI4jiHLwqbK",
        "outputId": "da491f8e-c70b-4df2-911c-b298452bcf8d"
      },
      "outputs": [
        {
          "output_type": "stream",
          "name": "stdout",
          "text": [
            "<class 'pandas.core.frame.DataFrame'>\n",
            "RangeIndex: 166830 entries, 0 to 166829\n",
            "Data columns (total 17 columns):\n",
            " #   Column                          Non-Null Count   Dtype         \n",
            "---  ------                          --------------   -----         \n",
            " 0   ANO_CONCESSAO_BOLSA             166830 non-null  int64         \n",
            " 1   CODIGO_EMEC_IES_BOLSA           166830 non-null  int64         \n",
            " 2   NOME_IES_BOLSA                  166830 non-null  object        \n",
            " 3   MUNICIPIO                       166830 non-null  object        \n",
            " 4   CAMPUS                          166830 non-null  object        \n",
            " 5   TIPO_BOLSA                      166830 non-null  object        \n",
            " 6   MODALIDADE_ENSINO_BOLSA         166830 non-null  object        \n",
            " 7   NOME_CURSO_BOLSA                166792 non-null  object        \n",
            " 8   NOME_TURNO_CURSO_BOLSA          166830 non-null  object        \n",
            " 9   CPF_BENEFICIARIO                166830 non-null  object        \n",
            " 10  SEXO_BENEFICIARIO               166830 non-null  object        \n",
            " 11  RACA_BENEFICIARIO               166830 non-null  object        \n",
            " 12  DATA_NASCIMENTO                 166830 non-null  datetime64[ns]\n",
            " 13  BENEFICIARIO_DEFICIENTE_FISICO  166830 non-null  object        \n",
            " 14  REGIAO_BENEFICIARIO             166830 non-null  object        \n",
            " 15  UF_BENEFICIARIO                 166830 non-null  object        \n",
            " 16  MUNICIPIO_BENEFICIARIO          166830 non-null  object        \n",
            "dtypes: datetime64[ns](1), int64(2), object(14)\n",
            "memory usage: 21.6+ MB\n"
          ]
        }
      ],
      "source": [
        "original_copia.info() #conversão ok"
      ]
    },
    {
      "cell_type": "code",
      "execution_count": null,
      "metadata": {
        "id": "w_1-72tfwq4T"
      },
      "outputs": [],
      "source": [
        "original_copia.head(5)"
      ]
    },
    {
      "cell_type": "code",
      "execution_count": null,
      "metadata": {
        "id": "z3tGPqohyEtM"
      },
      "outputs": [],
      "source": [
        "original_copia.info()"
      ]
    },
    {
      "cell_type": "markdown",
      "metadata": {
        "id": "pa4R1riTZR80"
      },
      "source": [
        "##Verificando quantos dados há por coluna para avaliar a transformação para category."
      ]
    },
    {
      "cell_type": "code",
      "execution_count": null,
      "metadata": {
        "id": "OiQDiibx5JgO"
      },
      "outputs": [],
      "source": [
        "original_copia.nunique()"
      ]
    },
    {
      "cell_type": "markdown",
      "metadata": {
        "id": "3h9Y-OE6Kbij"
      },
      "source": [
        "##Ordenando os dados para facilitar a identificação"
      ]
    },
    {
      "cell_type": "code",
      "execution_count": 16,
      "metadata": {
        "id": "5AKD6Jxr5TJ9"
      },
      "outputs": [],
      "source": [
        "ordenando = pd.DataFrame.from_records([(col, original_copia[col].nunique())\n",
        "              for col in original_copia.columns],\n",
        "              columns=['coluna', 'qt_dados']).sort_values(by=['qt_dados'])"
      ]
    },
    {
      "cell_type": "code",
      "execution_count": 17,
      "metadata": {
        "colab": {
          "base_uri": "https://localhost:8080/",
          "height": 582
        },
        "id": "Qp9DNfmv2naz",
        "outputId": "5c12f7fe-d4cd-4a53-9550-49f1f4fc72b3"
      },
      "outputs": [
        {
          "output_type": "execute_result",
          "data": {
            "text/plain": [
              "                            coluna  qt_dados\n",
              "0              ANO_CONCESSAO_BOLSA         1\n",
              "13  BENEFICIARIO_DEFICIENTE_FISICO         2\n",
              "10               SEXO_BENEFICIARIO         2\n",
              "6          MODALIDADE_ENSINO_BOLSA         2\n",
              "5                       TIPO_BOLSA         2\n",
              "14             REGIAO_BENEFICIARIO         5\n",
              "8           NOME_TURNO_CURSO_BOLSA         5\n",
              "11               RACA_BENEFICIARIO         6\n",
              "15                 UF_BENEFICIARIO        27\n",
              "7                 NOME_CURSO_BOLSA       317\n",
              "1            CODIGO_EMEC_IES_BOLSA      1333\n",
              "2                   NOME_IES_BOLSA      1375\n",
              "3                        MUNICIPIO      1434\n",
              "16          MUNICIPIO_BENEFICIARIO      4885\n",
              "4                           CAMPUS      6463\n",
              "12                 DATA_NASCIMENTO     11793\n",
              "9                 CPF_BENEFICIARIO     41390"
            ],
            "text/html": [
              "\n",
              "  <div id=\"df-f0ae6080-4584-4cd1-846c-0cee825e5cf6\">\n",
              "    <div class=\"colab-df-container\">\n",
              "      <div>\n",
              "<style scoped>\n",
              "    .dataframe tbody tr th:only-of-type {\n",
              "        vertical-align: middle;\n",
              "    }\n",
              "\n",
              "    .dataframe tbody tr th {\n",
              "        vertical-align: top;\n",
              "    }\n",
              "\n",
              "    .dataframe thead th {\n",
              "        text-align: right;\n",
              "    }\n",
              "</style>\n",
              "<table border=\"1\" class=\"dataframe\">\n",
              "  <thead>\n",
              "    <tr style=\"text-align: right;\">\n",
              "      <th></th>\n",
              "      <th>coluna</th>\n",
              "      <th>qt_dados</th>\n",
              "    </tr>\n",
              "  </thead>\n",
              "  <tbody>\n",
              "    <tr>\n",
              "      <th>0</th>\n",
              "      <td>ANO_CONCESSAO_BOLSA</td>\n",
              "      <td>1</td>\n",
              "    </tr>\n",
              "    <tr>\n",
              "      <th>13</th>\n",
              "      <td>BENEFICIARIO_DEFICIENTE_FISICO</td>\n",
              "      <td>2</td>\n",
              "    </tr>\n",
              "    <tr>\n",
              "      <th>10</th>\n",
              "      <td>SEXO_BENEFICIARIO</td>\n",
              "      <td>2</td>\n",
              "    </tr>\n",
              "    <tr>\n",
              "      <th>6</th>\n",
              "      <td>MODALIDADE_ENSINO_BOLSA</td>\n",
              "      <td>2</td>\n",
              "    </tr>\n",
              "    <tr>\n",
              "      <th>5</th>\n",
              "      <td>TIPO_BOLSA</td>\n",
              "      <td>2</td>\n",
              "    </tr>\n",
              "    <tr>\n",
              "      <th>14</th>\n",
              "      <td>REGIAO_BENEFICIARIO</td>\n",
              "      <td>5</td>\n",
              "    </tr>\n",
              "    <tr>\n",
              "      <th>8</th>\n",
              "      <td>NOME_TURNO_CURSO_BOLSA</td>\n",
              "      <td>5</td>\n",
              "    </tr>\n",
              "    <tr>\n",
              "      <th>11</th>\n",
              "      <td>RACA_BENEFICIARIO</td>\n",
              "      <td>6</td>\n",
              "    </tr>\n",
              "    <tr>\n",
              "      <th>15</th>\n",
              "      <td>UF_BENEFICIARIO</td>\n",
              "      <td>27</td>\n",
              "    </tr>\n",
              "    <tr>\n",
              "      <th>7</th>\n",
              "      <td>NOME_CURSO_BOLSA</td>\n",
              "      <td>317</td>\n",
              "    </tr>\n",
              "    <tr>\n",
              "      <th>1</th>\n",
              "      <td>CODIGO_EMEC_IES_BOLSA</td>\n",
              "      <td>1333</td>\n",
              "    </tr>\n",
              "    <tr>\n",
              "      <th>2</th>\n",
              "      <td>NOME_IES_BOLSA</td>\n",
              "      <td>1375</td>\n",
              "    </tr>\n",
              "    <tr>\n",
              "      <th>3</th>\n",
              "      <td>MUNICIPIO</td>\n",
              "      <td>1434</td>\n",
              "    </tr>\n",
              "    <tr>\n",
              "      <th>16</th>\n",
              "      <td>MUNICIPIO_BENEFICIARIO</td>\n",
              "      <td>4885</td>\n",
              "    </tr>\n",
              "    <tr>\n",
              "      <th>4</th>\n",
              "      <td>CAMPUS</td>\n",
              "      <td>6463</td>\n",
              "    </tr>\n",
              "    <tr>\n",
              "      <th>12</th>\n",
              "      <td>DATA_NASCIMENTO</td>\n",
              "      <td>11793</td>\n",
              "    </tr>\n",
              "    <tr>\n",
              "      <th>9</th>\n",
              "      <td>CPF_BENEFICIARIO</td>\n",
              "      <td>41390</td>\n",
              "    </tr>\n",
              "  </tbody>\n",
              "</table>\n",
              "</div>\n",
              "      <button class=\"colab-df-convert\" onclick=\"convertToInteractive('df-f0ae6080-4584-4cd1-846c-0cee825e5cf6')\"\n",
              "              title=\"Convert this dataframe to an interactive table.\"\n",
              "              style=\"display:none;\">\n",
              "        \n",
              "  <svg xmlns=\"http://www.w3.org/2000/svg\" height=\"24px\"viewBox=\"0 0 24 24\"\n",
              "       width=\"24px\">\n",
              "    <path d=\"M0 0h24v24H0V0z\" fill=\"none\"/>\n",
              "    <path d=\"M18.56 5.44l.94 2.06.94-2.06 2.06-.94-2.06-.94-.94-2.06-.94 2.06-2.06.94zm-11 1L8.5 8.5l.94-2.06 2.06-.94-2.06-.94L8.5 2.5l-.94 2.06-2.06.94zm10 10l.94 2.06.94-2.06 2.06-.94-2.06-.94-.94-2.06-.94 2.06-2.06.94z\"/><path d=\"M17.41 7.96l-1.37-1.37c-.4-.4-.92-.59-1.43-.59-.52 0-1.04.2-1.43.59L10.3 9.45l-7.72 7.72c-.78.78-.78 2.05 0 2.83L4 21.41c.39.39.9.59 1.41.59.51 0 1.02-.2 1.41-.59l7.78-7.78 2.81-2.81c.8-.78.8-2.07 0-2.86zM5.41 20L4 18.59l7.72-7.72 1.47 1.35L5.41 20z\"/>\n",
              "  </svg>\n",
              "      </button>\n",
              "      \n",
              "  <style>\n",
              "    .colab-df-container {\n",
              "      display:flex;\n",
              "      flex-wrap:wrap;\n",
              "      gap: 12px;\n",
              "    }\n",
              "\n",
              "    .colab-df-convert {\n",
              "      background-color: #E8F0FE;\n",
              "      border: none;\n",
              "      border-radius: 50%;\n",
              "      cursor: pointer;\n",
              "      display: none;\n",
              "      fill: #1967D2;\n",
              "      height: 32px;\n",
              "      padding: 0 0 0 0;\n",
              "      width: 32px;\n",
              "    }\n",
              "\n",
              "    .colab-df-convert:hover {\n",
              "      background-color: #E2EBFA;\n",
              "      box-shadow: 0px 1px 2px rgba(60, 64, 67, 0.3), 0px 1px 3px 1px rgba(60, 64, 67, 0.15);\n",
              "      fill: #174EA6;\n",
              "    }\n",
              "\n",
              "    [theme=dark] .colab-df-convert {\n",
              "      background-color: #3B4455;\n",
              "      fill: #D2E3FC;\n",
              "    }\n",
              "\n",
              "    [theme=dark] .colab-df-convert:hover {\n",
              "      background-color: #434B5C;\n",
              "      box-shadow: 0px 1px 3px 1px rgba(0, 0, 0, 0.15);\n",
              "      filter: drop-shadow(0px 1px 2px rgba(0, 0, 0, 0.3));\n",
              "      fill: #FFFFFF;\n",
              "    }\n",
              "  </style>\n",
              "\n",
              "      <script>\n",
              "        const buttonEl =\n",
              "          document.querySelector('#df-f0ae6080-4584-4cd1-846c-0cee825e5cf6 button.colab-df-convert');\n",
              "        buttonEl.style.display =\n",
              "          google.colab.kernel.accessAllowed ? 'block' : 'none';\n",
              "\n",
              "        async function convertToInteractive(key) {\n",
              "          const element = document.querySelector('#df-f0ae6080-4584-4cd1-846c-0cee825e5cf6');\n",
              "          const dataTable =\n",
              "            await google.colab.kernel.invokeFunction('convertToInteractive',\n",
              "                                                     [key], {});\n",
              "          if (!dataTable) return;\n",
              "\n",
              "          const docLinkHtml = 'Like what you see? Visit the ' +\n",
              "            '<a target=\"_blank\" href=https://colab.research.google.com/notebooks/data_table.ipynb>data table notebook</a>'\n",
              "            + ' to learn more about interactive tables.';\n",
              "          element.innerHTML = '';\n",
              "          dataTable['output_type'] = 'display_data';\n",
              "          await google.colab.output.renderOutput(dataTable, element);\n",
              "          const docLink = document.createElement('div');\n",
              "          docLink.innerHTML = docLinkHtml;\n",
              "          element.appendChild(docLink);\n",
              "        }\n",
              "      </script>\n",
              "    </div>\n",
              "  </div>\n",
              "  "
            ]
          },
          "metadata": {},
          "execution_count": 17
        }
      ],
      "source": [
        "ordenando"
      ]
    },
    {
      "cell_type": "markdown",
      "metadata": {
        "id": "r_qrK9d8Kps-"
      },
      "source": [
        "##Organizando colunas para transformação para category"
      ]
    },
    {
      "cell_type": "code",
      "execution_count": 18,
      "metadata": {
        "id": "6uNRk-bT41OM"
      },
      "outputs": [],
      "source": [
        "cat = ['ANO_CONCESSAO_BOLSA', 'BENEFICIARIO_DEFICIENTE_FISICO', 'SEXO_BENEFICIARIO', 'MODALIDADE_ENSINO_BOLSA', 'TIPO_BOLSA', 'REGIAO_BENEFICIARIO',\n",
        " 'NOME_TURNO_CURSO_BOLSA', 'RACA_BENEFICIARIO']"
      ]
    },
    {
      "cell_type": "code",
      "execution_count": 19,
      "metadata": {
        "colab": {
          "base_uri": "https://localhost:8080/"
        },
        "id": "hLrLp4iYxg3P",
        "outputId": "d53dd752-072c-4438-8b6c-1ac299f84043"
      },
      "outputs": [
        {
          "output_type": "stream",
          "name": "stdout",
          "text": [
            "['ANO_CONCESSAO_BOLSA', 'BENEFICIARIO_DEFICIENTE_FISICO', 'SEXO_BENEFICIARIO', 'MODALIDADE_ENSINO_BOLSA', 'TIPO_BOLSA', 'REGIAO_BENEFICIARIO', 'NOME_TURNO_CURSO_BOLSA', 'RACA_BENEFICIARIO']\n"
          ]
        }
      ],
      "source": [
        "print(cat)"
      ]
    },
    {
      "cell_type": "markdown",
      "metadata": {
        "id": "bEdH8myuZW84"
      },
      "source": [
        "##Convertendo os atributos para category"
      ]
    },
    {
      "cell_type": "code",
      "execution_count": 20,
      "metadata": {
        "id": "wm3Qe06EyaFv"
      },
      "outputs": [],
      "source": [
        "for a in cat:\n",
        "  original_copia[a]= pd.Categorical(original_copia[a])"
      ]
    },
    {
      "cell_type": "code",
      "execution_count": null,
      "metadata": {
        "id": "wEjno4Ka4ZUt"
      },
      "outputs": [],
      "source": [
        "original_copia.info()"
      ]
    },
    {
      "cell_type": "markdown",
      "metadata": {
        "id": "hH8f5Tz5Kygn"
      },
      "source": [
        "##Ano da concessão da bolsa deveria ter ficado 'int' para fazer a subtração com o \"ANO_NASCIMENTO\""
      ]
    },
    {
      "cell_type": "code",
      "execution_count": 22,
      "metadata": {
        "id": "IqF4PhqJ4-Pq"
      },
      "outputs": [],
      "source": [
        "original_copia['ANO_CONCESSAO_BOLSA'] = original_copia['ANO_CONCESSAO_BOLSA'].astype(int)"
      ]
    },
    {
      "cell_type": "code",
      "execution_count": 23,
      "metadata": {
        "colab": {
          "base_uri": "https://localhost:8080/"
        },
        "id": "esPrGOn85uRp",
        "outputId": "7a9efbe4-8e8d-4dc4-ca7f-0bfd0920f385"
      },
      "outputs": [
        {
          "output_type": "stream",
          "name": "stdout",
          "text": [
            "<class 'pandas.core.frame.DataFrame'>\n",
            "RangeIndex: 166830 entries, 0 to 166829\n",
            "Data columns (total 17 columns):\n",
            " #   Column                          Non-Null Count   Dtype         \n",
            "---  ------                          --------------   -----         \n",
            " 0   ANO_CONCESSAO_BOLSA             166830 non-null  int64         \n",
            " 1   CODIGO_EMEC_IES_BOLSA           166830 non-null  int64         \n",
            " 2   NOME_IES_BOLSA                  166830 non-null  object        \n",
            " 3   MUNICIPIO                       166830 non-null  object        \n",
            " 4   CAMPUS                          166830 non-null  object        \n",
            " 5   TIPO_BOLSA                      166830 non-null  category      \n",
            " 6   MODALIDADE_ENSINO_BOLSA         166830 non-null  category      \n",
            " 7   NOME_CURSO_BOLSA                166792 non-null  object        \n",
            " 8   NOME_TURNO_CURSO_BOLSA          166830 non-null  category      \n",
            " 9   CPF_BENEFICIARIO                166830 non-null  object        \n",
            " 10  SEXO_BENEFICIARIO               166830 non-null  category      \n",
            " 11  RACA_BENEFICIARIO               166830 non-null  category      \n",
            " 12  DATA_NASCIMENTO                 166830 non-null  datetime64[ns]\n",
            " 13  BENEFICIARIO_DEFICIENTE_FISICO  166830 non-null  category      \n",
            " 14  REGIAO_BENEFICIARIO             166830 non-null  category      \n",
            " 15  UF_BENEFICIARIO                 166830 non-null  object        \n",
            " 16  MUNICIPIO_BENEFICIARIO          166830 non-null  object        \n",
            "dtypes: category(7), datetime64[ns](1), int64(2), object(7)\n",
            "memory usage: 13.8+ MB\n"
          ]
        }
      ],
      "source": [
        "original_copia.info()"
      ]
    },
    {
      "cell_type": "code",
      "execution_count": 24,
      "metadata": {
        "colab": {
          "base_uri": "https://localhost:8080/",
          "height": 488
        },
        "id": "47xg4v6SHt2U",
        "outputId": "cf9c089f-75ec-4950-a0ed-073682782799"
      },
      "outputs": [
        {
          "output_type": "execute_result",
          "data": {
            "text/plain": [
              "        ANO_CONCESSAO_BOLSA  CODIGO_EMEC_IES_BOLSA  NOME_IES_BOLSA  MUNICIPIO  \\\n",
              "0                     False                  False           False      False   \n",
              "1                     False                  False           False      False   \n",
              "2                     False                  False           False      False   \n",
              "3                     False                  False           False      False   \n",
              "4                     False                  False           False      False   \n",
              "...                     ...                    ...             ...        ...   \n",
              "166825                False                  False           False      False   \n",
              "166826                False                  False           False      False   \n",
              "166827                False                  False           False      False   \n",
              "166828                False                  False           False      False   \n",
              "166829                False                  False           False      False   \n",
              "\n",
              "        CAMPUS  TIPO_BOLSA  MODALIDADE_ENSINO_BOLSA  NOME_CURSO_BOLSA  \\\n",
              "0        False       False                    False             False   \n",
              "1        False       False                    False             False   \n",
              "2        False       False                    False             False   \n",
              "3        False       False                    False             False   \n",
              "4        False       False                    False             False   \n",
              "...        ...         ...                      ...               ...   \n",
              "166825   False       False                    False             False   \n",
              "166826   False       False                    False             False   \n",
              "166827   False       False                    False             False   \n",
              "166828   False       False                    False             False   \n",
              "166829   False       False                    False             False   \n",
              "\n",
              "        NOME_TURNO_CURSO_BOLSA  CPF_BENEFICIARIO  SEXO_BENEFICIARIO  \\\n",
              "0                        False             False              False   \n",
              "1                        False             False              False   \n",
              "2                        False             False              False   \n",
              "3                        False             False              False   \n",
              "4                        False             False              False   \n",
              "...                        ...               ...                ...   \n",
              "166825                   False             False              False   \n",
              "166826                   False             False              False   \n",
              "166827                   False             False              False   \n",
              "166828                   False             False              False   \n",
              "166829                   False             False              False   \n",
              "\n",
              "        RACA_BENEFICIARIO  DATA_NASCIMENTO  BENEFICIARIO_DEFICIENTE_FISICO  \\\n",
              "0                   False            False                           False   \n",
              "1                   False            False                           False   \n",
              "2                   False            False                           False   \n",
              "3                   False            False                           False   \n",
              "4                   False            False                           False   \n",
              "...                   ...              ...                             ...   \n",
              "166825              False            False                           False   \n",
              "166826              False            False                           False   \n",
              "166827              False            False                           False   \n",
              "166828              False            False                           False   \n",
              "166829              False            False                           False   \n",
              "\n",
              "        REGIAO_BENEFICIARIO  UF_BENEFICIARIO  MUNICIPIO_BENEFICIARIO  \n",
              "0                     False            False                   False  \n",
              "1                     False            False                   False  \n",
              "2                     False            False                   False  \n",
              "3                     False            False                   False  \n",
              "4                     False            False                   False  \n",
              "...                     ...              ...                     ...  \n",
              "166825                False            False                   False  \n",
              "166826                False            False                   False  \n",
              "166827                False            False                   False  \n",
              "166828                False            False                   False  \n",
              "166829                False            False                   False  \n",
              "\n",
              "[166830 rows x 17 columns]"
            ],
            "text/html": [
              "\n",
              "  <div id=\"df-ee08ba34-6024-45bb-8d1b-ec43752bd601\">\n",
              "    <div class=\"colab-df-container\">\n",
              "      <div>\n",
              "<style scoped>\n",
              "    .dataframe tbody tr th:only-of-type {\n",
              "        vertical-align: middle;\n",
              "    }\n",
              "\n",
              "    .dataframe tbody tr th {\n",
              "        vertical-align: top;\n",
              "    }\n",
              "\n",
              "    .dataframe thead th {\n",
              "        text-align: right;\n",
              "    }\n",
              "</style>\n",
              "<table border=\"1\" class=\"dataframe\">\n",
              "  <thead>\n",
              "    <tr style=\"text-align: right;\">\n",
              "      <th></th>\n",
              "      <th>ANO_CONCESSAO_BOLSA</th>\n",
              "      <th>CODIGO_EMEC_IES_BOLSA</th>\n",
              "      <th>NOME_IES_BOLSA</th>\n",
              "      <th>MUNICIPIO</th>\n",
              "      <th>CAMPUS</th>\n",
              "      <th>TIPO_BOLSA</th>\n",
              "      <th>MODALIDADE_ENSINO_BOLSA</th>\n",
              "      <th>NOME_CURSO_BOLSA</th>\n",
              "      <th>NOME_TURNO_CURSO_BOLSA</th>\n",
              "      <th>CPF_BENEFICIARIO</th>\n",
              "      <th>SEXO_BENEFICIARIO</th>\n",
              "      <th>RACA_BENEFICIARIO</th>\n",
              "      <th>DATA_NASCIMENTO</th>\n",
              "      <th>BENEFICIARIO_DEFICIENTE_FISICO</th>\n",
              "      <th>REGIAO_BENEFICIARIO</th>\n",
              "      <th>UF_BENEFICIARIO</th>\n",
              "      <th>MUNICIPIO_BENEFICIARIO</th>\n",
              "    </tr>\n",
              "  </thead>\n",
              "  <tbody>\n",
              "    <tr>\n",
              "      <th>0</th>\n",
              "      <td>False</td>\n",
              "      <td>False</td>\n",
              "      <td>False</td>\n",
              "      <td>False</td>\n",
              "      <td>False</td>\n",
              "      <td>False</td>\n",
              "      <td>False</td>\n",
              "      <td>False</td>\n",
              "      <td>False</td>\n",
              "      <td>False</td>\n",
              "      <td>False</td>\n",
              "      <td>False</td>\n",
              "      <td>False</td>\n",
              "      <td>False</td>\n",
              "      <td>False</td>\n",
              "      <td>False</td>\n",
              "      <td>False</td>\n",
              "    </tr>\n",
              "    <tr>\n",
              "      <th>1</th>\n",
              "      <td>False</td>\n",
              "      <td>False</td>\n",
              "      <td>False</td>\n",
              "      <td>False</td>\n",
              "      <td>False</td>\n",
              "      <td>False</td>\n",
              "      <td>False</td>\n",
              "      <td>False</td>\n",
              "      <td>False</td>\n",
              "      <td>False</td>\n",
              "      <td>False</td>\n",
              "      <td>False</td>\n",
              "      <td>False</td>\n",
              "      <td>False</td>\n",
              "      <td>False</td>\n",
              "      <td>False</td>\n",
              "      <td>False</td>\n",
              "    </tr>\n",
              "    <tr>\n",
              "      <th>2</th>\n",
              "      <td>False</td>\n",
              "      <td>False</td>\n",
              "      <td>False</td>\n",
              "      <td>False</td>\n",
              "      <td>False</td>\n",
              "      <td>False</td>\n",
              "      <td>False</td>\n",
              "      <td>False</td>\n",
              "      <td>False</td>\n",
              "      <td>False</td>\n",
              "      <td>False</td>\n",
              "      <td>False</td>\n",
              "      <td>False</td>\n",
              "      <td>False</td>\n",
              "      <td>False</td>\n",
              "      <td>False</td>\n",
              "      <td>False</td>\n",
              "    </tr>\n",
              "    <tr>\n",
              "      <th>3</th>\n",
              "      <td>False</td>\n",
              "      <td>False</td>\n",
              "      <td>False</td>\n",
              "      <td>False</td>\n",
              "      <td>False</td>\n",
              "      <td>False</td>\n",
              "      <td>False</td>\n",
              "      <td>False</td>\n",
              "      <td>False</td>\n",
              "      <td>False</td>\n",
              "      <td>False</td>\n",
              "      <td>False</td>\n",
              "      <td>False</td>\n",
              "      <td>False</td>\n",
              "      <td>False</td>\n",
              "      <td>False</td>\n",
              "      <td>False</td>\n",
              "    </tr>\n",
              "    <tr>\n",
              "      <th>4</th>\n",
              "      <td>False</td>\n",
              "      <td>False</td>\n",
              "      <td>False</td>\n",
              "      <td>False</td>\n",
              "      <td>False</td>\n",
              "      <td>False</td>\n",
              "      <td>False</td>\n",
              "      <td>False</td>\n",
              "      <td>False</td>\n",
              "      <td>False</td>\n",
              "      <td>False</td>\n",
              "      <td>False</td>\n",
              "      <td>False</td>\n",
              "      <td>False</td>\n",
              "      <td>False</td>\n",
              "      <td>False</td>\n",
              "      <td>False</td>\n",
              "    </tr>\n",
              "    <tr>\n",
              "      <th>...</th>\n",
              "      <td>...</td>\n",
              "      <td>...</td>\n",
              "      <td>...</td>\n",
              "      <td>...</td>\n",
              "      <td>...</td>\n",
              "      <td>...</td>\n",
              "      <td>...</td>\n",
              "      <td>...</td>\n",
              "      <td>...</td>\n",
              "      <td>...</td>\n",
              "      <td>...</td>\n",
              "      <td>...</td>\n",
              "      <td>...</td>\n",
              "      <td>...</td>\n",
              "      <td>...</td>\n",
              "      <td>...</td>\n",
              "      <td>...</td>\n",
              "    </tr>\n",
              "    <tr>\n",
              "      <th>166825</th>\n",
              "      <td>False</td>\n",
              "      <td>False</td>\n",
              "      <td>False</td>\n",
              "      <td>False</td>\n",
              "      <td>False</td>\n",
              "      <td>False</td>\n",
              "      <td>False</td>\n",
              "      <td>False</td>\n",
              "      <td>False</td>\n",
              "      <td>False</td>\n",
              "      <td>False</td>\n",
              "      <td>False</td>\n",
              "      <td>False</td>\n",
              "      <td>False</td>\n",
              "      <td>False</td>\n",
              "      <td>False</td>\n",
              "      <td>False</td>\n",
              "    </tr>\n",
              "    <tr>\n",
              "      <th>166826</th>\n",
              "      <td>False</td>\n",
              "      <td>False</td>\n",
              "      <td>False</td>\n",
              "      <td>False</td>\n",
              "      <td>False</td>\n",
              "      <td>False</td>\n",
              "      <td>False</td>\n",
              "      <td>False</td>\n",
              "      <td>False</td>\n",
              "      <td>False</td>\n",
              "      <td>False</td>\n",
              "      <td>False</td>\n",
              "      <td>False</td>\n",
              "      <td>False</td>\n",
              "      <td>False</td>\n",
              "      <td>False</td>\n",
              "      <td>False</td>\n",
              "    </tr>\n",
              "    <tr>\n",
              "      <th>166827</th>\n",
              "      <td>False</td>\n",
              "      <td>False</td>\n",
              "      <td>False</td>\n",
              "      <td>False</td>\n",
              "      <td>False</td>\n",
              "      <td>False</td>\n",
              "      <td>False</td>\n",
              "      <td>False</td>\n",
              "      <td>False</td>\n",
              "      <td>False</td>\n",
              "      <td>False</td>\n",
              "      <td>False</td>\n",
              "      <td>False</td>\n",
              "      <td>False</td>\n",
              "      <td>False</td>\n",
              "      <td>False</td>\n",
              "      <td>False</td>\n",
              "    </tr>\n",
              "    <tr>\n",
              "      <th>166828</th>\n",
              "      <td>False</td>\n",
              "      <td>False</td>\n",
              "      <td>False</td>\n",
              "      <td>False</td>\n",
              "      <td>False</td>\n",
              "      <td>False</td>\n",
              "      <td>False</td>\n",
              "      <td>False</td>\n",
              "      <td>False</td>\n",
              "      <td>False</td>\n",
              "      <td>False</td>\n",
              "      <td>False</td>\n",
              "      <td>False</td>\n",
              "      <td>False</td>\n",
              "      <td>False</td>\n",
              "      <td>False</td>\n",
              "      <td>False</td>\n",
              "    </tr>\n",
              "    <tr>\n",
              "      <th>166829</th>\n",
              "      <td>False</td>\n",
              "      <td>False</td>\n",
              "      <td>False</td>\n",
              "      <td>False</td>\n",
              "      <td>False</td>\n",
              "      <td>False</td>\n",
              "      <td>False</td>\n",
              "      <td>False</td>\n",
              "      <td>False</td>\n",
              "      <td>False</td>\n",
              "      <td>False</td>\n",
              "      <td>False</td>\n",
              "      <td>False</td>\n",
              "      <td>False</td>\n",
              "      <td>False</td>\n",
              "      <td>False</td>\n",
              "      <td>False</td>\n",
              "    </tr>\n",
              "  </tbody>\n",
              "</table>\n",
              "<p>166830 rows × 17 columns</p>\n",
              "</div>\n",
              "      <button class=\"colab-df-convert\" onclick=\"convertToInteractive('df-ee08ba34-6024-45bb-8d1b-ec43752bd601')\"\n",
              "              title=\"Convert this dataframe to an interactive table.\"\n",
              "              style=\"display:none;\">\n",
              "        \n",
              "  <svg xmlns=\"http://www.w3.org/2000/svg\" height=\"24px\"viewBox=\"0 0 24 24\"\n",
              "       width=\"24px\">\n",
              "    <path d=\"M0 0h24v24H0V0z\" fill=\"none\"/>\n",
              "    <path d=\"M18.56 5.44l.94 2.06.94-2.06 2.06-.94-2.06-.94-.94-2.06-.94 2.06-2.06.94zm-11 1L8.5 8.5l.94-2.06 2.06-.94-2.06-.94L8.5 2.5l-.94 2.06-2.06.94zm10 10l.94 2.06.94-2.06 2.06-.94-2.06-.94-.94-2.06-.94 2.06-2.06.94z\"/><path d=\"M17.41 7.96l-1.37-1.37c-.4-.4-.92-.59-1.43-.59-.52 0-1.04.2-1.43.59L10.3 9.45l-7.72 7.72c-.78.78-.78 2.05 0 2.83L4 21.41c.39.39.9.59 1.41.59.51 0 1.02-.2 1.41-.59l7.78-7.78 2.81-2.81c.8-.78.8-2.07 0-2.86zM5.41 20L4 18.59l7.72-7.72 1.47 1.35L5.41 20z\"/>\n",
              "  </svg>\n",
              "      </button>\n",
              "      \n",
              "  <style>\n",
              "    .colab-df-container {\n",
              "      display:flex;\n",
              "      flex-wrap:wrap;\n",
              "      gap: 12px;\n",
              "    }\n",
              "\n",
              "    .colab-df-convert {\n",
              "      background-color: #E8F0FE;\n",
              "      border: none;\n",
              "      border-radius: 50%;\n",
              "      cursor: pointer;\n",
              "      display: none;\n",
              "      fill: #1967D2;\n",
              "      height: 32px;\n",
              "      padding: 0 0 0 0;\n",
              "      width: 32px;\n",
              "    }\n",
              "\n",
              "    .colab-df-convert:hover {\n",
              "      background-color: #E2EBFA;\n",
              "      box-shadow: 0px 1px 2px rgba(60, 64, 67, 0.3), 0px 1px 3px 1px rgba(60, 64, 67, 0.15);\n",
              "      fill: #174EA6;\n",
              "    }\n",
              "\n",
              "    [theme=dark] .colab-df-convert {\n",
              "      background-color: #3B4455;\n",
              "      fill: #D2E3FC;\n",
              "    }\n",
              "\n",
              "    [theme=dark] .colab-df-convert:hover {\n",
              "      background-color: #434B5C;\n",
              "      box-shadow: 0px 1px 3px 1px rgba(0, 0, 0, 0.15);\n",
              "      filter: drop-shadow(0px 1px 2px rgba(0, 0, 0, 0.3));\n",
              "      fill: #FFFFFF;\n",
              "    }\n",
              "  </style>\n",
              "\n",
              "      <script>\n",
              "        const buttonEl =\n",
              "          document.querySelector('#df-ee08ba34-6024-45bb-8d1b-ec43752bd601 button.colab-df-convert');\n",
              "        buttonEl.style.display =\n",
              "          google.colab.kernel.accessAllowed ? 'block' : 'none';\n",
              "\n",
              "        async function convertToInteractive(key) {\n",
              "          const element = document.querySelector('#df-ee08ba34-6024-45bb-8d1b-ec43752bd601');\n",
              "          const dataTable =\n",
              "            await google.colab.kernel.invokeFunction('convertToInteractive',\n",
              "                                                     [key], {});\n",
              "          if (!dataTable) return;\n",
              "\n",
              "          const docLinkHtml = 'Like what you see? Visit the ' +\n",
              "            '<a target=\"_blank\" href=https://colab.research.google.com/notebooks/data_table.ipynb>data table notebook</a>'\n",
              "            + ' to learn more about interactive tables.';\n",
              "          element.innerHTML = '';\n",
              "          dataTable['output_type'] = 'display_data';\n",
              "          await google.colab.output.renderOutput(dataTable, element);\n",
              "          const docLink = document.createElement('div');\n",
              "          docLink.innerHTML = docLinkHtml;\n",
              "          element.appendChild(docLink);\n",
              "        }\n",
              "      </script>\n",
              "    </div>\n",
              "  </div>\n",
              "  "
            ]
          },
          "metadata": {},
          "execution_count": 24
        }
      ],
      "source": [
        "original_copia.isnull()"
      ]
    },
    {
      "cell_type": "code",
      "execution_count": 25,
      "metadata": {
        "colab": {
          "base_uri": "https://localhost:8080/"
        },
        "id": "jFBub0Or5xoP",
        "outputId": "b310e4b2-7e8d-4a5b-a957-afc1b8f60e78"
      },
      "outputs": [
        {
          "output_type": "execute_result",
          "data": {
            "text/plain": [
              "317"
            ]
          },
          "metadata": {},
          "execution_count": 25
        }
      ],
      "source": [
        "original_copia['NOME_CURSO_BOLSA'].nunique()"
      ]
    },
    {
      "cell_type": "markdown",
      "metadata": {
        "id": "FWkkx47dLitW"
      },
      "source": [
        "##Verificando se há um 'TRUE'que indique valores nulos"
      ]
    },
    {
      "cell_type": "code",
      "execution_count": 26,
      "metadata": {
        "colab": {
          "base_uri": "https://localhost:8080/"
        },
        "id": "K3_m5b4l6Avo",
        "outputId": "3f45a3d4-10e3-4333-edb1-4e4099480bb0"
      },
      "outputs": [
        {
          "output_type": "execute_result",
          "data": {
            "text/plain": [
              "ANO_CONCESSAO_BOLSA               1\n",
              "CODIGO_EMEC_IES_BOLSA             1\n",
              "NOME_IES_BOLSA                    1\n",
              "MUNICIPIO                         1\n",
              "CAMPUS                            1\n",
              "TIPO_BOLSA                        1\n",
              "MODALIDADE_ENSINO_BOLSA           1\n",
              "NOME_CURSO_BOLSA                  2\n",
              "NOME_TURNO_CURSO_BOLSA            1\n",
              "CPF_BENEFICIARIO                  1\n",
              "SEXO_BENEFICIARIO                 1\n",
              "RACA_BENEFICIARIO                 1\n",
              "DATA_NASCIMENTO                   1\n",
              "BENEFICIARIO_DEFICIENTE_FISICO    1\n",
              "REGIAO_BENEFICIARIO               1\n",
              "UF_BENEFICIARIO                   1\n",
              "MUNICIPIO_BENEFICIARIO            1\n",
              "dtype: int64"
            ]
          },
          "metadata": {},
          "execution_count": 26
        }
      ],
      "source": [
        "original_copia.isnull().nunique()\n"
      ]
    },
    {
      "cell_type": "markdown",
      "metadata": {
        "id": "IKbBlvQ0Lp-u"
      },
      "source": [
        "##Conforme também verificado com o 'nunique', há algo a ser observado no campo \"NOME_CURSO_BOLSA\". Problema desde a origem, pois coluna não foi manipulada. Campos nulos serão tratados na sequência."
      ]
    },
    {
      "cell_type": "code",
      "execution_count": 127,
      "metadata": {
        "id": "p7kEUzRp8yU-"
      },
      "outputs": [],
      "source": [
        "nome_curso_bolsa_ordem = original_copia['NOME_CURSO_BOLSA'].value_counts()"
      ]
    },
    {
      "cell_type": "code",
      "execution_count": 128,
      "metadata": {
        "colab": {
          "base_uri": "https://localhost:8080/"
        },
        "id": "fHYRsYPj8yp9",
        "outputId": "36d84fb1-854d-4d27-abce-88bdcc5504e5"
      },
      "outputs": [
        {
          "output_type": "execute_result",
          "data": {
            "text/plain": [
              "MINISTRIO PASTORAL                                       1\n",
              "GESTÇO EM LOGÖSTICA                                       1\n",
              "AQICULTURA                                               1\n",
              "SECRETARIADO EXECUTIVO BILINGUE - PORTUGUÒS/INGLÒS        1\n",
              "GESTÇO EM SAéDE AMBIENTAL                                 1\n",
              "                                                      ...  \n",
              "CIÒNCIAS CONTµBEIS                                     8570\n",
              "ENFERMAGEM                                             9234\n",
              "PEDAGOGIA                                             13660\n",
              "ADMINISTRAÇO                                         14888\n",
              "DIREITO                                               15082\n",
              "Name: NOME_CURSO_BOLSA, Length: 318, dtype: int64"
            ]
          },
          "metadata": {},
          "execution_count": 128
        }
      ],
      "source": [
        "nome_curso_bolsa_ordem.sort_values()"
      ]
    },
    {
      "cell_type": "markdown",
      "metadata": {
        "id": "euGpaE1PL-08"
      },
      "source": [
        "##Verificando quais as linhas que estão com valores nulos no DataFrame"
      ]
    },
    {
      "cell_type": "code",
      "execution_count": 31,
      "metadata": {
        "id": "vyUuDXC2IbG9"
      },
      "outputs": [],
      "source": [
        "faltantes = original[original['NOME_CURSO_BOLSA'].isna()]\n"
      ]
    },
    {
      "cell_type": "code",
      "execution_count": 32,
      "metadata": {
        "colab": {
          "base_uri": "https://localhost:8080/",
          "height": 1000
        },
        "id": "sXZe2k-DKLbt",
        "outputId": "76f76e61-045e-40e0-8b3b-52ed1c478fbb"
      },
      "outputs": [
        {
          "output_type": "execute_result",
          "data": {
            "text/plain": [
              "        ANO_CONCESSAO_BOLSA  CODIGO_EMEC_IES_BOLSA  \\\n",
              "166273                 2020                   1270   \n",
              "166274                 2020                     14   \n",
              "166353                 2020                    519   \n",
              "166405                 2020                    137   \n",
              "166406                 2020                   4915   \n",
              "166407                 2020                    457   \n",
              "166420                 2020                    434   \n",
              "166421                 2020                    163   \n",
              "166472                 2020                   1414   \n",
              "166491                 2020                   2835   \n",
              "166526                 2020                    316   \n",
              "166527                 2020                    316   \n",
              "166528                 2020                     21   \n",
              "166532                 2020                     22   \n",
              "166540                 2020                   1414   \n",
              "166541                 2020                   1414   \n",
              "166542                 2020                   1422   \n",
              "166557                 2020                     13   \n",
              "166573                 2020                    823   \n",
              "166615                 2020                    271   \n",
              "166629                 2020                   1558   \n",
              "166666                 2020                    450   \n",
              "166667                 2020                     13   \n",
              "166668                 2020                    316   \n",
              "166674                 2020                    374   \n",
              "166692                 2020                   5591   \n",
              "166693                 2020                    298   \n",
              "166694                 2020                    163   \n",
              "166717                 2020                    298   \n",
              "166738                 2020                   2756   \n",
              "166739                 2020                   1986   \n",
              "166740                 2020                    163   \n",
              "166780                 2020                    163   \n",
              "166789                 2020                   5544   \n",
              "166790                 2020                    353   \n",
              "166791                 2020                    353   \n",
              "166794                 2020                   5544   \n",
              "166820                 2020                    757   \n",
              "\n",
              "                                           NOME_IES_BOLSA  \\\n",
              "166273     CENTRO UNIVERSITµRIO ESTµCIO DE RIBEIRÇO PRETO   \n",
              "166274              UNIVERSIDADE DO VALE DO RIO DOS SINOS   \n",
              "166353                  UNIVERSIDADE CATàLICA DO SALVADOR   \n",
              "166405               CENTRO UNIVERSITµRIO SAGRADO CORAÇO   \n",
              "166406                     FACULDADE ESTµCIO DE CASTANHAL   \n",
              "166407               UNIVERSIDADE ANHANGUERA DE SÇO PAULO   \n",
              "166420                          FACULDADE SANTA MARCELINA   \n",
              "166421                         UNIVERSIDADE ESTµCIO DE Sµ   \n",
              "166472                     CENTRO UNIVERSITµRIO SÇO LUCAS   \n",
              "166491            CENTRO UNIVERSITµRIO MAURÖCIO DE NASSAU   \n",
              "166526                         UNIVERSIDADE NOVE DE JULHO   \n",
              "166527                         UNIVERSIDADE NOVE DE JULHO   \n",
              "166528  PONTIFÖCIA UNIVERSIDADE CATàLICA DO RIO GRANDE...   \n",
              "166532               UNIVERSIDADE PRESBITERIANA MACKENZIE   \n",
              "166540                     CENTRO UNIVERSITµRIO SÇO LUCAS   \n",
              "166541                     CENTRO UNIVERSITµRIO SÇO LUCAS   \n",
              "166542                      CENTRO UNIVERSITµRIO DO NORTE   \n",
              "166557                      UNIVERSIDADE DE CAXIAS DO SUL   \n",
              "166573                                 UNIVERSIDADE CEUMA   \n",
              "166615                     UNIVERSIDADE DO OESTE PAULISTA   \n",
              "166629                 FACULDADE DOCTUM DE JOÇO MONLEVADE   \n",
              "166666           CENTRO UNIVERSITµRIO SÇO LUCAS JI-PARANµ   \n",
              "166667                      UNIVERSIDADE DE CAXIAS DO SUL   \n",
              "166668                         UNIVERSIDADE NOVE DE JULHO   \n",
              "166674  CENTRO UNIVERSITµRIO DAS FACULDADES METROPOLIT...   \n",
              "166692                       FACULDADES INTEGRADAS CAMåES   \n",
              "166693                      UNIVERSIDADE PITµGORAS UNOPAR   \n",
              "166694                         UNIVERSIDADE ESTµCIO DE Sµ   \n",
              "166717                      UNIVERSIDADE PITµGORAS UNOPAR   \n",
              "166738                 FACULDADE ANHANGUERA DE VALPARAÖSO   \n",
              "166739  CENTRO UNIVERSITµRIO ESTµCIO JUIZ DE FORA - ES...   \n",
              "166740                         UNIVERSIDADE ESTµCIO DE Sµ   \n",
              "166780                         UNIVERSIDADE ESTµCIO DE Sµ   \n",
              "166789                FACULDADE PRESIDENTE ANTâNIO CARLOS   \n",
              "166790           FACULDADE EVANGLICA MACKENZIE DO PARANµ   \n",
              "166791           FACULDADE EVANGLICA MACKENZIE DO PARANµ   \n",
              "166794                FACULDADE PRESIDENTE ANTâNIO CARLOS   \n",
              "166820                   CENTRO UNIVERSITµRIO DA AMAZâNIA   \n",
              "\n",
              "                   MUNICIPIO  \\\n",
              "166273                ITAJAI   \n",
              "166274         CAXIAS DO SUL   \n",
              "166353              SALVADOR   \n",
              "166405                 BAURU   \n",
              "166406             CASTANHAL   \n",
              "166407             SAO PAULO   \n",
              "166420             SAO PAULO   \n",
              "166421        RIO DE JANEIRO   \n",
              "166472           PORTO VELHO   \n",
              "166491                RECIFE   \n",
              "166526             SAO PAULO   \n",
              "166527             SAO PAULO   \n",
              "166528          PORTO ALEGRE   \n",
              "166532             SAO PAULO   \n",
              "166540           PORTO VELHO   \n",
              "166541           PORTO VELHO   \n",
              "166542                MANAUS   \n",
              "166557         CAXIAS DO SUL   \n",
              "166573            IMPERATRIZ   \n",
              "166615               GUARUJA   \n",
              "166629        JOAO MONLEVADE   \n",
              "166666             JI-PARANA   \n",
              "166667         CAXIAS DO SUL   \n",
              "166668             SAO PAULO   \n",
              "166674             SAO PAULO   \n",
              "166692              CURITIBA   \n",
              "166693                   UBA   \n",
              "166694        RIO DE JANEIRO   \n",
              "166717             GUARAPARI   \n",
              "166738   VALPARAISO DE GOIAS   \n",
              "166739          JUIZ DE FORA   \n",
              "166740  SAO JOSE DOS PINHAIS   \n",
              "166780               NITEROI   \n",
              "166789        PORTO NACIONAL   \n",
              "166790              CURITIBA   \n",
              "166791              CURITIBA   \n",
              "166794        PORTO NACIONAL   \n",
              "166820              SANTAREM   \n",
              "\n",
              "                                                   CAMPUS TIPO_BOLSA  \\\n",
              "166273                                    EAD ITAJAÖ - SC   INTEGRAL   \n",
              "166274                        POLO UNISINOS CAXIAS DO SUL   INTEGRAL   \n",
              "166353                                 CAMPUS - FEDERAÇO   INTEGRAL   \n",
              "166405                     CAMPUS - BAURU - JARDIM BRASIL   INTEGRAL   \n",
              "166406                                          CASTANHAL   INTEGRAL   \n",
              "166407                                     SAO PAULO (CL)   INTEGRAL   \n",
              "166420                                   UNIDADE ITAQUERA   INTEGRAL   \n",
              "166421                                EAD BONSUCESSO - RJ   INTEGRAL   \n",
              "166472                                           CAMPUS 1    PARCIAL   \n",
              "166491                                   UNINASSAU - SEDE   INTEGRAL   \n",
              "166526                             UNIDADE VERGUEIRO SEDE   INTEGRAL   \n",
              "166527                                      VILA PRUDENTE   INTEGRAL   \n",
              "166528                             CENTRAL - PORTO ALEGRE   INTEGRAL   \n",
              "166532                   CAMPUS  - SÇO PAULO - CONSOLAÇO   INTEGRAL   \n",
              "166540                      CAMPUS  - PORTO VELHO - AREAL    PARCIAL   \n",
              "166541                      CAMPUS  - PORTO VELHO - AREAL    PARCIAL   \n",
              "166542                            UNIDADE DE ENSINO PLAZA   INTEGRAL   \n",
              "166557                                        CAMPUS SEDE    PARCIAL   \n",
              "166573  UNIVERSIDADE DO CEUMA - UNICEUMA - CAMPUS IMPE...    PARCIAL   \n",
              "166615                                            GUARUJµ   INTEGRAL   \n",
              "166629                                       UNIDADE SEDE   INTEGRAL   \n",
              "166666                                       UNIDADE SEDE   INTEGRAL   \n",
              "166667                                        CAMPUS SEDE   INTEGRAL   \n",
              "166668                                         VILA MARIA   INTEGRAL   \n",
              "166674             FMU - BRIGADEIRO - PRDIOS 32/39/43/44   INTEGRAL   \n",
              "166692                                             MERCÒS   INTEGRAL   \n",
              "166693                                  UBA/MG - I(8548)U   INTEGRAL   \n",
              "166694                                         JOÇO UCHOA   INTEGRAL   \n",
              "166717                         GUARAPARI/ES - I(1059479)U   INTEGRAL   \n",
              "166738      FACULDADE ANHANGUERA DE VALPARAÖSO - QUADRA 5   INTEGRAL   \n",
              "166739                                         RIO BRANCO   INTEGRAL   \n",
              "166740                      EAD SÇO JOS DOS PINHAIS - PR   INTEGRAL   \n",
              "166780                                        NITERàI III   INTEGRAL   \n",
              "166789                             ITPAC - PORTO NACIONAL   INTEGRAL   \n",
              "166790                                       UNIDADE SEDE   INTEGRAL   \n",
              "166791                                       UNIDADE SEDE   INTEGRAL   \n",
              "166794                             ITPAC - PORTO NACIONAL   INTEGRAL   \n",
              "166820                                       UNIDADE SEDE   INTEGRAL   \n",
              "\n",
              "       MODALIDADE_ENSINO_BOLSA NOME_CURSO_BOLSA NOME_TURNO_CURSO_BOLSA  \\\n",
              "166273                     EAD              NaN      CURSO A DIST¶NCIA   \n",
              "166274                     EAD              NaN      CURSO A DIST¶NCIA   \n",
              "166353              PRESENCIAL              NaN               MATUTINO   \n",
              "166405              PRESENCIAL              NaN                NOTURNO   \n",
              "166406              PRESENCIAL              NaN                NOTURNO   \n",
              "166407              PRESENCIAL              NaN               MATUTINO   \n",
              "166420              PRESENCIAL              NaN               INTEGRAL   \n",
              "166421                     EAD              NaN      CURSO A DIST¶NCIA   \n",
              "166472              PRESENCIAL              NaN               INTEGRAL   \n",
              "166491              PRESENCIAL              NaN               MATUTINO   \n",
              "166526              PRESENCIAL              NaN             VESPERTINO   \n",
              "166527              PRESENCIAL              NaN                NOTURNO   \n",
              "166528              PRESENCIAL              NaN               MATUTINO   \n",
              "166532              PRESENCIAL              NaN               MATUTINO   \n",
              "166540              PRESENCIAL              NaN               INTEGRAL   \n",
              "166541              PRESENCIAL              NaN               INTEGRAL   \n",
              "166542              PRESENCIAL              NaN                NOTURNO   \n",
              "166557              PRESENCIAL              NaN                NOTURNO   \n",
              "166573              PRESENCIAL              NaN               INTEGRAL   \n",
              "166615              PRESENCIAL              NaN               INTEGRAL   \n",
              "166629              PRESENCIAL              NaN                NOTURNO   \n",
              "166666              PRESENCIAL              NaN                NOTURNO   \n",
              "166667              PRESENCIAL              NaN               INTEGRAL   \n",
              "166668              PRESENCIAL              NaN               MATUTINO   \n",
              "166674              PRESENCIAL              NaN                NOTURNO   \n",
              "166692              PRESENCIAL              NaN                NOTURNO   \n",
              "166693                     EAD              NaN      CURSO A DIST¶NCIA   \n",
              "166694              PRESENCIAL              NaN               MATUTINO   \n",
              "166717                     EAD              NaN      CURSO A DIST¶NCIA   \n",
              "166738              PRESENCIAL              NaN                NOTURNO   \n",
              "166739              PRESENCIAL              NaN               INTEGRAL   \n",
              "166740                     EAD              NaN      CURSO A DIST¶NCIA   \n",
              "166780              PRESENCIAL              NaN                NOTURNO   \n",
              "166789              PRESENCIAL              NaN               INTEGRAL   \n",
              "166790              PRESENCIAL              NaN               INTEGRAL   \n",
              "166791              PRESENCIAL              NaN               INTEGRAL   \n",
              "166794              PRESENCIAL              NaN               INTEGRAL   \n",
              "166820              PRESENCIAL              NaN               MATUTINO   \n",
              "\n",
              "       CPF_BENEFICIARIO SEXO_BENEFICIARIO RACA_BENEFICIARIO DATA_NASCIMENTO  \\\n",
              "166273   106.XXX.XXX-77                 F            Branca      01/06/1998   \n",
              "166274   868.XXX.XXX-53                 M             Parda      07/07/1983   \n",
              "166353   075.XXX.XXX-12                 F     NÆo Informada      12/06/1999   \n",
              "166405   465.XXX.XXX-85                 M            Branca      17/11/2000   \n",
              "166406   053.XXX.XXX-46                 M     NÆo Informada      13/09/2001   \n",
              "166407   424.XXX.XXX-35                 F            Branca      28/12/1996   \n",
              "166420   122.XXX.XXX-06                 M            Branca      27/01/2000   \n",
              "166421   118.XXX.XXX-33                 M             Preta      02/10/1996   \n",
              "166472   147.XXX.XXX-90                 F             Parda      18/01/1995   \n",
              "166491   131.XXX.XXX-59                 M             Parda      09/11/2000   \n",
              "166526   421.XXX.XXX-84                 M            Branca      19/02/2001   \n",
              "166527   090.XXX.XXX-13                 M            Branca      14/10/2001   \n",
              "166528   038.XXX.XXX-01                 F            Branca      17/04/1997   \n",
              "166532   442.XXX.XXX-02                 M            Branca      08/06/1999   \n",
              "166540   985.XXX.XXX-87                 F             Parda      17/02/1994   \n",
              "166541   083.XXX.XXX-48                 M             Parda      18/08/2000   \n",
              "166542   018.XXX.XXX-56                 F     NÆo Informada      10/05/1997   \n",
              "166557   033.XXX.XXX-00                 M            Branca      16/05/2001   \n",
              "166573   066.XXX.XXX-40                 M             Parda      06/03/1997   \n",
              "166615   363.XXX.XXX-08                 F            Branca      02/07/2002   \n",
              "166629   159.XXX.XXX-70                 M            Branca      13/07/2001   \n",
              "166666   050.XXX.XXX-16                 F             Parda      03/12/2001   \n",
              "166667   043.XXX.XXX-96                 M            Branca      17/02/1999   \n",
              "166668   478.XXX.XXX-08                 F            Branca      09/04/2000   \n",
              "166674   511.XXX.XXX-20                 M            Branca      10/03/2002   \n",
              "166692   104.XXX.XXX-33                 F            Branca      04/02/2000   \n",
              "166693   136.XXX.XXX-64                 F            Branca      29/12/1999   \n",
              "166694   151.XXX.XXX-76                 M             Preta      03/03/1995   \n",
              "166717   151.XXX.XXX-99                 F             Parda      23/10/2019   \n",
              "166738   072.XXX.XXX-86                 F     NÆo Informada      06/10/1998   \n",
              "166739   121.XXX.XXX-10                 M             Parda      03/05/2002   \n",
              "166740   071.XXX.XXX-75                 M            Branca      02/09/1993   \n",
              "166780   105.XXX.XXX-97                 F     NÆo Informada      17/11/1984   \n",
              "166789   013.XXX.XXX-25                 F            Branca      09/11/2002   \n",
              "166790   089.XXX.XXX-66                 F            Branca      10/06/1998   \n",
              "166791   100.XXX.XXX-51                 F            Branca      11/05/1999   \n",
              "166794   013.XXX.XXX-40                 F            Branca      20/11/1999   \n",
              "166820   040.XXX.XXX-35                 F             Parda      27/09/2002   \n",
              "\n",
              "       BENEFICIARIO_DEFICIENTE_FISICO REGIAO_BENEFICIARIO UF_BENEFICIARIO  \\\n",
              "166273                              N                 SUL              SC   \n",
              "166274                              N                 SUL              RS   \n",
              "166353                              N            NORDESTE              BA   \n",
              "166405                              N             SUDESTE              SP   \n",
              "166406                              N               NORTE              PA   \n",
              "166407                              N             SUDESTE              SP   \n",
              "166420                              N             SUDESTE              MG   \n",
              "166421                              N             SUDESTE              RJ   \n",
              "166472                              N               NORTE              PA   \n",
              "166491                              N            NORDESTE              PE   \n",
              "166526                              N            NORDESTE              BA   \n",
              "166527                              N             SUDESTE              SP   \n",
              "166528                              N                 SUL              RS   \n",
              "166532                              N             SUDESTE              SP   \n",
              "166540                              N               NORTE              RO   \n",
              "166541                              N            NORDESTE              BA   \n",
              "166542                              N               NORTE              AM   \n",
              "166557                              N                 SUL              RS   \n",
              "166573                              N            NORDESTE              CE   \n",
              "166615                              N             SUDESTE              SP   \n",
              "166629                              N             SUDESTE              MG   \n",
              "166666                              N               NORTE              RO   \n",
              "166667                              N                 SUL              RS   \n",
              "166668                              N             SUDESTE              SP   \n",
              "166674                              N             SUDESTE              SP   \n",
              "166692                              N                 SUL              PR   \n",
              "166693                              N             SUDESTE              MG   \n",
              "166694                              N             SUDESTE              RJ   \n",
              "166717                              N             SUDESTE              ES   \n",
              "166738                              N        CENTRO-OESTE              GO   \n",
              "166739                              N             SUDESTE              MG   \n",
              "166740                              N                 SUL              PR   \n",
              "166780                              N             SUDESTE              RJ   \n",
              "166789                              N            NORDESTE              MA   \n",
              "166790                              N                 SUL              PR   \n",
              "166791                              N            NORDESTE              PE   \n",
              "166794                              N            NORDESTE              MA   \n",
              "166820                              N               NORTE              PA   \n",
              "\n",
              "         MUNICIPIO_BENEFICIARIO  \n",
              "166273                   ITAJAI  \n",
              "166274            CAXIAS DO SUL  \n",
              "166353             SIMOES FILHO  \n",
              "166405                  IACANGA  \n",
              "166406               ABAETETUBA  \n",
              "166407          TABOAO DA SERRA  \n",
              "166420            PARA DE MINAS  \n",
              "166421           RIO DE JANEIRO  \n",
              "166472                   MARABA  \n",
              "166491  JABOATAO DOS GUARARAPES  \n",
              "166526                 MACAUBAS  \n",
              "166527                SAO PAULO  \n",
              "166528             PORTO ALEGRE  \n",
              "166532                SAO PAULO  \n",
              "166540              PORTO VELHO  \n",
              "166541                   JEQUIE  \n",
              "166542                   MANAUS  \n",
              "166557          FLORES DA CUNHA  \n",
              "166573                      IPU  \n",
              "166615              CARAPICUIBA  \n",
              "166629           JOAO MONLEVADE  \n",
              "166666                JI-PARANA  \n",
              "166667              CHARQUEADAS  \n",
              "166668                  ITAPEVI  \n",
              "166674                SAO PAULO  \n",
              "166692                PIRAQUARA  \n",
              "166693                      UBA  \n",
              "166694           RIO DE JANEIRO  \n",
              "166717                GUARAPARI  \n",
              "166738                 LUZIANIA  \n",
              "166739                      UBA  \n",
              "166740                     LAPA  \n",
              "166780                  NITEROI  \n",
              "166789               ACAILANDIA  \n",
              "166790              CAMPO LARGO  \n",
              "166791                 PAULISTA  \n",
              "166794              JOAO LISBOA  \n",
              "166820                 SANTAREM  "
            ],
            "text/html": [
              "\n",
              "  <div id=\"df-59a46f23-3932-43f1-83e2-ae2d606dd808\">\n",
              "    <div class=\"colab-df-container\">\n",
              "      <div>\n",
              "<style scoped>\n",
              "    .dataframe tbody tr th:only-of-type {\n",
              "        vertical-align: middle;\n",
              "    }\n",
              "\n",
              "    .dataframe tbody tr th {\n",
              "        vertical-align: top;\n",
              "    }\n",
              "\n",
              "    .dataframe thead th {\n",
              "        text-align: right;\n",
              "    }\n",
              "</style>\n",
              "<table border=\"1\" class=\"dataframe\">\n",
              "  <thead>\n",
              "    <tr style=\"text-align: right;\">\n",
              "      <th></th>\n",
              "      <th>ANO_CONCESSAO_BOLSA</th>\n",
              "      <th>CODIGO_EMEC_IES_BOLSA</th>\n",
              "      <th>NOME_IES_BOLSA</th>\n",
              "      <th>MUNICIPIO</th>\n",
              "      <th>CAMPUS</th>\n",
              "      <th>TIPO_BOLSA</th>\n",
              "      <th>MODALIDADE_ENSINO_BOLSA</th>\n",
              "      <th>NOME_CURSO_BOLSA</th>\n",
              "      <th>NOME_TURNO_CURSO_BOLSA</th>\n",
              "      <th>CPF_BENEFICIARIO</th>\n",
              "      <th>SEXO_BENEFICIARIO</th>\n",
              "      <th>RACA_BENEFICIARIO</th>\n",
              "      <th>DATA_NASCIMENTO</th>\n",
              "      <th>BENEFICIARIO_DEFICIENTE_FISICO</th>\n",
              "      <th>REGIAO_BENEFICIARIO</th>\n",
              "      <th>UF_BENEFICIARIO</th>\n",
              "      <th>MUNICIPIO_BENEFICIARIO</th>\n",
              "    </tr>\n",
              "  </thead>\n",
              "  <tbody>\n",
              "    <tr>\n",
              "      <th>166273</th>\n",
              "      <td>2020</td>\n",
              "      <td>1270</td>\n",
              "      <td>CENTRO UNIVERSITµRIO ESTµCIO DE RIBEIRÇO PRETO</td>\n",
              "      <td>ITAJAI</td>\n",
              "      <td>EAD ITAJAÖ - SC</td>\n",
              "      <td>INTEGRAL</td>\n",
              "      <td>EAD</td>\n",
              "      <td>NaN</td>\n",
              "      <td>CURSO A DIST¶NCIA</td>\n",
              "      <td>106.XXX.XXX-77</td>\n",
              "      <td>F</td>\n",
              "      <td>Branca</td>\n",
              "      <td>01/06/1998</td>\n",
              "      <td>N</td>\n",
              "      <td>SUL</td>\n",
              "      <td>SC</td>\n",
              "      <td>ITAJAI</td>\n",
              "    </tr>\n",
              "    <tr>\n",
              "      <th>166274</th>\n",
              "      <td>2020</td>\n",
              "      <td>14</td>\n",
              "      <td>UNIVERSIDADE DO VALE DO RIO DOS SINOS</td>\n",
              "      <td>CAXIAS DO SUL</td>\n",
              "      <td>POLO UNISINOS CAXIAS DO SUL</td>\n",
              "      <td>INTEGRAL</td>\n",
              "      <td>EAD</td>\n",
              "      <td>NaN</td>\n",
              "      <td>CURSO A DIST¶NCIA</td>\n",
              "      <td>868.XXX.XXX-53</td>\n",
              "      <td>M</td>\n",
              "      <td>Parda</td>\n",
              "      <td>07/07/1983</td>\n",
              "      <td>N</td>\n",
              "      <td>SUL</td>\n",
              "      <td>RS</td>\n",
              "      <td>CAXIAS DO SUL</td>\n",
              "    </tr>\n",
              "    <tr>\n",
              "      <th>166353</th>\n",
              "      <td>2020</td>\n",
              "      <td>519</td>\n",
              "      <td>UNIVERSIDADE CATàLICA DO SALVADOR</td>\n",
              "      <td>SALVADOR</td>\n",
              "      <td>CAMPUS - FEDERAÇO</td>\n",
              "      <td>INTEGRAL</td>\n",
              "      <td>PRESENCIAL</td>\n",
              "      <td>NaN</td>\n",
              "      <td>MATUTINO</td>\n",
              "      <td>075.XXX.XXX-12</td>\n",
              "      <td>F</td>\n",
              "      <td>NÆo Informada</td>\n",
              "      <td>12/06/1999</td>\n",
              "      <td>N</td>\n",
              "      <td>NORDESTE</td>\n",
              "      <td>BA</td>\n",
              "      <td>SIMOES FILHO</td>\n",
              "    </tr>\n",
              "    <tr>\n",
              "      <th>166405</th>\n",
              "      <td>2020</td>\n",
              "      <td>137</td>\n",
              "      <td>CENTRO UNIVERSITµRIO SAGRADO CORAÇO</td>\n",
              "      <td>BAURU</td>\n",
              "      <td>CAMPUS - BAURU - JARDIM BRASIL</td>\n",
              "      <td>INTEGRAL</td>\n",
              "      <td>PRESENCIAL</td>\n",
              "      <td>NaN</td>\n",
              "      <td>NOTURNO</td>\n",
              "      <td>465.XXX.XXX-85</td>\n",
              "      <td>M</td>\n",
              "      <td>Branca</td>\n",
              "      <td>17/11/2000</td>\n",
              "      <td>N</td>\n",
              "      <td>SUDESTE</td>\n",
              "      <td>SP</td>\n",
              "      <td>IACANGA</td>\n",
              "    </tr>\n",
              "    <tr>\n",
              "      <th>166406</th>\n",
              "      <td>2020</td>\n",
              "      <td>4915</td>\n",
              "      <td>FACULDADE ESTµCIO DE CASTANHAL</td>\n",
              "      <td>CASTANHAL</td>\n",
              "      <td>CASTANHAL</td>\n",
              "      <td>INTEGRAL</td>\n",
              "      <td>PRESENCIAL</td>\n",
              "      <td>NaN</td>\n",
              "      <td>NOTURNO</td>\n",
              "      <td>053.XXX.XXX-46</td>\n",
              "      <td>M</td>\n",
              "      <td>NÆo Informada</td>\n",
              "      <td>13/09/2001</td>\n",
              "      <td>N</td>\n",
              "      <td>NORTE</td>\n",
              "      <td>PA</td>\n",
              "      <td>ABAETETUBA</td>\n",
              "    </tr>\n",
              "    <tr>\n",
              "      <th>166407</th>\n",
              "      <td>2020</td>\n",
              "      <td>457</td>\n",
              "      <td>UNIVERSIDADE ANHANGUERA DE SÇO PAULO</td>\n",
              "      <td>SAO PAULO</td>\n",
              "      <td>SAO PAULO (CL)</td>\n",
              "      <td>INTEGRAL</td>\n",
              "      <td>PRESENCIAL</td>\n",
              "      <td>NaN</td>\n",
              "      <td>MATUTINO</td>\n",
              "      <td>424.XXX.XXX-35</td>\n",
              "      <td>F</td>\n",
              "      <td>Branca</td>\n",
              "      <td>28/12/1996</td>\n",
              "      <td>N</td>\n",
              "      <td>SUDESTE</td>\n",
              "      <td>SP</td>\n",
              "      <td>TABOAO DA SERRA</td>\n",
              "    </tr>\n",
              "    <tr>\n",
              "      <th>166420</th>\n",
              "      <td>2020</td>\n",
              "      <td>434</td>\n",
              "      <td>FACULDADE SANTA MARCELINA</td>\n",
              "      <td>SAO PAULO</td>\n",
              "      <td>UNIDADE ITAQUERA</td>\n",
              "      <td>INTEGRAL</td>\n",
              "      <td>PRESENCIAL</td>\n",
              "      <td>NaN</td>\n",
              "      <td>INTEGRAL</td>\n",
              "      <td>122.XXX.XXX-06</td>\n",
              "      <td>M</td>\n",
              "      <td>Branca</td>\n",
              "      <td>27/01/2000</td>\n",
              "      <td>N</td>\n",
              "      <td>SUDESTE</td>\n",
              "      <td>MG</td>\n",
              "      <td>PARA DE MINAS</td>\n",
              "    </tr>\n",
              "    <tr>\n",
              "      <th>166421</th>\n",
              "      <td>2020</td>\n",
              "      <td>163</td>\n",
              "      <td>UNIVERSIDADE ESTµCIO DE Sµ</td>\n",
              "      <td>RIO DE JANEIRO</td>\n",
              "      <td>EAD BONSUCESSO - RJ</td>\n",
              "      <td>INTEGRAL</td>\n",
              "      <td>EAD</td>\n",
              "      <td>NaN</td>\n",
              "      <td>CURSO A DIST¶NCIA</td>\n",
              "      <td>118.XXX.XXX-33</td>\n",
              "      <td>M</td>\n",
              "      <td>Preta</td>\n",
              "      <td>02/10/1996</td>\n",
              "      <td>N</td>\n",
              "      <td>SUDESTE</td>\n",
              "      <td>RJ</td>\n",
              "      <td>RIO DE JANEIRO</td>\n",
              "    </tr>\n",
              "    <tr>\n",
              "      <th>166472</th>\n",
              "      <td>2020</td>\n",
              "      <td>1414</td>\n",
              "      <td>CENTRO UNIVERSITµRIO SÇO LUCAS</td>\n",
              "      <td>PORTO VELHO</td>\n",
              "      <td>CAMPUS 1</td>\n",
              "      <td>PARCIAL</td>\n",
              "      <td>PRESENCIAL</td>\n",
              "      <td>NaN</td>\n",
              "      <td>INTEGRAL</td>\n",
              "      <td>147.XXX.XXX-90</td>\n",
              "      <td>F</td>\n",
              "      <td>Parda</td>\n",
              "      <td>18/01/1995</td>\n",
              "      <td>N</td>\n",
              "      <td>NORTE</td>\n",
              "      <td>PA</td>\n",
              "      <td>MARABA</td>\n",
              "    </tr>\n",
              "    <tr>\n",
              "      <th>166491</th>\n",
              "      <td>2020</td>\n",
              "      <td>2835</td>\n",
              "      <td>CENTRO UNIVERSITµRIO MAURÖCIO DE NASSAU</td>\n",
              "      <td>RECIFE</td>\n",
              "      <td>UNINASSAU - SEDE</td>\n",
              "      <td>INTEGRAL</td>\n",
              "      <td>PRESENCIAL</td>\n",
              "      <td>NaN</td>\n",
              "      <td>MATUTINO</td>\n",
              "      <td>131.XXX.XXX-59</td>\n",
              "      <td>M</td>\n",
              "      <td>Parda</td>\n",
              "      <td>09/11/2000</td>\n",
              "      <td>N</td>\n",
              "      <td>NORDESTE</td>\n",
              "      <td>PE</td>\n",
              "      <td>JABOATAO DOS GUARARAPES</td>\n",
              "    </tr>\n",
              "    <tr>\n",
              "      <th>166526</th>\n",
              "      <td>2020</td>\n",
              "      <td>316</td>\n",
              "      <td>UNIVERSIDADE NOVE DE JULHO</td>\n",
              "      <td>SAO PAULO</td>\n",
              "      <td>UNIDADE VERGUEIRO SEDE</td>\n",
              "      <td>INTEGRAL</td>\n",
              "      <td>PRESENCIAL</td>\n",
              "      <td>NaN</td>\n",
              "      <td>VESPERTINO</td>\n",
              "      <td>421.XXX.XXX-84</td>\n",
              "      <td>M</td>\n",
              "      <td>Branca</td>\n",
              "      <td>19/02/2001</td>\n",
              "      <td>N</td>\n",
              "      <td>NORDESTE</td>\n",
              "      <td>BA</td>\n",
              "      <td>MACAUBAS</td>\n",
              "    </tr>\n",
              "    <tr>\n",
              "      <th>166527</th>\n",
              "      <td>2020</td>\n",
              "      <td>316</td>\n",
              "      <td>UNIVERSIDADE NOVE DE JULHO</td>\n",
              "      <td>SAO PAULO</td>\n",
              "      <td>VILA PRUDENTE</td>\n",
              "      <td>INTEGRAL</td>\n",
              "      <td>PRESENCIAL</td>\n",
              "      <td>NaN</td>\n",
              "      <td>NOTURNO</td>\n",
              "      <td>090.XXX.XXX-13</td>\n",
              "      <td>M</td>\n",
              "      <td>Branca</td>\n",
              "      <td>14/10/2001</td>\n",
              "      <td>N</td>\n",
              "      <td>SUDESTE</td>\n",
              "      <td>SP</td>\n",
              "      <td>SAO PAULO</td>\n",
              "    </tr>\n",
              "    <tr>\n",
              "      <th>166528</th>\n",
              "      <td>2020</td>\n",
              "      <td>21</td>\n",
              "      <td>PONTIFÖCIA UNIVERSIDADE CATàLICA DO RIO GRANDE...</td>\n",
              "      <td>PORTO ALEGRE</td>\n",
              "      <td>CENTRAL - PORTO ALEGRE</td>\n",
              "      <td>INTEGRAL</td>\n",
              "      <td>PRESENCIAL</td>\n",
              "      <td>NaN</td>\n",
              "      <td>MATUTINO</td>\n",
              "      <td>038.XXX.XXX-01</td>\n",
              "      <td>F</td>\n",
              "      <td>Branca</td>\n",
              "      <td>17/04/1997</td>\n",
              "      <td>N</td>\n",
              "      <td>SUL</td>\n",
              "      <td>RS</td>\n",
              "      <td>PORTO ALEGRE</td>\n",
              "    </tr>\n",
              "    <tr>\n",
              "      <th>166532</th>\n",
              "      <td>2020</td>\n",
              "      <td>22</td>\n",
              "      <td>UNIVERSIDADE PRESBITERIANA MACKENZIE</td>\n",
              "      <td>SAO PAULO</td>\n",
              "      <td>CAMPUS  - SÇO PAULO - CONSOLAÇO</td>\n",
              "      <td>INTEGRAL</td>\n",
              "      <td>PRESENCIAL</td>\n",
              "      <td>NaN</td>\n",
              "      <td>MATUTINO</td>\n",
              "      <td>442.XXX.XXX-02</td>\n",
              "      <td>M</td>\n",
              "      <td>Branca</td>\n",
              "      <td>08/06/1999</td>\n",
              "      <td>N</td>\n",
              "      <td>SUDESTE</td>\n",
              "      <td>SP</td>\n",
              "      <td>SAO PAULO</td>\n",
              "    </tr>\n",
              "    <tr>\n",
              "      <th>166540</th>\n",
              "      <td>2020</td>\n",
              "      <td>1414</td>\n",
              "      <td>CENTRO UNIVERSITµRIO SÇO LUCAS</td>\n",
              "      <td>PORTO VELHO</td>\n",
              "      <td>CAMPUS  - PORTO VELHO - AREAL</td>\n",
              "      <td>PARCIAL</td>\n",
              "      <td>PRESENCIAL</td>\n",
              "      <td>NaN</td>\n",
              "      <td>INTEGRAL</td>\n",
              "      <td>985.XXX.XXX-87</td>\n",
              "      <td>F</td>\n",
              "      <td>Parda</td>\n",
              "      <td>17/02/1994</td>\n",
              "      <td>N</td>\n",
              "      <td>NORTE</td>\n",
              "      <td>RO</td>\n",
              "      <td>PORTO VELHO</td>\n",
              "    </tr>\n",
              "    <tr>\n",
              "      <th>166541</th>\n",
              "      <td>2020</td>\n",
              "      <td>1414</td>\n",
              "      <td>CENTRO UNIVERSITµRIO SÇO LUCAS</td>\n",
              "      <td>PORTO VELHO</td>\n",
              "      <td>CAMPUS  - PORTO VELHO - AREAL</td>\n",
              "      <td>PARCIAL</td>\n",
              "      <td>PRESENCIAL</td>\n",
              "      <td>NaN</td>\n",
              "      <td>INTEGRAL</td>\n",
              "      <td>083.XXX.XXX-48</td>\n",
              "      <td>M</td>\n",
              "      <td>Parda</td>\n",
              "      <td>18/08/2000</td>\n",
              "      <td>N</td>\n",
              "      <td>NORDESTE</td>\n",
              "      <td>BA</td>\n",
              "      <td>JEQUIE</td>\n",
              "    </tr>\n",
              "    <tr>\n",
              "      <th>166542</th>\n",
              "      <td>2020</td>\n",
              "      <td>1422</td>\n",
              "      <td>CENTRO UNIVERSITµRIO DO NORTE</td>\n",
              "      <td>MANAUS</td>\n",
              "      <td>UNIDADE DE ENSINO PLAZA</td>\n",
              "      <td>INTEGRAL</td>\n",
              "      <td>PRESENCIAL</td>\n",
              "      <td>NaN</td>\n",
              "      <td>NOTURNO</td>\n",
              "      <td>018.XXX.XXX-56</td>\n",
              "      <td>F</td>\n",
              "      <td>NÆo Informada</td>\n",
              "      <td>10/05/1997</td>\n",
              "      <td>N</td>\n",
              "      <td>NORTE</td>\n",
              "      <td>AM</td>\n",
              "      <td>MANAUS</td>\n",
              "    </tr>\n",
              "    <tr>\n",
              "      <th>166557</th>\n",
              "      <td>2020</td>\n",
              "      <td>13</td>\n",
              "      <td>UNIVERSIDADE DE CAXIAS DO SUL</td>\n",
              "      <td>CAXIAS DO SUL</td>\n",
              "      <td>CAMPUS SEDE</td>\n",
              "      <td>PARCIAL</td>\n",
              "      <td>PRESENCIAL</td>\n",
              "      <td>NaN</td>\n",
              "      <td>NOTURNO</td>\n",
              "      <td>033.XXX.XXX-00</td>\n",
              "      <td>M</td>\n",
              "      <td>Branca</td>\n",
              "      <td>16/05/2001</td>\n",
              "      <td>N</td>\n",
              "      <td>SUL</td>\n",
              "      <td>RS</td>\n",
              "      <td>FLORES DA CUNHA</td>\n",
              "    </tr>\n",
              "    <tr>\n",
              "      <th>166573</th>\n",
              "      <td>2020</td>\n",
              "      <td>823</td>\n",
              "      <td>UNIVERSIDADE CEUMA</td>\n",
              "      <td>IMPERATRIZ</td>\n",
              "      <td>UNIVERSIDADE DO CEUMA - UNICEUMA - CAMPUS IMPE...</td>\n",
              "      <td>PARCIAL</td>\n",
              "      <td>PRESENCIAL</td>\n",
              "      <td>NaN</td>\n",
              "      <td>INTEGRAL</td>\n",
              "      <td>066.XXX.XXX-40</td>\n",
              "      <td>M</td>\n",
              "      <td>Parda</td>\n",
              "      <td>06/03/1997</td>\n",
              "      <td>N</td>\n",
              "      <td>NORDESTE</td>\n",
              "      <td>CE</td>\n",
              "      <td>IPU</td>\n",
              "    </tr>\n",
              "    <tr>\n",
              "      <th>166615</th>\n",
              "      <td>2020</td>\n",
              "      <td>271</td>\n",
              "      <td>UNIVERSIDADE DO OESTE PAULISTA</td>\n",
              "      <td>GUARUJA</td>\n",
              "      <td>GUARUJµ</td>\n",
              "      <td>INTEGRAL</td>\n",
              "      <td>PRESENCIAL</td>\n",
              "      <td>NaN</td>\n",
              "      <td>INTEGRAL</td>\n",
              "      <td>363.XXX.XXX-08</td>\n",
              "      <td>F</td>\n",
              "      <td>Branca</td>\n",
              "      <td>02/07/2002</td>\n",
              "      <td>N</td>\n",
              "      <td>SUDESTE</td>\n",
              "      <td>SP</td>\n",
              "      <td>CARAPICUIBA</td>\n",
              "    </tr>\n",
              "    <tr>\n",
              "      <th>166629</th>\n",
              "      <td>2020</td>\n",
              "      <td>1558</td>\n",
              "      <td>FACULDADE DOCTUM DE JOÇO MONLEVADE</td>\n",
              "      <td>JOAO MONLEVADE</td>\n",
              "      <td>UNIDADE SEDE</td>\n",
              "      <td>INTEGRAL</td>\n",
              "      <td>PRESENCIAL</td>\n",
              "      <td>NaN</td>\n",
              "      <td>NOTURNO</td>\n",
              "      <td>159.XXX.XXX-70</td>\n",
              "      <td>M</td>\n",
              "      <td>Branca</td>\n",
              "      <td>13/07/2001</td>\n",
              "      <td>N</td>\n",
              "      <td>SUDESTE</td>\n",
              "      <td>MG</td>\n",
              "      <td>JOAO MONLEVADE</td>\n",
              "    </tr>\n",
              "    <tr>\n",
              "      <th>166666</th>\n",
              "      <td>2020</td>\n",
              "      <td>450</td>\n",
              "      <td>CENTRO UNIVERSITµRIO SÇO LUCAS JI-PARANµ</td>\n",
              "      <td>JI-PARANA</td>\n",
              "      <td>UNIDADE SEDE</td>\n",
              "      <td>INTEGRAL</td>\n",
              "      <td>PRESENCIAL</td>\n",
              "      <td>NaN</td>\n",
              "      <td>NOTURNO</td>\n",
              "      <td>050.XXX.XXX-16</td>\n",
              "      <td>F</td>\n",
              "      <td>Parda</td>\n",
              "      <td>03/12/2001</td>\n",
              "      <td>N</td>\n",
              "      <td>NORTE</td>\n",
              "      <td>RO</td>\n",
              "      <td>JI-PARANA</td>\n",
              "    </tr>\n",
              "    <tr>\n",
              "      <th>166667</th>\n",
              "      <td>2020</td>\n",
              "      <td>13</td>\n",
              "      <td>UNIVERSIDADE DE CAXIAS DO SUL</td>\n",
              "      <td>CAXIAS DO SUL</td>\n",
              "      <td>CAMPUS SEDE</td>\n",
              "      <td>INTEGRAL</td>\n",
              "      <td>PRESENCIAL</td>\n",
              "      <td>NaN</td>\n",
              "      <td>INTEGRAL</td>\n",
              "      <td>043.XXX.XXX-96</td>\n",
              "      <td>M</td>\n",
              "      <td>Branca</td>\n",
              "      <td>17/02/1999</td>\n",
              "      <td>N</td>\n",
              "      <td>SUL</td>\n",
              "      <td>RS</td>\n",
              "      <td>CHARQUEADAS</td>\n",
              "    </tr>\n",
              "    <tr>\n",
              "      <th>166668</th>\n",
              "      <td>2020</td>\n",
              "      <td>316</td>\n",
              "      <td>UNIVERSIDADE NOVE DE JULHO</td>\n",
              "      <td>SAO PAULO</td>\n",
              "      <td>VILA MARIA</td>\n",
              "      <td>INTEGRAL</td>\n",
              "      <td>PRESENCIAL</td>\n",
              "      <td>NaN</td>\n",
              "      <td>MATUTINO</td>\n",
              "      <td>478.XXX.XXX-08</td>\n",
              "      <td>F</td>\n",
              "      <td>Branca</td>\n",
              "      <td>09/04/2000</td>\n",
              "      <td>N</td>\n",
              "      <td>SUDESTE</td>\n",
              "      <td>SP</td>\n",
              "      <td>ITAPEVI</td>\n",
              "    </tr>\n",
              "    <tr>\n",
              "      <th>166674</th>\n",
              "      <td>2020</td>\n",
              "      <td>374</td>\n",
              "      <td>CENTRO UNIVERSITµRIO DAS FACULDADES METROPOLIT...</td>\n",
              "      <td>SAO PAULO</td>\n",
              "      <td>FMU - BRIGADEIRO - PRDIOS 32/39/43/44</td>\n",
              "      <td>INTEGRAL</td>\n",
              "      <td>PRESENCIAL</td>\n",
              "      <td>NaN</td>\n",
              "      <td>NOTURNO</td>\n",
              "      <td>511.XXX.XXX-20</td>\n",
              "      <td>M</td>\n",
              "      <td>Branca</td>\n",
              "      <td>10/03/2002</td>\n",
              "      <td>N</td>\n",
              "      <td>SUDESTE</td>\n",
              "      <td>SP</td>\n",
              "      <td>SAO PAULO</td>\n",
              "    </tr>\n",
              "    <tr>\n",
              "      <th>166692</th>\n",
              "      <td>2020</td>\n",
              "      <td>5591</td>\n",
              "      <td>FACULDADES INTEGRADAS CAMåES</td>\n",
              "      <td>CURITIBA</td>\n",
              "      <td>MERCÒS</td>\n",
              "      <td>INTEGRAL</td>\n",
              "      <td>PRESENCIAL</td>\n",
              "      <td>NaN</td>\n",
              "      <td>NOTURNO</td>\n",
              "      <td>104.XXX.XXX-33</td>\n",
              "      <td>F</td>\n",
              "      <td>Branca</td>\n",
              "      <td>04/02/2000</td>\n",
              "      <td>N</td>\n",
              "      <td>SUL</td>\n",
              "      <td>PR</td>\n",
              "      <td>PIRAQUARA</td>\n",
              "    </tr>\n",
              "    <tr>\n",
              "      <th>166693</th>\n",
              "      <td>2020</td>\n",
              "      <td>298</td>\n",
              "      <td>UNIVERSIDADE PITµGORAS UNOPAR</td>\n",
              "      <td>UBA</td>\n",
              "      <td>UBA/MG - I(8548)U</td>\n",
              "      <td>INTEGRAL</td>\n",
              "      <td>EAD</td>\n",
              "      <td>NaN</td>\n",
              "      <td>CURSO A DIST¶NCIA</td>\n",
              "      <td>136.XXX.XXX-64</td>\n",
              "      <td>F</td>\n",
              "      <td>Branca</td>\n",
              "      <td>29/12/1999</td>\n",
              "      <td>N</td>\n",
              "      <td>SUDESTE</td>\n",
              "      <td>MG</td>\n",
              "      <td>UBA</td>\n",
              "    </tr>\n",
              "    <tr>\n",
              "      <th>166694</th>\n",
              "      <td>2020</td>\n",
              "      <td>163</td>\n",
              "      <td>UNIVERSIDADE ESTµCIO DE Sµ</td>\n",
              "      <td>RIO DE JANEIRO</td>\n",
              "      <td>JOÇO UCHOA</td>\n",
              "      <td>INTEGRAL</td>\n",
              "      <td>PRESENCIAL</td>\n",
              "      <td>NaN</td>\n",
              "      <td>MATUTINO</td>\n",
              "      <td>151.XXX.XXX-76</td>\n",
              "      <td>M</td>\n",
              "      <td>Preta</td>\n",
              "      <td>03/03/1995</td>\n",
              "      <td>N</td>\n",
              "      <td>SUDESTE</td>\n",
              "      <td>RJ</td>\n",
              "      <td>RIO DE JANEIRO</td>\n",
              "    </tr>\n",
              "    <tr>\n",
              "      <th>166717</th>\n",
              "      <td>2020</td>\n",
              "      <td>298</td>\n",
              "      <td>UNIVERSIDADE PITµGORAS UNOPAR</td>\n",
              "      <td>GUARAPARI</td>\n",
              "      <td>GUARAPARI/ES - I(1059479)U</td>\n",
              "      <td>INTEGRAL</td>\n",
              "      <td>EAD</td>\n",
              "      <td>NaN</td>\n",
              "      <td>CURSO A DIST¶NCIA</td>\n",
              "      <td>151.XXX.XXX-99</td>\n",
              "      <td>F</td>\n",
              "      <td>Parda</td>\n",
              "      <td>23/10/2019</td>\n",
              "      <td>N</td>\n",
              "      <td>SUDESTE</td>\n",
              "      <td>ES</td>\n",
              "      <td>GUARAPARI</td>\n",
              "    </tr>\n",
              "    <tr>\n",
              "      <th>166738</th>\n",
              "      <td>2020</td>\n",
              "      <td>2756</td>\n",
              "      <td>FACULDADE ANHANGUERA DE VALPARAÖSO</td>\n",
              "      <td>VALPARAISO DE GOIAS</td>\n",
              "      <td>FACULDADE ANHANGUERA DE VALPARAÖSO - QUADRA 5</td>\n",
              "      <td>INTEGRAL</td>\n",
              "      <td>PRESENCIAL</td>\n",
              "      <td>NaN</td>\n",
              "      <td>NOTURNO</td>\n",
              "      <td>072.XXX.XXX-86</td>\n",
              "      <td>F</td>\n",
              "      <td>NÆo Informada</td>\n",
              "      <td>06/10/1998</td>\n",
              "      <td>N</td>\n",
              "      <td>CENTRO-OESTE</td>\n",
              "      <td>GO</td>\n",
              "      <td>LUZIANIA</td>\n",
              "    </tr>\n",
              "    <tr>\n",
              "      <th>166739</th>\n",
              "      <td>2020</td>\n",
              "      <td>1986</td>\n",
              "      <td>CENTRO UNIVERSITµRIO ESTµCIO JUIZ DE FORA - ES...</td>\n",
              "      <td>JUIZ DE FORA</td>\n",
              "      <td>RIO BRANCO</td>\n",
              "      <td>INTEGRAL</td>\n",
              "      <td>PRESENCIAL</td>\n",
              "      <td>NaN</td>\n",
              "      <td>INTEGRAL</td>\n",
              "      <td>121.XXX.XXX-10</td>\n",
              "      <td>M</td>\n",
              "      <td>Parda</td>\n",
              "      <td>03/05/2002</td>\n",
              "      <td>N</td>\n",
              "      <td>SUDESTE</td>\n",
              "      <td>MG</td>\n",
              "      <td>UBA</td>\n",
              "    </tr>\n",
              "    <tr>\n",
              "      <th>166740</th>\n",
              "      <td>2020</td>\n",
              "      <td>163</td>\n",
              "      <td>UNIVERSIDADE ESTµCIO DE Sµ</td>\n",
              "      <td>SAO JOSE DOS PINHAIS</td>\n",
              "      <td>EAD SÇO JOS DOS PINHAIS - PR</td>\n",
              "      <td>INTEGRAL</td>\n",
              "      <td>EAD</td>\n",
              "      <td>NaN</td>\n",
              "      <td>CURSO A DIST¶NCIA</td>\n",
              "      <td>071.XXX.XXX-75</td>\n",
              "      <td>M</td>\n",
              "      <td>Branca</td>\n",
              "      <td>02/09/1993</td>\n",
              "      <td>N</td>\n",
              "      <td>SUL</td>\n",
              "      <td>PR</td>\n",
              "      <td>LAPA</td>\n",
              "    </tr>\n",
              "    <tr>\n",
              "      <th>166780</th>\n",
              "      <td>2020</td>\n",
              "      <td>163</td>\n",
              "      <td>UNIVERSIDADE ESTµCIO DE Sµ</td>\n",
              "      <td>NITEROI</td>\n",
              "      <td>NITERàI III</td>\n",
              "      <td>INTEGRAL</td>\n",
              "      <td>PRESENCIAL</td>\n",
              "      <td>NaN</td>\n",
              "      <td>NOTURNO</td>\n",
              "      <td>105.XXX.XXX-97</td>\n",
              "      <td>F</td>\n",
              "      <td>NÆo Informada</td>\n",
              "      <td>17/11/1984</td>\n",
              "      <td>N</td>\n",
              "      <td>SUDESTE</td>\n",
              "      <td>RJ</td>\n",
              "      <td>NITEROI</td>\n",
              "    </tr>\n",
              "    <tr>\n",
              "      <th>166789</th>\n",
              "      <td>2020</td>\n",
              "      <td>5544</td>\n",
              "      <td>FACULDADE PRESIDENTE ANTâNIO CARLOS</td>\n",
              "      <td>PORTO NACIONAL</td>\n",
              "      <td>ITPAC - PORTO NACIONAL</td>\n",
              "      <td>INTEGRAL</td>\n",
              "      <td>PRESENCIAL</td>\n",
              "      <td>NaN</td>\n",
              "      <td>INTEGRAL</td>\n",
              "      <td>013.XXX.XXX-25</td>\n",
              "      <td>F</td>\n",
              "      <td>Branca</td>\n",
              "      <td>09/11/2002</td>\n",
              "      <td>N</td>\n",
              "      <td>NORDESTE</td>\n",
              "      <td>MA</td>\n",
              "      <td>ACAILANDIA</td>\n",
              "    </tr>\n",
              "    <tr>\n",
              "      <th>166790</th>\n",
              "      <td>2020</td>\n",
              "      <td>353</td>\n",
              "      <td>FACULDADE EVANGLICA MACKENZIE DO PARANµ</td>\n",
              "      <td>CURITIBA</td>\n",
              "      <td>UNIDADE SEDE</td>\n",
              "      <td>INTEGRAL</td>\n",
              "      <td>PRESENCIAL</td>\n",
              "      <td>NaN</td>\n",
              "      <td>INTEGRAL</td>\n",
              "      <td>089.XXX.XXX-66</td>\n",
              "      <td>F</td>\n",
              "      <td>Branca</td>\n",
              "      <td>10/06/1998</td>\n",
              "      <td>N</td>\n",
              "      <td>SUL</td>\n",
              "      <td>PR</td>\n",
              "      <td>CAMPO LARGO</td>\n",
              "    </tr>\n",
              "    <tr>\n",
              "      <th>166791</th>\n",
              "      <td>2020</td>\n",
              "      <td>353</td>\n",
              "      <td>FACULDADE EVANGLICA MACKENZIE DO PARANµ</td>\n",
              "      <td>CURITIBA</td>\n",
              "      <td>UNIDADE SEDE</td>\n",
              "      <td>INTEGRAL</td>\n",
              "      <td>PRESENCIAL</td>\n",
              "      <td>NaN</td>\n",
              "      <td>INTEGRAL</td>\n",
              "      <td>100.XXX.XXX-51</td>\n",
              "      <td>F</td>\n",
              "      <td>Branca</td>\n",
              "      <td>11/05/1999</td>\n",
              "      <td>N</td>\n",
              "      <td>NORDESTE</td>\n",
              "      <td>PE</td>\n",
              "      <td>PAULISTA</td>\n",
              "    </tr>\n",
              "    <tr>\n",
              "      <th>166794</th>\n",
              "      <td>2020</td>\n",
              "      <td>5544</td>\n",
              "      <td>FACULDADE PRESIDENTE ANTâNIO CARLOS</td>\n",
              "      <td>PORTO NACIONAL</td>\n",
              "      <td>ITPAC - PORTO NACIONAL</td>\n",
              "      <td>INTEGRAL</td>\n",
              "      <td>PRESENCIAL</td>\n",
              "      <td>NaN</td>\n",
              "      <td>INTEGRAL</td>\n",
              "      <td>013.XXX.XXX-40</td>\n",
              "      <td>F</td>\n",
              "      <td>Branca</td>\n",
              "      <td>20/11/1999</td>\n",
              "      <td>N</td>\n",
              "      <td>NORDESTE</td>\n",
              "      <td>MA</td>\n",
              "      <td>JOAO LISBOA</td>\n",
              "    </tr>\n",
              "    <tr>\n",
              "      <th>166820</th>\n",
              "      <td>2020</td>\n",
              "      <td>757</td>\n",
              "      <td>CENTRO UNIVERSITµRIO DA AMAZâNIA</td>\n",
              "      <td>SANTAREM</td>\n",
              "      <td>UNIDADE SEDE</td>\n",
              "      <td>INTEGRAL</td>\n",
              "      <td>PRESENCIAL</td>\n",
              "      <td>NaN</td>\n",
              "      <td>MATUTINO</td>\n",
              "      <td>040.XXX.XXX-35</td>\n",
              "      <td>F</td>\n",
              "      <td>Parda</td>\n",
              "      <td>27/09/2002</td>\n",
              "      <td>N</td>\n",
              "      <td>NORTE</td>\n",
              "      <td>PA</td>\n",
              "      <td>SANTAREM</td>\n",
              "    </tr>\n",
              "  </tbody>\n",
              "</table>\n",
              "</div>\n",
              "      <button class=\"colab-df-convert\" onclick=\"convertToInteractive('df-59a46f23-3932-43f1-83e2-ae2d606dd808')\"\n",
              "              title=\"Convert this dataframe to an interactive table.\"\n",
              "              style=\"display:none;\">\n",
              "        \n",
              "  <svg xmlns=\"http://www.w3.org/2000/svg\" height=\"24px\"viewBox=\"0 0 24 24\"\n",
              "       width=\"24px\">\n",
              "    <path d=\"M0 0h24v24H0V0z\" fill=\"none\"/>\n",
              "    <path d=\"M18.56 5.44l.94 2.06.94-2.06 2.06-.94-2.06-.94-.94-2.06-.94 2.06-2.06.94zm-11 1L8.5 8.5l.94-2.06 2.06-.94-2.06-.94L8.5 2.5l-.94 2.06-2.06.94zm10 10l.94 2.06.94-2.06 2.06-.94-2.06-.94-.94-2.06-.94 2.06-2.06.94z\"/><path d=\"M17.41 7.96l-1.37-1.37c-.4-.4-.92-.59-1.43-.59-.52 0-1.04.2-1.43.59L10.3 9.45l-7.72 7.72c-.78.78-.78 2.05 0 2.83L4 21.41c.39.39.9.59 1.41.59.51 0 1.02-.2 1.41-.59l7.78-7.78 2.81-2.81c.8-.78.8-2.07 0-2.86zM5.41 20L4 18.59l7.72-7.72 1.47 1.35L5.41 20z\"/>\n",
              "  </svg>\n",
              "      </button>\n",
              "      \n",
              "  <style>\n",
              "    .colab-df-container {\n",
              "      display:flex;\n",
              "      flex-wrap:wrap;\n",
              "      gap: 12px;\n",
              "    }\n",
              "\n",
              "    .colab-df-convert {\n",
              "      background-color: #E8F0FE;\n",
              "      border: none;\n",
              "      border-radius: 50%;\n",
              "      cursor: pointer;\n",
              "      display: none;\n",
              "      fill: #1967D2;\n",
              "      height: 32px;\n",
              "      padding: 0 0 0 0;\n",
              "      width: 32px;\n",
              "    }\n",
              "\n",
              "    .colab-df-convert:hover {\n",
              "      background-color: #E2EBFA;\n",
              "      box-shadow: 0px 1px 2px rgba(60, 64, 67, 0.3), 0px 1px 3px 1px rgba(60, 64, 67, 0.15);\n",
              "      fill: #174EA6;\n",
              "    }\n",
              "\n",
              "    [theme=dark] .colab-df-convert {\n",
              "      background-color: #3B4455;\n",
              "      fill: #D2E3FC;\n",
              "    }\n",
              "\n",
              "    [theme=dark] .colab-df-convert:hover {\n",
              "      background-color: #434B5C;\n",
              "      box-shadow: 0px 1px 3px 1px rgba(0, 0, 0, 0.15);\n",
              "      filter: drop-shadow(0px 1px 2px rgba(0, 0, 0, 0.3));\n",
              "      fill: #FFFFFF;\n",
              "    }\n",
              "  </style>\n",
              "\n",
              "      <script>\n",
              "        const buttonEl =\n",
              "          document.querySelector('#df-59a46f23-3932-43f1-83e2-ae2d606dd808 button.colab-df-convert');\n",
              "        buttonEl.style.display =\n",
              "          google.colab.kernel.accessAllowed ? 'block' : 'none';\n",
              "\n",
              "        async function convertToInteractive(key) {\n",
              "          const element = document.querySelector('#df-59a46f23-3932-43f1-83e2-ae2d606dd808');\n",
              "          const dataTable =\n",
              "            await google.colab.kernel.invokeFunction('convertToInteractive',\n",
              "                                                     [key], {});\n",
              "          if (!dataTable) return;\n",
              "\n",
              "          const docLinkHtml = 'Like what you see? Visit the ' +\n",
              "            '<a target=\"_blank\" href=https://colab.research.google.com/notebooks/data_table.ipynb>data table notebook</a>'\n",
              "            + ' to learn more about interactive tables.';\n",
              "          element.innerHTML = '';\n",
              "          dataTable['output_type'] = 'display_data';\n",
              "          await google.colab.output.renderOutput(dataTable, element);\n",
              "          const docLink = document.createElement('div');\n",
              "          docLink.innerHTML = docLinkHtml;\n",
              "          element.appendChild(docLink);\n",
              "        }\n",
              "      </script>\n",
              "    </div>\n",
              "  </div>\n",
              "  "
            ]
          },
          "metadata": {},
          "execution_count": 32
        }
      ],
      "source": [
        "faltantes"
      ]
    },
    {
      "cell_type": "markdown",
      "metadata": {
        "id": "ls65kps-MTgd"
      },
      "source": [
        "##Verificando a quantidade de linhas que estão com NaN (38 linhas com NaN em NOME_CURSO_BOLSA)\n"
      ]
    },
    {
      "cell_type": "code",
      "execution_count": 33,
      "metadata": {
        "colab": {
          "base_uri": "https://localhost:8080/"
        },
        "id": "P7M4U_JaPIBn",
        "outputId": "7b35db4f-5459-4a90-d1a9-9e8912a06a1f"
      },
      "outputs": [
        {
          "output_type": "execute_result",
          "data": {
            "text/plain": [
              "(38, 17)"
            ]
          },
          "metadata": {},
          "execution_count": 33
        }
      ],
      "source": [
        "faltantes.shape"
      ]
    },
    {
      "cell_type": "markdown",
      "metadata": {
        "id": "YE1_ZXagMXdL"
      },
      "source": [
        "##Fazendo uma cópia do DataFrame para testar o 'fillna'"
      ]
    },
    {
      "cell_type": "code",
      "execution_count": 34,
      "metadata": {
        "id": "8DiQ9RrgPKfv"
      },
      "outputs": [],
      "source": [
        "copia_2 = original_copia.copy()"
      ]
    },
    {
      "cell_type": "markdown",
      "metadata": {
        "id": "mihnHhP1Mq_k"
      },
      "source": [
        "##Substituindo os valores NaN para \"NAO INFORMADO\"."
      ]
    },
    {
      "cell_type": "code",
      "execution_count": 35,
      "metadata": {
        "id": "LvykG2mva3h9"
      },
      "outputs": [],
      "source": [
        "copia_2['NOME_CURSO_BOLSA'] = copia_2['NOME_CURSO_BOLSA'] .fillna(value='NAO INFORMADO')"
      ]
    },
    {
      "cell_type": "code",
      "execution_count": 36,
      "metadata": {
        "colab": {
          "base_uri": "https://localhost:8080/"
        },
        "id": "cfw7fNTObXwC",
        "outputId": "30857b88-9595-4485-81cd-e89b50414bcb"
      },
      "outputs": [
        {
          "output_type": "stream",
          "name": "stdout",
          "text": [
            "<class 'pandas.core.frame.DataFrame'>\n",
            "RangeIndex: 166830 entries, 0 to 166829\n",
            "Data columns (total 17 columns):\n",
            " #   Column                          Non-Null Count   Dtype         \n",
            "---  ------                          --------------   -----         \n",
            " 0   ANO_CONCESSAO_BOLSA             166830 non-null  int64         \n",
            " 1   CODIGO_EMEC_IES_BOLSA           166830 non-null  int64         \n",
            " 2   NOME_IES_BOLSA                  166830 non-null  object        \n",
            " 3   MUNICIPIO                       166830 non-null  object        \n",
            " 4   CAMPUS                          166830 non-null  object        \n",
            " 5   TIPO_BOLSA                      166830 non-null  category      \n",
            " 6   MODALIDADE_ENSINO_BOLSA         166830 non-null  category      \n",
            " 7   NOME_CURSO_BOLSA                166830 non-null  object        \n",
            " 8   NOME_TURNO_CURSO_BOLSA          166830 non-null  category      \n",
            " 9   CPF_BENEFICIARIO                166830 non-null  object        \n",
            " 10  SEXO_BENEFICIARIO               166830 non-null  category      \n",
            " 11  RACA_BENEFICIARIO               166830 non-null  category      \n",
            " 12  DATA_NASCIMENTO                 166830 non-null  datetime64[ns]\n",
            " 13  BENEFICIARIO_DEFICIENTE_FISICO  166830 non-null  category      \n",
            " 14  REGIAO_BENEFICIARIO             166830 non-null  category      \n",
            " 15  UF_BENEFICIARIO                 166830 non-null  object        \n",
            " 16  MUNICIPIO_BENEFICIARIO          166830 non-null  object        \n",
            "dtypes: category(7), datetime64[ns](1), int64(2), object(7)\n",
            "memory usage: 13.8+ MB\n"
          ]
        }
      ],
      "source": [
        "copia_2.info()"
      ]
    },
    {
      "cell_type": "markdown",
      "metadata": {
        "id": "MKBDntgDM2Se"
      },
      "source": [
        "##O 'fillna' parece ter funcionado"
      ]
    },
    {
      "cell_type": "code",
      "execution_count": 37,
      "metadata": {
        "colab": {
          "base_uri": "https://localhost:8080/"
        },
        "id": "NlOddvgrbp1S",
        "outputId": "e87dada1-5f69-491a-9a6e-2cb98ab8c4e9"
      },
      "outputs": [
        {
          "output_type": "execute_result",
          "data": {
            "text/plain": [
              "ANO_CONCESSAO_BOLSA               1\n",
              "CODIGO_EMEC_IES_BOLSA             1\n",
              "NOME_IES_BOLSA                    1\n",
              "MUNICIPIO                         1\n",
              "CAMPUS                            1\n",
              "TIPO_BOLSA                        1\n",
              "MODALIDADE_ENSINO_BOLSA           1\n",
              "NOME_CURSO_BOLSA                  1\n",
              "NOME_TURNO_CURSO_BOLSA            1\n",
              "CPF_BENEFICIARIO                  1\n",
              "SEXO_BENEFICIARIO                 1\n",
              "RACA_BENEFICIARIO                 1\n",
              "DATA_NASCIMENTO                   1\n",
              "BENEFICIARIO_DEFICIENTE_FISICO    1\n",
              "REGIAO_BENEFICIARIO               1\n",
              "UF_BENEFICIARIO                   1\n",
              "MUNICIPIO_BENEFICIARIO            1\n",
              "dtype: int64"
            ]
          },
          "metadata": {},
          "execution_count": 37
        }
      ],
      "source": [
        "copia_2.isnull().nunique()"
      ]
    },
    {
      "cell_type": "code",
      "execution_count": 38,
      "metadata": {
        "colab": {
          "base_uri": "https://localhost:8080/",
          "height": 488
        },
        "id": "bzLQ57ngbvbx",
        "outputId": "e25b0036-af95-4c81-86cf-c7902f193754"
      },
      "outputs": [
        {
          "output_type": "execute_result",
          "data": {
            "text/plain": [
              "        ANO_CONCESSAO_BOLSA  CODIGO_EMEC_IES_BOLSA  NOME_IES_BOLSA  MUNICIPIO  \\\n",
              "0                     False                  False           False      False   \n",
              "1                     False                  False           False      False   \n",
              "2                     False                  False           False      False   \n",
              "3                     False                  False           False      False   \n",
              "4                     False                  False           False      False   \n",
              "...                     ...                    ...             ...        ...   \n",
              "166825                False                  False           False      False   \n",
              "166826                False                  False           False      False   \n",
              "166827                False                  False           False      False   \n",
              "166828                False                  False           False      False   \n",
              "166829                False                  False           False      False   \n",
              "\n",
              "        CAMPUS  TIPO_BOLSA  MODALIDADE_ENSINO_BOLSA  NOME_CURSO_BOLSA  \\\n",
              "0        False       False                    False             False   \n",
              "1        False       False                    False             False   \n",
              "2        False       False                    False             False   \n",
              "3        False       False                    False             False   \n",
              "4        False       False                    False             False   \n",
              "...        ...         ...                      ...               ...   \n",
              "166825   False       False                    False             False   \n",
              "166826   False       False                    False             False   \n",
              "166827   False       False                    False             False   \n",
              "166828   False       False                    False             False   \n",
              "166829   False       False                    False             False   \n",
              "\n",
              "        NOME_TURNO_CURSO_BOLSA  CPF_BENEFICIARIO  SEXO_BENEFICIARIO  \\\n",
              "0                        False             False              False   \n",
              "1                        False             False              False   \n",
              "2                        False             False              False   \n",
              "3                        False             False              False   \n",
              "4                        False             False              False   \n",
              "...                        ...               ...                ...   \n",
              "166825                   False             False              False   \n",
              "166826                   False             False              False   \n",
              "166827                   False             False              False   \n",
              "166828                   False             False              False   \n",
              "166829                   False             False              False   \n",
              "\n",
              "        RACA_BENEFICIARIO  DATA_NASCIMENTO  BENEFICIARIO_DEFICIENTE_FISICO  \\\n",
              "0                   False            False                           False   \n",
              "1                   False            False                           False   \n",
              "2                   False            False                           False   \n",
              "3                   False            False                           False   \n",
              "4                   False            False                           False   \n",
              "...                   ...              ...                             ...   \n",
              "166825              False            False                           False   \n",
              "166826              False            False                           False   \n",
              "166827              False            False                           False   \n",
              "166828              False            False                           False   \n",
              "166829              False            False                           False   \n",
              "\n",
              "        REGIAO_BENEFICIARIO  UF_BENEFICIARIO  MUNICIPIO_BENEFICIARIO  \n",
              "0                     False            False                   False  \n",
              "1                     False            False                   False  \n",
              "2                     False            False                   False  \n",
              "3                     False            False                   False  \n",
              "4                     False            False                   False  \n",
              "...                     ...              ...                     ...  \n",
              "166825                False            False                   False  \n",
              "166826                False            False                   False  \n",
              "166827                False            False                   False  \n",
              "166828                False            False                   False  \n",
              "166829                False            False                   False  \n",
              "\n",
              "[166830 rows x 17 columns]"
            ],
            "text/html": [
              "\n",
              "  <div id=\"df-f2e60182-9123-4de4-8afe-55c78ea387e9\">\n",
              "    <div class=\"colab-df-container\">\n",
              "      <div>\n",
              "<style scoped>\n",
              "    .dataframe tbody tr th:only-of-type {\n",
              "        vertical-align: middle;\n",
              "    }\n",
              "\n",
              "    .dataframe tbody tr th {\n",
              "        vertical-align: top;\n",
              "    }\n",
              "\n",
              "    .dataframe thead th {\n",
              "        text-align: right;\n",
              "    }\n",
              "</style>\n",
              "<table border=\"1\" class=\"dataframe\">\n",
              "  <thead>\n",
              "    <tr style=\"text-align: right;\">\n",
              "      <th></th>\n",
              "      <th>ANO_CONCESSAO_BOLSA</th>\n",
              "      <th>CODIGO_EMEC_IES_BOLSA</th>\n",
              "      <th>NOME_IES_BOLSA</th>\n",
              "      <th>MUNICIPIO</th>\n",
              "      <th>CAMPUS</th>\n",
              "      <th>TIPO_BOLSA</th>\n",
              "      <th>MODALIDADE_ENSINO_BOLSA</th>\n",
              "      <th>NOME_CURSO_BOLSA</th>\n",
              "      <th>NOME_TURNO_CURSO_BOLSA</th>\n",
              "      <th>CPF_BENEFICIARIO</th>\n",
              "      <th>SEXO_BENEFICIARIO</th>\n",
              "      <th>RACA_BENEFICIARIO</th>\n",
              "      <th>DATA_NASCIMENTO</th>\n",
              "      <th>BENEFICIARIO_DEFICIENTE_FISICO</th>\n",
              "      <th>REGIAO_BENEFICIARIO</th>\n",
              "      <th>UF_BENEFICIARIO</th>\n",
              "      <th>MUNICIPIO_BENEFICIARIO</th>\n",
              "    </tr>\n",
              "  </thead>\n",
              "  <tbody>\n",
              "    <tr>\n",
              "      <th>0</th>\n",
              "      <td>False</td>\n",
              "      <td>False</td>\n",
              "      <td>False</td>\n",
              "      <td>False</td>\n",
              "      <td>False</td>\n",
              "      <td>False</td>\n",
              "      <td>False</td>\n",
              "      <td>False</td>\n",
              "      <td>False</td>\n",
              "      <td>False</td>\n",
              "      <td>False</td>\n",
              "      <td>False</td>\n",
              "      <td>False</td>\n",
              "      <td>False</td>\n",
              "      <td>False</td>\n",
              "      <td>False</td>\n",
              "      <td>False</td>\n",
              "    </tr>\n",
              "    <tr>\n",
              "      <th>1</th>\n",
              "      <td>False</td>\n",
              "      <td>False</td>\n",
              "      <td>False</td>\n",
              "      <td>False</td>\n",
              "      <td>False</td>\n",
              "      <td>False</td>\n",
              "      <td>False</td>\n",
              "      <td>False</td>\n",
              "      <td>False</td>\n",
              "      <td>False</td>\n",
              "      <td>False</td>\n",
              "      <td>False</td>\n",
              "      <td>False</td>\n",
              "      <td>False</td>\n",
              "      <td>False</td>\n",
              "      <td>False</td>\n",
              "      <td>False</td>\n",
              "    </tr>\n",
              "    <tr>\n",
              "      <th>2</th>\n",
              "      <td>False</td>\n",
              "      <td>False</td>\n",
              "      <td>False</td>\n",
              "      <td>False</td>\n",
              "      <td>False</td>\n",
              "      <td>False</td>\n",
              "      <td>False</td>\n",
              "      <td>False</td>\n",
              "      <td>False</td>\n",
              "      <td>False</td>\n",
              "      <td>False</td>\n",
              "      <td>False</td>\n",
              "      <td>False</td>\n",
              "      <td>False</td>\n",
              "      <td>False</td>\n",
              "      <td>False</td>\n",
              "      <td>False</td>\n",
              "    </tr>\n",
              "    <tr>\n",
              "      <th>3</th>\n",
              "      <td>False</td>\n",
              "      <td>False</td>\n",
              "      <td>False</td>\n",
              "      <td>False</td>\n",
              "      <td>False</td>\n",
              "      <td>False</td>\n",
              "      <td>False</td>\n",
              "      <td>False</td>\n",
              "      <td>False</td>\n",
              "      <td>False</td>\n",
              "      <td>False</td>\n",
              "      <td>False</td>\n",
              "      <td>False</td>\n",
              "      <td>False</td>\n",
              "      <td>False</td>\n",
              "      <td>False</td>\n",
              "      <td>False</td>\n",
              "    </tr>\n",
              "    <tr>\n",
              "      <th>4</th>\n",
              "      <td>False</td>\n",
              "      <td>False</td>\n",
              "      <td>False</td>\n",
              "      <td>False</td>\n",
              "      <td>False</td>\n",
              "      <td>False</td>\n",
              "      <td>False</td>\n",
              "      <td>False</td>\n",
              "      <td>False</td>\n",
              "      <td>False</td>\n",
              "      <td>False</td>\n",
              "      <td>False</td>\n",
              "      <td>False</td>\n",
              "      <td>False</td>\n",
              "      <td>False</td>\n",
              "      <td>False</td>\n",
              "      <td>False</td>\n",
              "    </tr>\n",
              "    <tr>\n",
              "      <th>...</th>\n",
              "      <td>...</td>\n",
              "      <td>...</td>\n",
              "      <td>...</td>\n",
              "      <td>...</td>\n",
              "      <td>...</td>\n",
              "      <td>...</td>\n",
              "      <td>...</td>\n",
              "      <td>...</td>\n",
              "      <td>...</td>\n",
              "      <td>...</td>\n",
              "      <td>...</td>\n",
              "      <td>...</td>\n",
              "      <td>...</td>\n",
              "      <td>...</td>\n",
              "      <td>...</td>\n",
              "      <td>...</td>\n",
              "      <td>...</td>\n",
              "    </tr>\n",
              "    <tr>\n",
              "      <th>166825</th>\n",
              "      <td>False</td>\n",
              "      <td>False</td>\n",
              "      <td>False</td>\n",
              "      <td>False</td>\n",
              "      <td>False</td>\n",
              "      <td>False</td>\n",
              "      <td>False</td>\n",
              "      <td>False</td>\n",
              "      <td>False</td>\n",
              "      <td>False</td>\n",
              "      <td>False</td>\n",
              "      <td>False</td>\n",
              "      <td>False</td>\n",
              "      <td>False</td>\n",
              "      <td>False</td>\n",
              "      <td>False</td>\n",
              "      <td>False</td>\n",
              "    </tr>\n",
              "    <tr>\n",
              "      <th>166826</th>\n",
              "      <td>False</td>\n",
              "      <td>False</td>\n",
              "      <td>False</td>\n",
              "      <td>False</td>\n",
              "      <td>False</td>\n",
              "      <td>False</td>\n",
              "      <td>False</td>\n",
              "      <td>False</td>\n",
              "      <td>False</td>\n",
              "      <td>False</td>\n",
              "      <td>False</td>\n",
              "      <td>False</td>\n",
              "      <td>False</td>\n",
              "      <td>False</td>\n",
              "      <td>False</td>\n",
              "      <td>False</td>\n",
              "      <td>False</td>\n",
              "    </tr>\n",
              "    <tr>\n",
              "      <th>166827</th>\n",
              "      <td>False</td>\n",
              "      <td>False</td>\n",
              "      <td>False</td>\n",
              "      <td>False</td>\n",
              "      <td>False</td>\n",
              "      <td>False</td>\n",
              "      <td>False</td>\n",
              "      <td>False</td>\n",
              "      <td>False</td>\n",
              "      <td>False</td>\n",
              "      <td>False</td>\n",
              "      <td>False</td>\n",
              "      <td>False</td>\n",
              "      <td>False</td>\n",
              "      <td>False</td>\n",
              "      <td>False</td>\n",
              "      <td>False</td>\n",
              "    </tr>\n",
              "    <tr>\n",
              "      <th>166828</th>\n",
              "      <td>False</td>\n",
              "      <td>False</td>\n",
              "      <td>False</td>\n",
              "      <td>False</td>\n",
              "      <td>False</td>\n",
              "      <td>False</td>\n",
              "      <td>False</td>\n",
              "      <td>False</td>\n",
              "      <td>False</td>\n",
              "      <td>False</td>\n",
              "      <td>False</td>\n",
              "      <td>False</td>\n",
              "      <td>False</td>\n",
              "      <td>False</td>\n",
              "      <td>False</td>\n",
              "      <td>False</td>\n",
              "      <td>False</td>\n",
              "    </tr>\n",
              "    <tr>\n",
              "      <th>166829</th>\n",
              "      <td>False</td>\n",
              "      <td>False</td>\n",
              "      <td>False</td>\n",
              "      <td>False</td>\n",
              "      <td>False</td>\n",
              "      <td>False</td>\n",
              "      <td>False</td>\n",
              "      <td>False</td>\n",
              "      <td>False</td>\n",
              "      <td>False</td>\n",
              "      <td>False</td>\n",
              "      <td>False</td>\n",
              "      <td>False</td>\n",
              "      <td>False</td>\n",
              "      <td>False</td>\n",
              "      <td>False</td>\n",
              "      <td>False</td>\n",
              "    </tr>\n",
              "  </tbody>\n",
              "</table>\n",
              "<p>166830 rows × 17 columns</p>\n",
              "</div>\n",
              "      <button class=\"colab-df-convert\" onclick=\"convertToInteractive('df-f2e60182-9123-4de4-8afe-55c78ea387e9')\"\n",
              "              title=\"Convert this dataframe to an interactive table.\"\n",
              "              style=\"display:none;\">\n",
              "        \n",
              "  <svg xmlns=\"http://www.w3.org/2000/svg\" height=\"24px\"viewBox=\"0 0 24 24\"\n",
              "       width=\"24px\">\n",
              "    <path d=\"M0 0h24v24H0V0z\" fill=\"none\"/>\n",
              "    <path d=\"M18.56 5.44l.94 2.06.94-2.06 2.06-.94-2.06-.94-.94-2.06-.94 2.06-2.06.94zm-11 1L8.5 8.5l.94-2.06 2.06-.94-2.06-.94L8.5 2.5l-.94 2.06-2.06.94zm10 10l.94 2.06.94-2.06 2.06-.94-2.06-.94-.94-2.06-.94 2.06-2.06.94z\"/><path d=\"M17.41 7.96l-1.37-1.37c-.4-.4-.92-.59-1.43-.59-.52 0-1.04.2-1.43.59L10.3 9.45l-7.72 7.72c-.78.78-.78 2.05 0 2.83L4 21.41c.39.39.9.59 1.41.59.51 0 1.02-.2 1.41-.59l7.78-7.78 2.81-2.81c.8-.78.8-2.07 0-2.86zM5.41 20L4 18.59l7.72-7.72 1.47 1.35L5.41 20z\"/>\n",
              "  </svg>\n",
              "      </button>\n",
              "      \n",
              "  <style>\n",
              "    .colab-df-container {\n",
              "      display:flex;\n",
              "      flex-wrap:wrap;\n",
              "      gap: 12px;\n",
              "    }\n",
              "\n",
              "    .colab-df-convert {\n",
              "      background-color: #E8F0FE;\n",
              "      border: none;\n",
              "      border-radius: 50%;\n",
              "      cursor: pointer;\n",
              "      display: none;\n",
              "      fill: #1967D2;\n",
              "      height: 32px;\n",
              "      padding: 0 0 0 0;\n",
              "      width: 32px;\n",
              "    }\n",
              "\n",
              "    .colab-df-convert:hover {\n",
              "      background-color: #E2EBFA;\n",
              "      box-shadow: 0px 1px 2px rgba(60, 64, 67, 0.3), 0px 1px 3px 1px rgba(60, 64, 67, 0.15);\n",
              "      fill: #174EA6;\n",
              "    }\n",
              "\n",
              "    [theme=dark] .colab-df-convert {\n",
              "      background-color: #3B4455;\n",
              "      fill: #D2E3FC;\n",
              "    }\n",
              "\n",
              "    [theme=dark] .colab-df-convert:hover {\n",
              "      background-color: #434B5C;\n",
              "      box-shadow: 0px 1px 3px 1px rgba(0, 0, 0, 0.15);\n",
              "      filter: drop-shadow(0px 1px 2px rgba(0, 0, 0, 0.3));\n",
              "      fill: #FFFFFF;\n",
              "    }\n",
              "  </style>\n",
              "\n",
              "      <script>\n",
              "        const buttonEl =\n",
              "          document.querySelector('#df-f2e60182-9123-4de4-8afe-55c78ea387e9 button.colab-df-convert');\n",
              "        buttonEl.style.display =\n",
              "          google.colab.kernel.accessAllowed ? 'block' : 'none';\n",
              "\n",
              "        async function convertToInteractive(key) {\n",
              "          const element = document.querySelector('#df-f2e60182-9123-4de4-8afe-55c78ea387e9');\n",
              "          const dataTable =\n",
              "            await google.colab.kernel.invokeFunction('convertToInteractive',\n",
              "                                                     [key], {});\n",
              "          if (!dataTable) return;\n",
              "\n",
              "          const docLinkHtml = 'Like what you see? Visit the ' +\n",
              "            '<a target=\"_blank\" href=https://colab.research.google.com/notebooks/data_table.ipynb>data table notebook</a>'\n",
              "            + ' to learn more about interactive tables.';\n",
              "          element.innerHTML = '';\n",
              "          dataTable['output_type'] = 'display_data';\n",
              "          await google.colab.output.renderOutput(dataTable, element);\n",
              "          const docLink = document.createElement('div');\n",
              "          docLink.innerHTML = docLinkHtml;\n",
              "          element.appendChild(docLink);\n",
              "        }\n",
              "      </script>\n",
              "    </div>\n",
              "  </div>\n",
              "  "
            ]
          },
          "metadata": {},
          "execution_count": 38
        }
      ],
      "source": [
        "copia_2.isnull()"
      ]
    },
    {
      "cell_type": "code",
      "execution_count": 39,
      "metadata": {
        "colab": {
          "base_uri": "https://localhost:8080/"
        },
        "id": "6vuBl8uvb4Zg",
        "outputId": "ed2a3e78-b2f6-46f6-8105-67c7c5933e97"
      },
      "outputs": [
        {
          "output_type": "execute_result",
          "data": {
            "text/plain": [
              "1"
            ]
          },
          "metadata": {},
          "execution_count": 39
        }
      ],
      "source": [
        "copia_2['NOME_CURSO_BOLSA'].isnull().nunique()"
      ]
    },
    {
      "cell_type": "markdown",
      "metadata": {
        "id": "zIk5K16ZNBY2"
      },
      "source": [
        "##Aplicando o 'fillna' para a primeira cópia 'original_copia'"
      ]
    },
    {
      "cell_type": "code",
      "execution_count": 40,
      "metadata": {
        "id": "WkOESIDZdHhT"
      },
      "outputs": [],
      "source": [
        "original_copia['NOME_CURSO_BOLSA'] = original_copia['NOME_CURSO_BOLSA'] .fillna(value='NAO INFORMADO')"
      ]
    },
    {
      "cell_type": "code",
      "execution_count": 41,
      "metadata": {
        "colab": {
          "base_uri": "https://localhost:8080/"
        },
        "id": "yRbytKlbdHrr",
        "outputId": "47d476e2-fc58-4574-8d6a-87c70847489d"
      },
      "outputs": [
        {
          "output_type": "stream",
          "name": "stdout",
          "text": [
            "<class 'pandas.core.frame.DataFrame'>\n",
            "RangeIndex: 166830 entries, 0 to 166829\n",
            "Data columns (total 17 columns):\n",
            " #   Column                          Non-Null Count   Dtype         \n",
            "---  ------                          --------------   -----         \n",
            " 0   ANO_CONCESSAO_BOLSA             166830 non-null  int64         \n",
            " 1   CODIGO_EMEC_IES_BOLSA           166830 non-null  int64         \n",
            " 2   NOME_IES_BOLSA                  166830 non-null  object        \n",
            " 3   MUNICIPIO                       166830 non-null  object        \n",
            " 4   CAMPUS                          166830 non-null  object        \n",
            " 5   TIPO_BOLSA                      166830 non-null  category      \n",
            " 6   MODALIDADE_ENSINO_BOLSA         166830 non-null  category      \n",
            " 7   NOME_CURSO_BOLSA                166830 non-null  object        \n",
            " 8   NOME_TURNO_CURSO_BOLSA          166830 non-null  category      \n",
            " 9   CPF_BENEFICIARIO                166830 non-null  object        \n",
            " 10  SEXO_BENEFICIARIO               166830 non-null  category      \n",
            " 11  RACA_BENEFICIARIO               166830 non-null  category      \n",
            " 12  DATA_NASCIMENTO                 166830 non-null  datetime64[ns]\n",
            " 13  BENEFICIARIO_DEFICIENTE_FISICO  166830 non-null  category      \n",
            " 14  REGIAO_BENEFICIARIO             166830 non-null  category      \n",
            " 15  UF_BENEFICIARIO                 166830 non-null  object        \n",
            " 16  MUNICIPIO_BENEFICIARIO          166830 non-null  object        \n",
            "dtypes: category(7), datetime64[ns](1), int64(2), object(7)\n",
            "memory usage: 13.8+ MB\n"
          ]
        }
      ],
      "source": [
        "original_copia.info()"
      ]
    },
    {
      "cell_type": "code",
      "execution_count": 42,
      "metadata": {
        "colab": {
          "base_uri": "https://localhost:8080/",
          "height": 488
        },
        "id": "uV7oBJ93iZ1k",
        "outputId": "f5bdc00d-f6c5-4e41-a1a3-8d1050bb2afa"
      },
      "outputs": [
        {
          "output_type": "execute_result",
          "data": {
            "text/plain": [
              "        ANO_CONCESSAO_BOLSA  CODIGO_EMEC_IES_BOLSA  NOME_IES_BOLSA  MUNICIPIO  \\\n",
              "0                     False                  False           False      False   \n",
              "1                     False                  False           False      False   \n",
              "2                     False                  False           False      False   \n",
              "3                     False                  False           False      False   \n",
              "4                     False                  False           False      False   \n",
              "...                     ...                    ...             ...        ...   \n",
              "166825                False                  False           False      False   \n",
              "166826                False                  False           False      False   \n",
              "166827                False                  False           False      False   \n",
              "166828                False                  False           False      False   \n",
              "166829                False                  False           False      False   \n",
              "\n",
              "        CAMPUS  TIPO_BOLSA  MODALIDADE_ENSINO_BOLSA  NOME_CURSO_BOLSA  \\\n",
              "0        False       False                    False             False   \n",
              "1        False       False                    False             False   \n",
              "2        False       False                    False             False   \n",
              "3        False       False                    False             False   \n",
              "4        False       False                    False             False   \n",
              "...        ...         ...                      ...               ...   \n",
              "166825   False       False                    False             False   \n",
              "166826   False       False                    False             False   \n",
              "166827   False       False                    False             False   \n",
              "166828   False       False                    False             False   \n",
              "166829   False       False                    False             False   \n",
              "\n",
              "        NOME_TURNO_CURSO_BOLSA  CPF_BENEFICIARIO  SEXO_BENEFICIARIO  \\\n",
              "0                        False             False              False   \n",
              "1                        False             False              False   \n",
              "2                        False             False              False   \n",
              "3                        False             False              False   \n",
              "4                        False             False              False   \n",
              "...                        ...               ...                ...   \n",
              "166825                   False             False              False   \n",
              "166826                   False             False              False   \n",
              "166827                   False             False              False   \n",
              "166828                   False             False              False   \n",
              "166829                   False             False              False   \n",
              "\n",
              "        RACA_BENEFICIARIO  DATA_NASCIMENTO  BENEFICIARIO_DEFICIENTE_FISICO  \\\n",
              "0                   False            False                           False   \n",
              "1                   False            False                           False   \n",
              "2                   False            False                           False   \n",
              "3                   False            False                           False   \n",
              "4                   False            False                           False   \n",
              "...                   ...              ...                             ...   \n",
              "166825              False            False                           False   \n",
              "166826              False            False                           False   \n",
              "166827              False            False                           False   \n",
              "166828              False            False                           False   \n",
              "166829              False            False                           False   \n",
              "\n",
              "        REGIAO_BENEFICIARIO  UF_BENEFICIARIO  MUNICIPIO_BENEFICIARIO  \n",
              "0                     False            False                   False  \n",
              "1                     False            False                   False  \n",
              "2                     False            False                   False  \n",
              "3                     False            False                   False  \n",
              "4                     False            False                   False  \n",
              "...                     ...              ...                     ...  \n",
              "166825                False            False                   False  \n",
              "166826                False            False                   False  \n",
              "166827                False            False                   False  \n",
              "166828                False            False                   False  \n",
              "166829                False            False                   False  \n",
              "\n",
              "[166830 rows x 17 columns]"
            ],
            "text/html": [
              "\n",
              "  <div id=\"df-ed281e14-eece-4416-9d01-ec961cfd529a\">\n",
              "    <div class=\"colab-df-container\">\n",
              "      <div>\n",
              "<style scoped>\n",
              "    .dataframe tbody tr th:only-of-type {\n",
              "        vertical-align: middle;\n",
              "    }\n",
              "\n",
              "    .dataframe tbody tr th {\n",
              "        vertical-align: top;\n",
              "    }\n",
              "\n",
              "    .dataframe thead th {\n",
              "        text-align: right;\n",
              "    }\n",
              "</style>\n",
              "<table border=\"1\" class=\"dataframe\">\n",
              "  <thead>\n",
              "    <tr style=\"text-align: right;\">\n",
              "      <th></th>\n",
              "      <th>ANO_CONCESSAO_BOLSA</th>\n",
              "      <th>CODIGO_EMEC_IES_BOLSA</th>\n",
              "      <th>NOME_IES_BOLSA</th>\n",
              "      <th>MUNICIPIO</th>\n",
              "      <th>CAMPUS</th>\n",
              "      <th>TIPO_BOLSA</th>\n",
              "      <th>MODALIDADE_ENSINO_BOLSA</th>\n",
              "      <th>NOME_CURSO_BOLSA</th>\n",
              "      <th>NOME_TURNO_CURSO_BOLSA</th>\n",
              "      <th>CPF_BENEFICIARIO</th>\n",
              "      <th>SEXO_BENEFICIARIO</th>\n",
              "      <th>RACA_BENEFICIARIO</th>\n",
              "      <th>DATA_NASCIMENTO</th>\n",
              "      <th>BENEFICIARIO_DEFICIENTE_FISICO</th>\n",
              "      <th>REGIAO_BENEFICIARIO</th>\n",
              "      <th>UF_BENEFICIARIO</th>\n",
              "      <th>MUNICIPIO_BENEFICIARIO</th>\n",
              "    </tr>\n",
              "  </thead>\n",
              "  <tbody>\n",
              "    <tr>\n",
              "      <th>0</th>\n",
              "      <td>False</td>\n",
              "      <td>False</td>\n",
              "      <td>False</td>\n",
              "      <td>False</td>\n",
              "      <td>False</td>\n",
              "      <td>False</td>\n",
              "      <td>False</td>\n",
              "      <td>False</td>\n",
              "      <td>False</td>\n",
              "      <td>False</td>\n",
              "      <td>False</td>\n",
              "      <td>False</td>\n",
              "      <td>False</td>\n",
              "      <td>False</td>\n",
              "      <td>False</td>\n",
              "      <td>False</td>\n",
              "      <td>False</td>\n",
              "    </tr>\n",
              "    <tr>\n",
              "      <th>1</th>\n",
              "      <td>False</td>\n",
              "      <td>False</td>\n",
              "      <td>False</td>\n",
              "      <td>False</td>\n",
              "      <td>False</td>\n",
              "      <td>False</td>\n",
              "      <td>False</td>\n",
              "      <td>False</td>\n",
              "      <td>False</td>\n",
              "      <td>False</td>\n",
              "      <td>False</td>\n",
              "      <td>False</td>\n",
              "      <td>False</td>\n",
              "      <td>False</td>\n",
              "      <td>False</td>\n",
              "      <td>False</td>\n",
              "      <td>False</td>\n",
              "    </tr>\n",
              "    <tr>\n",
              "      <th>2</th>\n",
              "      <td>False</td>\n",
              "      <td>False</td>\n",
              "      <td>False</td>\n",
              "      <td>False</td>\n",
              "      <td>False</td>\n",
              "      <td>False</td>\n",
              "      <td>False</td>\n",
              "      <td>False</td>\n",
              "      <td>False</td>\n",
              "      <td>False</td>\n",
              "      <td>False</td>\n",
              "      <td>False</td>\n",
              "      <td>False</td>\n",
              "      <td>False</td>\n",
              "      <td>False</td>\n",
              "      <td>False</td>\n",
              "      <td>False</td>\n",
              "    </tr>\n",
              "    <tr>\n",
              "      <th>3</th>\n",
              "      <td>False</td>\n",
              "      <td>False</td>\n",
              "      <td>False</td>\n",
              "      <td>False</td>\n",
              "      <td>False</td>\n",
              "      <td>False</td>\n",
              "      <td>False</td>\n",
              "      <td>False</td>\n",
              "      <td>False</td>\n",
              "      <td>False</td>\n",
              "      <td>False</td>\n",
              "      <td>False</td>\n",
              "      <td>False</td>\n",
              "      <td>False</td>\n",
              "      <td>False</td>\n",
              "      <td>False</td>\n",
              "      <td>False</td>\n",
              "    </tr>\n",
              "    <tr>\n",
              "      <th>4</th>\n",
              "      <td>False</td>\n",
              "      <td>False</td>\n",
              "      <td>False</td>\n",
              "      <td>False</td>\n",
              "      <td>False</td>\n",
              "      <td>False</td>\n",
              "      <td>False</td>\n",
              "      <td>False</td>\n",
              "      <td>False</td>\n",
              "      <td>False</td>\n",
              "      <td>False</td>\n",
              "      <td>False</td>\n",
              "      <td>False</td>\n",
              "      <td>False</td>\n",
              "      <td>False</td>\n",
              "      <td>False</td>\n",
              "      <td>False</td>\n",
              "    </tr>\n",
              "    <tr>\n",
              "      <th>...</th>\n",
              "      <td>...</td>\n",
              "      <td>...</td>\n",
              "      <td>...</td>\n",
              "      <td>...</td>\n",
              "      <td>...</td>\n",
              "      <td>...</td>\n",
              "      <td>...</td>\n",
              "      <td>...</td>\n",
              "      <td>...</td>\n",
              "      <td>...</td>\n",
              "      <td>...</td>\n",
              "      <td>...</td>\n",
              "      <td>...</td>\n",
              "      <td>...</td>\n",
              "      <td>...</td>\n",
              "      <td>...</td>\n",
              "      <td>...</td>\n",
              "    </tr>\n",
              "    <tr>\n",
              "      <th>166825</th>\n",
              "      <td>False</td>\n",
              "      <td>False</td>\n",
              "      <td>False</td>\n",
              "      <td>False</td>\n",
              "      <td>False</td>\n",
              "      <td>False</td>\n",
              "      <td>False</td>\n",
              "      <td>False</td>\n",
              "      <td>False</td>\n",
              "      <td>False</td>\n",
              "      <td>False</td>\n",
              "      <td>False</td>\n",
              "      <td>False</td>\n",
              "      <td>False</td>\n",
              "      <td>False</td>\n",
              "      <td>False</td>\n",
              "      <td>False</td>\n",
              "    </tr>\n",
              "    <tr>\n",
              "      <th>166826</th>\n",
              "      <td>False</td>\n",
              "      <td>False</td>\n",
              "      <td>False</td>\n",
              "      <td>False</td>\n",
              "      <td>False</td>\n",
              "      <td>False</td>\n",
              "      <td>False</td>\n",
              "      <td>False</td>\n",
              "      <td>False</td>\n",
              "      <td>False</td>\n",
              "      <td>False</td>\n",
              "      <td>False</td>\n",
              "      <td>False</td>\n",
              "      <td>False</td>\n",
              "      <td>False</td>\n",
              "      <td>False</td>\n",
              "      <td>False</td>\n",
              "    </tr>\n",
              "    <tr>\n",
              "      <th>166827</th>\n",
              "      <td>False</td>\n",
              "      <td>False</td>\n",
              "      <td>False</td>\n",
              "      <td>False</td>\n",
              "      <td>False</td>\n",
              "      <td>False</td>\n",
              "      <td>False</td>\n",
              "      <td>False</td>\n",
              "      <td>False</td>\n",
              "      <td>False</td>\n",
              "      <td>False</td>\n",
              "      <td>False</td>\n",
              "      <td>False</td>\n",
              "      <td>False</td>\n",
              "      <td>False</td>\n",
              "      <td>False</td>\n",
              "      <td>False</td>\n",
              "    </tr>\n",
              "    <tr>\n",
              "      <th>166828</th>\n",
              "      <td>False</td>\n",
              "      <td>False</td>\n",
              "      <td>False</td>\n",
              "      <td>False</td>\n",
              "      <td>False</td>\n",
              "      <td>False</td>\n",
              "      <td>False</td>\n",
              "      <td>False</td>\n",
              "      <td>False</td>\n",
              "      <td>False</td>\n",
              "      <td>False</td>\n",
              "      <td>False</td>\n",
              "      <td>False</td>\n",
              "      <td>False</td>\n",
              "      <td>False</td>\n",
              "      <td>False</td>\n",
              "      <td>False</td>\n",
              "    </tr>\n",
              "    <tr>\n",
              "      <th>166829</th>\n",
              "      <td>False</td>\n",
              "      <td>False</td>\n",
              "      <td>False</td>\n",
              "      <td>False</td>\n",
              "      <td>False</td>\n",
              "      <td>False</td>\n",
              "      <td>False</td>\n",
              "      <td>False</td>\n",
              "      <td>False</td>\n",
              "      <td>False</td>\n",
              "      <td>False</td>\n",
              "      <td>False</td>\n",
              "      <td>False</td>\n",
              "      <td>False</td>\n",
              "      <td>False</td>\n",
              "      <td>False</td>\n",
              "      <td>False</td>\n",
              "    </tr>\n",
              "  </tbody>\n",
              "</table>\n",
              "<p>166830 rows × 17 columns</p>\n",
              "</div>\n",
              "      <button class=\"colab-df-convert\" onclick=\"convertToInteractive('df-ed281e14-eece-4416-9d01-ec961cfd529a')\"\n",
              "              title=\"Convert this dataframe to an interactive table.\"\n",
              "              style=\"display:none;\">\n",
              "        \n",
              "  <svg xmlns=\"http://www.w3.org/2000/svg\" height=\"24px\"viewBox=\"0 0 24 24\"\n",
              "       width=\"24px\">\n",
              "    <path d=\"M0 0h24v24H0V0z\" fill=\"none\"/>\n",
              "    <path d=\"M18.56 5.44l.94 2.06.94-2.06 2.06-.94-2.06-.94-.94-2.06-.94 2.06-2.06.94zm-11 1L8.5 8.5l.94-2.06 2.06-.94-2.06-.94L8.5 2.5l-.94 2.06-2.06.94zm10 10l.94 2.06.94-2.06 2.06-.94-2.06-.94-.94-2.06-.94 2.06-2.06.94z\"/><path d=\"M17.41 7.96l-1.37-1.37c-.4-.4-.92-.59-1.43-.59-.52 0-1.04.2-1.43.59L10.3 9.45l-7.72 7.72c-.78.78-.78 2.05 0 2.83L4 21.41c.39.39.9.59 1.41.59.51 0 1.02-.2 1.41-.59l7.78-7.78 2.81-2.81c.8-.78.8-2.07 0-2.86zM5.41 20L4 18.59l7.72-7.72 1.47 1.35L5.41 20z\"/>\n",
              "  </svg>\n",
              "      </button>\n",
              "      \n",
              "  <style>\n",
              "    .colab-df-container {\n",
              "      display:flex;\n",
              "      flex-wrap:wrap;\n",
              "      gap: 12px;\n",
              "    }\n",
              "\n",
              "    .colab-df-convert {\n",
              "      background-color: #E8F0FE;\n",
              "      border: none;\n",
              "      border-radius: 50%;\n",
              "      cursor: pointer;\n",
              "      display: none;\n",
              "      fill: #1967D2;\n",
              "      height: 32px;\n",
              "      padding: 0 0 0 0;\n",
              "      width: 32px;\n",
              "    }\n",
              "\n",
              "    .colab-df-convert:hover {\n",
              "      background-color: #E2EBFA;\n",
              "      box-shadow: 0px 1px 2px rgba(60, 64, 67, 0.3), 0px 1px 3px 1px rgba(60, 64, 67, 0.15);\n",
              "      fill: #174EA6;\n",
              "    }\n",
              "\n",
              "    [theme=dark] .colab-df-convert {\n",
              "      background-color: #3B4455;\n",
              "      fill: #D2E3FC;\n",
              "    }\n",
              "\n",
              "    [theme=dark] .colab-df-convert:hover {\n",
              "      background-color: #434B5C;\n",
              "      box-shadow: 0px 1px 3px 1px rgba(0, 0, 0, 0.15);\n",
              "      filter: drop-shadow(0px 1px 2px rgba(0, 0, 0, 0.3));\n",
              "      fill: #FFFFFF;\n",
              "    }\n",
              "  </style>\n",
              "\n",
              "      <script>\n",
              "        const buttonEl =\n",
              "          document.querySelector('#df-ed281e14-eece-4416-9d01-ec961cfd529a button.colab-df-convert');\n",
              "        buttonEl.style.display =\n",
              "          google.colab.kernel.accessAllowed ? 'block' : 'none';\n",
              "\n",
              "        async function convertToInteractive(key) {\n",
              "          const element = document.querySelector('#df-ed281e14-eece-4416-9d01-ec961cfd529a');\n",
              "          const dataTable =\n",
              "            await google.colab.kernel.invokeFunction('convertToInteractive',\n",
              "                                                     [key], {});\n",
              "          if (!dataTable) return;\n",
              "\n",
              "          const docLinkHtml = 'Like what you see? Visit the ' +\n",
              "            '<a target=\"_blank\" href=https://colab.research.google.com/notebooks/data_table.ipynb>data table notebook</a>'\n",
              "            + ' to learn more about interactive tables.';\n",
              "          element.innerHTML = '';\n",
              "          dataTable['output_type'] = 'display_data';\n",
              "          await google.colab.output.renderOutput(dataTable, element);\n",
              "          const docLink = document.createElement('div');\n",
              "          docLink.innerHTML = docLinkHtml;\n",
              "          element.appendChild(docLink);\n",
              "        }\n",
              "      </script>\n",
              "    </div>\n",
              "  </div>\n",
              "  "
            ]
          },
          "metadata": {},
          "execution_count": 42
        }
      ],
      "source": [
        "original_copia.isnull()"
      ]
    },
    {
      "cell_type": "code",
      "execution_count": 43,
      "metadata": {
        "colab": {
          "base_uri": "https://localhost:8080/"
        },
        "id": "lpLpsxaKdHzT",
        "outputId": "9c45c656-7b00-4da8-8f3c-217b1db8c6ef"
      },
      "outputs": [
        {
          "output_type": "execute_result",
          "data": {
            "text/plain": [
              "ANO_CONCESSAO_BOLSA               1\n",
              "CODIGO_EMEC_IES_BOLSA             1\n",
              "NOME_IES_BOLSA                    1\n",
              "MUNICIPIO                         1\n",
              "CAMPUS                            1\n",
              "TIPO_BOLSA                        1\n",
              "MODALIDADE_ENSINO_BOLSA           1\n",
              "NOME_CURSO_BOLSA                  1\n",
              "NOME_TURNO_CURSO_BOLSA            1\n",
              "CPF_BENEFICIARIO                  1\n",
              "SEXO_BENEFICIARIO                 1\n",
              "RACA_BENEFICIARIO                 1\n",
              "DATA_NASCIMENTO                   1\n",
              "BENEFICIARIO_DEFICIENTE_FISICO    1\n",
              "REGIAO_BENEFICIARIO               1\n",
              "UF_BENEFICIARIO                   1\n",
              "MUNICIPIO_BENEFICIARIO            1\n",
              "dtype: int64"
            ]
          },
          "metadata": {},
          "execution_count": 43
        }
      ],
      "source": [
        "original_copia.isnull().nunique()"
      ]
    },
    {
      "cell_type": "code",
      "execution_count": 44,
      "metadata": {
        "colab": {
          "base_uri": "https://localhost:8080/"
        },
        "id": "1Sw3TaxNdeJU",
        "outputId": "bc269509-9fb3-4852-8ada-05bb5a013094"
      },
      "outputs": [
        {
          "output_type": "execute_result",
          "data": {
            "text/plain": [
              "1"
            ]
          },
          "metadata": {},
          "execution_count": 44
        }
      ],
      "source": [
        "original_copia['NOME_CURSO_BOLSA'].isnull().nunique()"
      ]
    },
    {
      "cell_type": "markdown",
      "metadata": {
        "id": "Rgu_kCTQVNbq"
      },
      "source": [
        "##Adicionando uma coluna para cálculo da idade dos bolsistas"
      ]
    },
    {
      "cell_type": "code",
      "execution_count": 45,
      "metadata": {
        "colab": {
          "base_uri": "https://localhost:8080/",
          "height": 246
        },
        "id": "4lmcAZfKWdky",
        "outputId": "79c7557e-9abf-4ac6-e3d8-7b1a815571cb"
      },
      "outputs": [
        {
          "output_type": "execute_result",
          "data": {
            "text/plain": [
              "        ANO_CONCESSAO_BOLSA  CODIGO_EMEC_IES_BOLSA  \\\n",
              "166828                 2020                   1491   \n",
              "166829                 2020                   1491   \n",
              "\n",
              "                            NOME_IES_BOLSA   MUNICIPIO          CAMPUS  \\\n",
              "166828  CENTRO UNIVERSITµRIO INTERNACIONAL  ANANINDEUA  PAP ANANINDEUA   \n",
              "166829  CENTRO UNIVERSITµRIO INTERNACIONAL     LAJEADO     PAP LAJEADO   \n",
              "\n",
              "       TIPO_BOLSA MODALIDADE_ENSINO_BOLSA         NOME_CURSO_BOLSA  \\\n",
              "166828    PARCIAL                     EAD  RELAåES INTERNACIONAIS   \n",
              "166829    PARCIAL                     EAD                   MéSICA   \n",
              "\n",
              "       NOME_TURNO_CURSO_BOLSA CPF_BENEFICIARIO SEXO_BENEFICIARIO  \\\n",
              "166828      CURSO A DIST¶NCIA   601.XXX.XXX-53                 F   \n",
              "166829      CURSO A DIST¶NCIA   032.XXX.XXX-63                 M   \n",
              "\n",
              "       RACA_BENEFICIARIO DATA_NASCIMENTO BENEFICIARIO_DEFICIENTE_FISICO  \\\n",
              "166828             Parda      1975-09-17                              N   \n",
              "166829            Branca      1996-06-25                              N   \n",
              "\n",
              "       REGIAO_BENEFICIARIO UF_BENEFICIARIO MUNICIPIO_BENEFICIARIO  \n",
              "166828               NORTE              PA             ANANINDEUA  \n",
              "166829                 SUL              RS                ESTRELA  "
            ],
            "text/html": [
              "\n",
              "  <div id=\"df-78052396-c0a0-4ea8-9b92-d6c4ba3fe4b8\">\n",
              "    <div class=\"colab-df-container\">\n",
              "      <div>\n",
              "<style scoped>\n",
              "    .dataframe tbody tr th:only-of-type {\n",
              "        vertical-align: middle;\n",
              "    }\n",
              "\n",
              "    .dataframe tbody tr th {\n",
              "        vertical-align: top;\n",
              "    }\n",
              "\n",
              "    .dataframe thead th {\n",
              "        text-align: right;\n",
              "    }\n",
              "</style>\n",
              "<table border=\"1\" class=\"dataframe\">\n",
              "  <thead>\n",
              "    <tr style=\"text-align: right;\">\n",
              "      <th></th>\n",
              "      <th>ANO_CONCESSAO_BOLSA</th>\n",
              "      <th>CODIGO_EMEC_IES_BOLSA</th>\n",
              "      <th>NOME_IES_BOLSA</th>\n",
              "      <th>MUNICIPIO</th>\n",
              "      <th>CAMPUS</th>\n",
              "      <th>TIPO_BOLSA</th>\n",
              "      <th>MODALIDADE_ENSINO_BOLSA</th>\n",
              "      <th>NOME_CURSO_BOLSA</th>\n",
              "      <th>NOME_TURNO_CURSO_BOLSA</th>\n",
              "      <th>CPF_BENEFICIARIO</th>\n",
              "      <th>SEXO_BENEFICIARIO</th>\n",
              "      <th>RACA_BENEFICIARIO</th>\n",
              "      <th>DATA_NASCIMENTO</th>\n",
              "      <th>BENEFICIARIO_DEFICIENTE_FISICO</th>\n",
              "      <th>REGIAO_BENEFICIARIO</th>\n",
              "      <th>UF_BENEFICIARIO</th>\n",
              "      <th>MUNICIPIO_BENEFICIARIO</th>\n",
              "    </tr>\n",
              "  </thead>\n",
              "  <tbody>\n",
              "    <tr>\n",
              "      <th>166828</th>\n",
              "      <td>2020</td>\n",
              "      <td>1491</td>\n",
              "      <td>CENTRO UNIVERSITµRIO INTERNACIONAL</td>\n",
              "      <td>ANANINDEUA</td>\n",
              "      <td>PAP ANANINDEUA</td>\n",
              "      <td>PARCIAL</td>\n",
              "      <td>EAD</td>\n",
              "      <td>RELAåES INTERNACIONAIS</td>\n",
              "      <td>CURSO A DIST¶NCIA</td>\n",
              "      <td>601.XXX.XXX-53</td>\n",
              "      <td>F</td>\n",
              "      <td>Parda</td>\n",
              "      <td>1975-09-17</td>\n",
              "      <td>N</td>\n",
              "      <td>NORTE</td>\n",
              "      <td>PA</td>\n",
              "      <td>ANANINDEUA</td>\n",
              "    </tr>\n",
              "    <tr>\n",
              "      <th>166829</th>\n",
              "      <td>2020</td>\n",
              "      <td>1491</td>\n",
              "      <td>CENTRO UNIVERSITµRIO INTERNACIONAL</td>\n",
              "      <td>LAJEADO</td>\n",
              "      <td>PAP LAJEADO</td>\n",
              "      <td>PARCIAL</td>\n",
              "      <td>EAD</td>\n",
              "      <td>MéSICA</td>\n",
              "      <td>CURSO A DIST¶NCIA</td>\n",
              "      <td>032.XXX.XXX-63</td>\n",
              "      <td>M</td>\n",
              "      <td>Branca</td>\n",
              "      <td>1996-06-25</td>\n",
              "      <td>N</td>\n",
              "      <td>SUL</td>\n",
              "      <td>RS</td>\n",
              "      <td>ESTRELA</td>\n",
              "    </tr>\n",
              "  </tbody>\n",
              "</table>\n",
              "</div>\n",
              "      <button class=\"colab-df-convert\" onclick=\"convertToInteractive('df-78052396-c0a0-4ea8-9b92-d6c4ba3fe4b8')\"\n",
              "              title=\"Convert this dataframe to an interactive table.\"\n",
              "              style=\"display:none;\">\n",
              "        \n",
              "  <svg xmlns=\"http://www.w3.org/2000/svg\" height=\"24px\"viewBox=\"0 0 24 24\"\n",
              "       width=\"24px\">\n",
              "    <path d=\"M0 0h24v24H0V0z\" fill=\"none\"/>\n",
              "    <path d=\"M18.56 5.44l.94 2.06.94-2.06 2.06-.94-2.06-.94-.94-2.06-.94 2.06-2.06.94zm-11 1L8.5 8.5l.94-2.06 2.06-.94-2.06-.94L8.5 2.5l-.94 2.06-2.06.94zm10 10l.94 2.06.94-2.06 2.06-.94-2.06-.94-.94-2.06-.94 2.06-2.06.94z\"/><path d=\"M17.41 7.96l-1.37-1.37c-.4-.4-.92-.59-1.43-.59-.52 0-1.04.2-1.43.59L10.3 9.45l-7.72 7.72c-.78.78-.78 2.05 0 2.83L4 21.41c.39.39.9.59 1.41.59.51 0 1.02-.2 1.41-.59l7.78-7.78 2.81-2.81c.8-.78.8-2.07 0-2.86zM5.41 20L4 18.59l7.72-7.72 1.47 1.35L5.41 20z\"/>\n",
              "  </svg>\n",
              "      </button>\n",
              "      \n",
              "  <style>\n",
              "    .colab-df-container {\n",
              "      display:flex;\n",
              "      flex-wrap:wrap;\n",
              "      gap: 12px;\n",
              "    }\n",
              "\n",
              "    .colab-df-convert {\n",
              "      background-color: #E8F0FE;\n",
              "      border: none;\n",
              "      border-radius: 50%;\n",
              "      cursor: pointer;\n",
              "      display: none;\n",
              "      fill: #1967D2;\n",
              "      height: 32px;\n",
              "      padding: 0 0 0 0;\n",
              "      width: 32px;\n",
              "    }\n",
              "\n",
              "    .colab-df-convert:hover {\n",
              "      background-color: #E2EBFA;\n",
              "      box-shadow: 0px 1px 2px rgba(60, 64, 67, 0.3), 0px 1px 3px 1px rgba(60, 64, 67, 0.15);\n",
              "      fill: #174EA6;\n",
              "    }\n",
              "\n",
              "    [theme=dark] .colab-df-convert {\n",
              "      background-color: #3B4455;\n",
              "      fill: #D2E3FC;\n",
              "    }\n",
              "\n",
              "    [theme=dark] .colab-df-convert:hover {\n",
              "      background-color: #434B5C;\n",
              "      box-shadow: 0px 1px 3px 1px rgba(0, 0, 0, 0.15);\n",
              "      filter: drop-shadow(0px 1px 2px rgba(0, 0, 0, 0.3));\n",
              "      fill: #FFFFFF;\n",
              "    }\n",
              "  </style>\n",
              "\n",
              "      <script>\n",
              "        const buttonEl =\n",
              "          document.querySelector('#df-78052396-c0a0-4ea8-9b92-d6c4ba3fe4b8 button.colab-df-convert');\n",
              "        buttonEl.style.display =\n",
              "          google.colab.kernel.accessAllowed ? 'block' : 'none';\n",
              "\n",
              "        async function convertToInteractive(key) {\n",
              "          const element = document.querySelector('#df-78052396-c0a0-4ea8-9b92-d6c4ba3fe4b8');\n",
              "          const dataTable =\n",
              "            await google.colab.kernel.invokeFunction('convertToInteractive',\n",
              "                                                     [key], {});\n",
              "          if (!dataTable) return;\n",
              "\n",
              "          const docLinkHtml = 'Like what you see? Visit the ' +\n",
              "            '<a target=\"_blank\" href=https://colab.research.google.com/notebooks/data_table.ipynb>data table notebook</a>'\n",
              "            + ' to learn more about interactive tables.';\n",
              "          element.innerHTML = '';\n",
              "          dataTable['output_type'] = 'display_data';\n",
              "          await google.colab.output.renderOutput(dataTable, element);\n",
              "          const docLink = document.createElement('div');\n",
              "          docLink.innerHTML = docLinkHtml;\n",
              "          element.appendChild(docLink);\n",
              "        }\n",
              "      </script>\n",
              "    </div>\n",
              "  </div>\n",
              "  "
            ]
          },
          "metadata": {},
          "execution_count": 45
        }
      ],
      "source": [
        "original_copia.tail(2)"
      ]
    },
    {
      "cell_type": "code",
      "execution_count": 46,
      "metadata": {
        "colab": {
          "base_uri": "https://localhost:8080/"
        },
        "id": "MhDlisWWfAWP",
        "outputId": "fa5e891c-2a78-4789-b5e5-22526b9223d3"
      },
      "outputs": [
        {
          "output_type": "execute_result",
          "data": {
            "text/plain": [
              "dtype('int64')"
            ]
          },
          "metadata": {},
          "execution_count": 46
        }
      ],
      "source": [
        "original_copia['ANO_CONCESSAO_BOLSA'].dtype\n"
      ]
    },
    {
      "cell_type": "markdown",
      "metadata": {
        "id": "V7UUZ9qGHJGl"
      },
      "source": [
        "##Fazendo mais uma cópia para manipular o DataFrame e adicionando mais um coluna chamada 'ANO_NASCIMENTO'."
      ]
    },
    {
      "cell_type": "code",
      "execution_count": 47,
      "metadata": {
        "id": "MiweslG_eq2-"
      },
      "outputs": [],
      "source": [
        "copia_3 = original_copia.copy()"
      ]
    },
    {
      "cell_type": "code",
      "execution_count": 48,
      "metadata": {
        "colab": {
          "base_uri": "https://localhost:8080/",
          "height": 277
        },
        "id": "cWgAjUfLMTA1",
        "outputId": "ed7a361c-7862-4335-934c-dcca0839c89b"
      },
      "outputs": [
        {
          "output_type": "execute_result",
          "data": {
            "text/plain": [
              "   ANO_CONCESSAO_BOLSA  CODIGO_EMEC_IES_BOLSA              NOME_IES_BOLSA  \\\n",
              "0                 2020                    322       UNIVERSIDADE PAULISTA   \n",
              "1                 2020                    163  UNIVERSIDADE ESTµCIO DE Sµ   \n",
              "2                 2020                  17670   FACULDADE DE QUIXERAMOBIM   \n",
              "\n",
              "      MUNICIPIO                            CAMPUS TIPO_BOLSA  \\\n",
              "0      IPATINGA                          IPATINGA   INTEGRAL   \n",
              "1     FORTALEZA               EAD VIA CORPVS - CE   INTEGRAL   \n",
              "2  QUIXERAMOBIM  FACULDADE DE QUIXERAMOBIM - UNIQ   INTEGRAL   \n",
              "\n",
              "  MODALIDADE_ENSINO_BOLSA NOME_CURSO_BOLSA NOME_TURNO_CURSO_BOLSA  \\\n",
              "0                     EAD        PEDAGOGIA      CURSO A DIST¶NCIA   \n",
              "1                     EAD        MARKETING      CURSO A DIST¶NCIA   \n",
              "2              PRESENCIAL         FARMµCIA                NOTURNO   \n",
              "\n",
              "  CPF_BENEFICIARIO SEXO_BENEFICIARIO RACA_BENEFICIARIO DATA_NASCIMENTO  \\\n",
              "0   991.XXX.XXX-91                 F             Parda      1973-11-08   \n",
              "1   067.XXX.XXX-01                 M             Parda      1987-05-13   \n",
              "2   623.XXX.XXX-27                 M             Parda      2001-07-23   \n",
              "\n",
              "  BENEFICIARIO_DEFICIENTE_FISICO REGIAO_BENEFICIARIO UF_BENEFICIARIO  \\\n",
              "0                              N             SUDESTE              MG   \n",
              "1                              N            NORDESTE              CE   \n",
              "2                              N            NORDESTE              CE   \n",
              "\n",
              "  MUNICIPIO_BENEFICIARIO  \n",
              "0   GOVERNADOR VALADARES  \n",
              "1              FORTALEZA  \n",
              "2                MOMBACA  "
            ],
            "text/html": [
              "\n",
              "  <div id=\"df-c5536555-61ce-45ca-9bbc-83ef3e05fb4f\">\n",
              "    <div class=\"colab-df-container\">\n",
              "      <div>\n",
              "<style scoped>\n",
              "    .dataframe tbody tr th:only-of-type {\n",
              "        vertical-align: middle;\n",
              "    }\n",
              "\n",
              "    .dataframe tbody tr th {\n",
              "        vertical-align: top;\n",
              "    }\n",
              "\n",
              "    .dataframe thead th {\n",
              "        text-align: right;\n",
              "    }\n",
              "</style>\n",
              "<table border=\"1\" class=\"dataframe\">\n",
              "  <thead>\n",
              "    <tr style=\"text-align: right;\">\n",
              "      <th></th>\n",
              "      <th>ANO_CONCESSAO_BOLSA</th>\n",
              "      <th>CODIGO_EMEC_IES_BOLSA</th>\n",
              "      <th>NOME_IES_BOLSA</th>\n",
              "      <th>MUNICIPIO</th>\n",
              "      <th>CAMPUS</th>\n",
              "      <th>TIPO_BOLSA</th>\n",
              "      <th>MODALIDADE_ENSINO_BOLSA</th>\n",
              "      <th>NOME_CURSO_BOLSA</th>\n",
              "      <th>NOME_TURNO_CURSO_BOLSA</th>\n",
              "      <th>CPF_BENEFICIARIO</th>\n",
              "      <th>SEXO_BENEFICIARIO</th>\n",
              "      <th>RACA_BENEFICIARIO</th>\n",
              "      <th>DATA_NASCIMENTO</th>\n",
              "      <th>BENEFICIARIO_DEFICIENTE_FISICO</th>\n",
              "      <th>REGIAO_BENEFICIARIO</th>\n",
              "      <th>UF_BENEFICIARIO</th>\n",
              "      <th>MUNICIPIO_BENEFICIARIO</th>\n",
              "    </tr>\n",
              "  </thead>\n",
              "  <tbody>\n",
              "    <tr>\n",
              "      <th>0</th>\n",
              "      <td>2020</td>\n",
              "      <td>322</td>\n",
              "      <td>UNIVERSIDADE PAULISTA</td>\n",
              "      <td>IPATINGA</td>\n",
              "      <td>IPATINGA</td>\n",
              "      <td>INTEGRAL</td>\n",
              "      <td>EAD</td>\n",
              "      <td>PEDAGOGIA</td>\n",
              "      <td>CURSO A DIST¶NCIA</td>\n",
              "      <td>991.XXX.XXX-91</td>\n",
              "      <td>F</td>\n",
              "      <td>Parda</td>\n",
              "      <td>1973-11-08</td>\n",
              "      <td>N</td>\n",
              "      <td>SUDESTE</td>\n",
              "      <td>MG</td>\n",
              "      <td>GOVERNADOR VALADARES</td>\n",
              "    </tr>\n",
              "    <tr>\n",
              "      <th>1</th>\n",
              "      <td>2020</td>\n",
              "      <td>163</td>\n",
              "      <td>UNIVERSIDADE ESTµCIO DE Sµ</td>\n",
              "      <td>FORTALEZA</td>\n",
              "      <td>EAD VIA CORPVS - CE</td>\n",
              "      <td>INTEGRAL</td>\n",
              "      <td>EAD</td>\n",
              "      <td>MARKETING</td>\n",
              "      <td>CURSO A DIST¶NCIA</td>\n",
              "      <td>067.XXX.XXX-01</td>\n",
              "      <td>M</td>\n",
              "      <td>Parda</td>\n",
              "      <td>1987-05-13</td>\n",
              "      <td>N</td>\n",
              "      <td>NORDESTE</td>\n",
              "      <td>CE</td>\n",
              "      <td>FORTALEZA</td>\n",
              "    </tr>\n",
              "    <tr>\n",
              "      <th>2</th>\n",
              "      <td>2020</td>\n",
              "      <td>17670</td>\n",
              "      <td>FACULDADE DE QUIXERAMOBIM</td>\n",
              "      <td>QUIXERAMOBIM</td>\n",
              "      <td>FACULDADE DE QUIXERAMOBIM - UNIQ</td>\n",
              "      <td>INTEGRAL</td>\n",
              "      <td>PRESENCIAL</td>\n",
              "      <td>FARMµCIA</td>\n",
              "      <td>NOTURNO</td>\n",
              "      <td>623.XXX.XXX-27</td>\n",
              "      <td>M</td>\n",
              "      <td>Parda</td>\n",
              "      <td>2001-07-23</td>\n",
              "      <td>N</td>\n",
              "      <td>NORDESTE</td>\n",
              "      <td>CE</td>\n",
              "      <td>MOMBACA</td>\n",
              "    </tr>\n",
              "  </tbody>\n",
              "</table>\n",
              "</div>\n",
              "      <button class=\"colab-df-convert\" onclick=\"convertToInteractive('df-c5536555-61ce-45ca-9bbc-83ef3e05fb4f')\"\n",
              "              title=\"Convert this dataframe to an interactive table.\"\n",
              "              style=\"display:none;\">\n",
              "        \n",
              "  <svg xmlns=\"http://www.w3.org/2000/svg\" height=\"24px\"viewBox=\"0 0 24 24\"\n",
              "       width=\"24px\">\n",
              "    <path d=\"M0 0h24v24H0V0z\" fill=\"none\"/>\n",
              "    <path d=\"M18.56 5.44l.94 2.06.94-2.06 2.06-.94-2.06-.94-.94-2.06-.94 2.06-2.06.94zm-11 1L8.5 8.5l.94-2.06 2.06-.94-2.06-.94L8.5 2.5l-.94 2.06-2.06.94zm10 10l.94 2.06.94-2.06 2.06-.94-2.06-.94-.94-2.06-.94 2.06-2.06.94z\"/><path d=\"M17.41 7.96l-1.37-1.37c-.4-.4-.92-.59-1.43-.59-.52 0-1.04.2-1.43.59L10.3 9.45l-7.72 7.72c-.78.78-.78 2.05 0 2.83L4 21.41c.39.39.9.59 1.41.59.51 0 1.02-.2 1.41-.59l7.78-7.78 2.81-2.81c.8-.78.8-2.07 0-2.86zM5.41 20L4 18.59l7.72-7.72 1.47 1.35L5.41 20z\"/>\n",
              "  </svg>\n",
              "      </button>\n",
              "      \n",
              "  <style>\n",
              "    .colab-df-container {\n",
              "      display:flex;\n",
              "      flex-wrap:wrap;\n",
              "      gap: 12px;\n",
              "    }\n",
              "\n",
              "    .colab-df-convert {\n",
              "      background-color: #E8F0FE;\n",
              "      border: none;\n",
              "      border-radius: 50%;\n",
              "      cursor: pointer;\n",
              "      display: none;\n",
              "      fill: #1967D2;\n",
              "      height: 32px;\n",
              "      padding: 0 0 0 0;\n",
              "      width: 32px;\n",
              "    }\n",
              "\n",
              "    .colab-df-convert:hover {\n",
              "      background-color: #E2EBFA;\n",
              "      box-shadow: 0px 1px 2px rgba(60, 64, 67, 0.3), 0px 1px 3px 1px rgba(60, 64, 67, 0.15);\n",
              "      fill: #174EA6;\n",
              "    }\n",
              "\n",
              "    [theme=dark] .colab-df-convert {\n",
              "      background-color: #3B4455;\n",
              "      fill: #D2E3FC;\n",
              "    }\n",
              "\n",
              "    [theme=dark] .colab-df-convert:hover {\n",
              "      background-color: #434B5C;\n",
              "      box-shadow: 0px 1px 3px 1px rgba(0, 0, 0, 0.15);\n",
              "      filter: drop-shadow(0px 1px 2px rgba(0, 0, 0, 0.3));\n",
              "      fill: #FFFFFF;\n",
              "    }\n",
              "  </style>\n",
              "\n",
              "      <script>\n",
              "        const buttonEl =\n",
              "          document.querySelector('#df-c5536555-61ce-45ca-9bbc-83ef3e05fb4f button.colab-df-convert');\n",
              "        buttonEl.style.display =\n",
              "          google.colab.kernel.accessAllowed ? 'block' : 'none';\n",
              "\n",
              "        async function convertToInteractive(key) {\n",
              "          const element = document.querySelector('#df-c5536555-61ce-45ca-9bbc-83ef3e05fb4f');\n",
              "          const dataTable =\n",
              "            await google.colab.kernel.invokeFunction('convertToInteractive',\n",
              "                                                     [key], {});\n",
              "          if (!dataTable) return;\n",
              "\n",
              "          const docLinkHtml = 'Like what you see? Visit the ' +\n",
              "            '<a target=\"_blank\" href=https://colab.research.google.com/notebooks/data_table.ipynb>data table notebook</a>'\n",
              "            + ' to learn more about interactive tables.';\n",
              "          element.innerHTML = '';\n",
              "          dataTable['output_type'] = 'display_data';\n",
              "          await google.colab.output.renderOutput(dataTable, element);\n",
              "          const docLink = document.createElement('div');\n",
              "          docLink.innerHTML = docLinkHtml;\n",
              "          element.appendChild(docLink);\n",
              "        }\n",
              "      </script>\n",
              "    </div>\n",
              "  </div>\n",
              "  "
            ]
          },
          "metadata": {},
          "execution_count": 48
        }
      ],
      "source": [
        "copia_3.head(3)"
      ]
    },
    {
      "cell_type": "code",
      "execution_count": 49,
      "metadata": {
        "id": "Zcq0NaRrN6rk"
      },
      "outputs": [],
      "source": [
        "copia_3['ANO_NASCIMENTO']=copia_3['DATA_NASCIMENTO'].dt.year"
      ]
    },
    {
      "cell_type": "code",
      "execution_count": 50,
      "metadata": {
        "colab": {
          "base_uri": "https://localhost:8080/",
          "height": 409
        },
        "id": "eqLe74B_OtRf",
        "outputId": "04de6340-cc08-48d6-9da0-4862cef3e95f"
      },
      "outputs": [
        {
          "output_type": "execute_result",
          "data": {
            "text/plain": [
              "   ANO_CONCESSAO_BOLSA  CODIGO_EMEC_IES_BOLSA                NOME_IES_BOLSA  \\\n",
              "0                 2020                    322         UNIVERSIDADE PAULISTA   \n",
              "1                 2020                    163    UNIVERSIDADE ESTµCIO DE Sµ   \n",
              "2                 2020                  17670     FACULDADE DE QUIXERAMOBIM   \n",
              "3                 2020                    203  UNIVERSIDADE SÇO JUDAS TADEU   \n",
              "4                 2020                    203  UNIVERSIDADE SÇO JUDAS TADEU   \n",
              "\n",
              "      MUNICIPIO                            CAMPUS TIPO_BOLSA  \\\n",
              "0      IPATINGA                          IPATINGA   INTEGRAL   \n",
              "1     FORTALEZA               EAD VIA CORPVS - CE   INTEGRAL   \n",
              "2  QUIXERAMOBIM  FACULDADE DE QUIXERAMOBIM - UNIQ   INTEGRAL   \n",
              "3     SAO PAULO                          PAULISTA    PARCIAL   \n",
              "4     SAO PAULO                          PAULISTA   INTEGRAL   \n",
              "\n",
              "  MODALIDADE_ENSINO_BOLSA NOME_CURSO_BOLSA NOME_TURNO_CURSO_BOLSA  \\\n",
              "0                     EAD        PEDAGOGIA      CURSO A DIST¶NCIA   \n",
              "1                     EAD        MARKETING      CURSO A DIST¶NCIA   \n",
              "2              PRESENCIAL         FARMµCIA                NOTURNO   \n",
              "3              PRESENCIAL          DIREITO               MATUTINO   \n",
              "4              PRESENCIAL          DIREITO               MATUTINO   \n",
              "\n",
              "  CPF_BENEFICIARIO SEXO_BENEFICIARIO RACA_BENEFICIARIO DATA_NASCIMENTO  \\\n",
              "0   991.XXX.XXX-91                 F             Parda      1973-11-08   \n",
              "1   067.XXX.XXX-01                 M             Parda      1987-05-13   \n",
              "2   623.XXX.XXX-27                 M             Parda      2001-07-23   \n",
              "3   089.XXX.XXX-40                 F            Branca      2003-04-04   \n",
              "4   173.XXX.XXX-09                 F            Branca      1977-07-12   \n",
              "\n",
              "  BENEFICIARIO_DEFICIENTE_FISICO REGIAO_BENEFICIARIO UF_BENEFICIARIO  \\\n",
              "0                              N             SUDESTE              MG   \n",
              "1                              N            NORDESTE              CE   \n",
              "2                              N            NORDESTE              CE   \n",
              "3                              N            NORDESTE              BA   \n",
              "4                              N             SUDESTE              SP   \n",
              "\n",
              "  MUNICIPIO_BENEFICIARIO  ANO_NASCIMENTO  \n",
              "0   GOVERNADOR VALADARES            1973  \n",
              "1              FORTALEZA            1987  \n",
              "2                MOMBACA            2001  \n",
              "3                IBITITA            2003  \n",
              "4              SAO PAULO            1977  "
            ],
            "text/html": [
              "\n",
              "  <div id=\"df-16399a76-7c57-486e-a8ec-347f3fa4eb80\">\n",
              "    <div class=\"colab-df-container\">\n",
              "      <div>\n",
              "<style scoped>\n",
              "    .dataframe tbody tr th:only-of-type {\n",
              "        vertical-align: middle;\n",
              "    }\n",
              "\n",
              "    .dataframe tbody tr th {\n",
              "        vertical-align: top;\n",
              "    }\n",
              "\n",
              "    .dataframe thead th {\n",
              "        text-align: right;\n",
              "    }\n",
              "</style>\n",
              "<table border=\"1\" class=\"dataframe\">\n",
              "  <thead>\n",
              "    <tr style=\"text-align: right;\">\n",
              "      <th></th>\n",
              "      <th>ANO_CONCESSAO_BOLSA</th>\n",
              "      <th>CODIGO_EMEC_IES_BOLSA</th>\n",
              "      <th>NOME_IES_BOLSA</th>\n",
              "      <th>MUNICIPIO</th>\n",
              "      <th>CAMPUS</th>\n",
              "      <th>TIPO_BOLSA</th>\n",
              "      <th>MODALIDADE_ENSINO_BOLSA</th>\n",
              "      <th>NOME_CURSO_BOLSA</th>\n",
              "      <th>NOME_TURNO_CURSO_BOLSA</th>\n",
              "      <th>CPF_BENEFICIARIO</th>\n",
              "      <th>SEXO_BENEFICIARIO</th>\n",
              "      <th>RACA_BENEFICIARIO</th>\n",
              "      <th>DATA_NASCIMENTO</th>\n",
              "      <th>BENEFICIARIO_DEFICIENTE_FISICO</th>\n",
              "      <th>REGIAO_BENEFICIARIO</th>\n",
              "      <th>UF_BENEFICIARIO</th>\n",
              "      <th>MUNICIPIO_BENEFICIARIO</th>\n",
              "      <th>ANO_NASCIMENTO</th>\n",
              "    </tr>\n",
              "  </thead>\n",
              "  <tbody>\n",
              "    <tr>\n",
              "      <th>0</th>\n",
              "      <td>2020</td>\n",
              "      <td>322</td>\n",
              "      <td>UNIVERSIDADE PAULISTA</td>\n",
              "      <td>IPATINGA</td>\n",
              "      <td>IPATINGA</td>\n",
              "      <td>INTEGRAL</td>\n",
              "      <td>EAD</td>\n",
              "      <td>PEDAGOGIA</td>\n",
              "      <td>CURSO A DIST¶NCIA</td>\n",
              "      <td>991.XXX.XXX-91</td>\n",
              "      <td>F</td>\n",
              "      <td>Parda</td>\n",
              "      <td>1973-11-08</td>\n",
              "      <td>N</td>\n",
              "      <td>SUDESTE</td>\n",
              "      <td>MG</td>\n",
              "      <td>GOVERNADOR VALADARES</td>\n",
              "      <td>1973</td>\n",
              "    </tr>\n",
              "    <tr>\n",
              "      <th>1</th>\n",
              "      <td>2020</td>\n",
              "      <td>163</td>\n",
              "      <td>UNIVERSIDADE ESTµCIO DE Sµ</td>\n",
              "      <td>FORTALEZA</td>\n",
              "      <td>EAD VIA CORPVS - CE</td>\n",
              "      <td>INTEGRAL</td>\n",
              "      <td>EAD</td>\n",
              "      <td>MARKETING</td>\n",
              "      <td>CURSO A DIST¶NCIA</td>\n",
              "      <td>067.XXX.XXX-01</td>\n",
              "      <td>M</td>\n",
              "      <td>Parda</td>\n",
              "      <td>1987-05-13</td>\n",
              "      <td>N</td>\n",
              "      <td>NORDESTE</td>\n",
              "      <td>CE</td>\n",
              "      <td>FORTALEZA</td>\n",
              "      <td>1987</td>\n",
              "    </tr>\n",
              "    <tr>\n",
              "      <th>2</th>\n",
              "      <td>2020</td>\n",
              "      <td>17670</td>\n",
              "      <td>FACULDADE DE QUIXERAMOBIM</td>\n",
              "      <td>QUIXERAMOBIM</td>\n",
              "      <td>FACULDADE DE QUIXERAMOBIM - UNIQ</td>\n",
              "      <td>INTEGRAL</td>\n",
              "      <td>PRESENCIAL</td>\n",
              "      <td>FARMµCIA</td>\n",
              "      <td>NOTURNO</td>\n",
              "      <td>623.XXX.XXX-27</td>\n",
              "      <td>M</td>\n",
              "      <td>Parda</td>\n",
              "      <td>2001-07-23</td>\n",
              "      <td>N</td>\n",
              "      <td>NORDESTE</td>\n",
              "      <td>CE</td>\n",
              "      <td>MOMBACA</td>\n",
              "      <td>2001</td>\n",
              "    </tr>\n",
              "    <tr>\n",
              "      <th>3</th>\n",
              "      <td>2020</td>\n",
              "      <td>203</td>\n",
              "      <td>UNIVERSIDADE SÇO JUDAS TADEU</td>\n",
              "      <td>SAO PAULO</td>\n",
              "      <td>PAULISTA</td>\n",
              "      <td>PARCIAL</td>\n",
              "      <td>PRESENCIAL</td>\n",
              "      <td>DIREITO</td>\n",
              "      <td>MATUTINO</td>\n",
              "      <td>089.XXX.XXX-40</td>\n",
              "      <td>F</td>\n",
              "      <td>Branca</td>\n",
              "      <td>2003-04-04</td>\n",
              "      <td>N</td>\n",
              "      <td>NORDESTE</td>\n",
              "      <td>BA</td>\n",
              "      <td>IBITITA</td>\n",
              "      <td>2003</td>\n",
              "    </tr>\n",
              "    <tr>\n",
              "      <th>4</th>\n",
              "      <td>2020</td>\n",
              "      <td>203</td>\n",
              "      <td>UNIVERSIDADE SÇO JUDAS TADEU</td>\n",
              "      <td>SAO PAULO</td>\n",
              "      <td>PAULISTA</td>\n",
              "      <td>INTEGRAL</td>\n",
              "      <td>PRESENCIAL</td>\n",
              "      <td>DIREITO</td>\n",
              "      <td>MATUTINO</td>\n",
              "      <td>173.XXX.XXX-09</td>\n",
              "      <td>F</td>\n",
              "      <td>Branca</td>\n",
              "      <td>1977-07-12</td>\n",
              "      <td>N</td>\n",
              "      <td>SUDESTE</td>\n",
              "      <td>SP</td>\n",
              "      <td>SAO PAULO</td>\n",
              "      <td>1977</td>\n",
              "    </tr>\n",
              "  </tbody>\n",
              "</table>\n",
              "</div>\n",
              "      <button class=\"colab-df-convert\" onclick=\"convertToInteractive('df-16399a76-7c57-486e-a8ec-347f3fa4eb80')\"\n",
              "              title=\"Convert this dataframe to an interactive table.\"\n",
              "              style=\"display:none;\">\n",
              "        \n",
              "  <svg xmlns=\"http://www.w3.org/2000/svg\" height=\"24px\"viewBox=\"0 0 24 24\"\n",
              "       width=\"24px\">\n",
              "    <path d=\"M0 0h24v24H0V0z\" fill=\"none\"/>\n",
              "    <path d=\"M18.56 5.44l.94 2.06.94-2.06 2.06-.94-2.06-.94-.94-2.06-.94 2.06-2.06.94zm-11 1L8.5 8.5l.94-2.06 2.06-.94-2.06-.94L8.5 2.5l-.94 2.06-2.06.94zm10 10l.94 2.06.94-2.06 2.06-.94-2.06-.94-.94-2.06-.94 2.06-2.06.94z\"/><path d=\"M17.41 7.96l-1.37-1.37c-.4-.4-.92-.59-1.43-.59-.52 0-1.04.2-1.43.59L10.3 9.45l-7.72 7.72c-.78.78-.78 2.05 0 2.83L4 21.41c.39.39.9.59 1.41.59.51 0 1.02-.2 1.41-.59l7.78-7.78 2.81-2.81c.8-.78.8-2.07 0-2.86zM5.41 20L4 18.59l7.72-7.72 1.47 1.35L5.41 20z\"/>\n",
              "  </svg>\n",
              "      </button>\n",
              "      \n",
              "  <style>\n",
              "    .colab-df-container {\n",
              "      display:flex;\n",
              "      flex-wrap:wrap;\n",
              "      gap: 12px;\n",
              "    }\n",
              "\n",
              "    .colab-df-convert {\n",
              "      background-color: #E8F0FE;\n",
              "      border: none;\n",
              "      border-radius: 50%;\n",
              "      cursor: pointer;\n",
              "      display: none;\n",
              "      fill: #1967D2;\n",
              "      height: 32px;\n",
              "      padding: 0 0 0 0;\n",
              "      width: 32px;\n",
              "    }\n",
              "\n",
              "    .colab-df-convert:hover {\n",
              "      background-color: #E2EBFA;\n",
              "      box-shadow: 0px 1px 2px rgba(60, 64, 67, 0.3), 0px 1px 3px 1px rgba(60, 64, 67, 0.15);\n",
              "      fill: #174EA6;\n",
              "    }\n",
              "\n",
              "    [theme=dark] .colab-df-convert {\n",
              "      background-color: #3B4455;\n",
              "      fill: #D2E3FC;\n",
              "    }\n",
              "\n",
              "    [theme=dark] .colab-df-convert:hover {\n",
              "      background-color: #434B5C;\n",
              "      box-shadow: 0px 1px 3px 1px rgba(0, 0, 0, 0.15);\n",
              "      filter: drop-shadow(0px 1px 2px rgba(0, 0, 0, 0.3));\n",
              "      fill: #FFFFFF;\n",
              "    }\n",
              "  </style>\n",
              "\n",
              "      <script>\n",
              "        const buttonEl =\n",
              "          document.querySelector('#df-16399a76-7c57-486e-a8ec-347f3fa4eb80 button.colab-df-convert');\n",
              "        buttonEl.style.display =\n",
              "          google.colab.kernel.accessAllowed ? 'block' : 'none';\n",
              "\n",
              "        async function convertToInteractive(key) {\n",
              "          const element = document.querySelector('#df-16399a76-7c57-486e-a8ec-347f3fa4eb80');\n",
              "          const dataTable =\n",
              "            await google.colab.kernel.invokeFunction('convertToInteractive',\n",
              "                                                     [key], {});\n",
              "          if (!dataTable) return;\n",
              "\n",
              "          const docLinkHtml = 'Like what you see? Visit the ' +\n",
              "            '<a target=\"_blank\" href=https://colab.research.google.com/notebooks/data_table.ipynb>data table notebook</a>'\n",
              "            + ' to learn more about interactive tables.';\n",
              "          element.innerHTML = '';\n",
              "          dataTable['output_type'] = 'display_data';\n",
              "          await google.colab.output.renderOutput(dataTable, element);\n",
              "          const docLink = document.createElement('div');\n",
              "          docLink.innerHTML = docLinkHtml;\n",
              "          element.appendChild(docLink);\n",
              "        }\n",
              "      </script>\n",
              "    </div>\n",
              "  </div>\n",
              "  "
            ]
          },
          "metadata": {},
          "execution_count": 50
        }
      ],
      "source": [
        "copia_3.head(5)"
      ]
    },
    {
      "cell_type": "markdown",
      "metadata": {
        "id": "b32edxU7xFOi"
      },
      "source": [
        "##Verificando se campos estão no mesmo formato"
      ]
    },
    {
      "cell_type": "code",
      "execution_count": 51,
      "metadata": {
        "colab": {
          "base_uri": "https://localhost:8080/"
        },
        "id": "6CgyJ_1SOujQ",
        "outputId": "fd0fee60-700a-45d1-ed2e-75de123ef98b"
      },
      "outputs": [
        {
          "output_type": "execute_result",
          "data": {
            "text/plain": [
              "dtype('int64')"
            ]
          },
          "metadata": {},
          "execution_count": 51
        }
      ],
      "source": [
        "copia_3['ANO_NASCIMENTO'].dtype"
      ]
    },
    {
      "cell_type": "code",
      "execution_count": 52,
      "metadata": {
        "colab": {
          "base_uri": "https://localhost:8080/"
        },
        "id": "S4Si0kYuPDie",
        "outputId": "fad14c7c-f7d4-4b82-f4dd-bb3c7082e91f"
      },
      "outputs": [
        {
          "output_type": "execute_result",
          "data": {
            "text/plain": [
              "dtype('int64')"
            ]
          },
          "metadata": {},
          "execution_count": 52
        }
      ],
      "source": [
        "copia_3['ANO_CONCESSAO_BOLSA'].dtype"
      ]
    },
    {
      "cell_type": "code",
      "execution_count": 53,
      "metadata": {
        "id": "wyJK32wGPITg"
      },
      "outputs": [],
      "source": [
        "copia_3['IDADE']= copia_3['ANO_CONCESSAO_BOLSA'] - copia_3['ANO_NASCIMENTO']"
      ]
    },
    {
      "cell_type": "code",
      "execution_count": 54,
      "metadata": {
        "colab": {
          "base_uri": "https://localhost:8080/",
          "height": 378
        },
        "id": "hu9Xf3_4PcxH",
        "outputId": "2d4351e5-2884-48e8-9211-053ca2a2d02b"
      },
      "outputs": [
        {
          "output_type": "execute_result",
          "data": {
            "text/plain": [
              "        ANO_CONCESSAO_BOLSA  CODIGO_EMEC_IES_BOLSA  \\\n",
              "166826                 2020                   1491   \n",
              "166827                 2020                   1491   \n",
              "166828                 2020                   1491   \n",
              "166829                 2020                   1491   \n",
              "\n",
              "                            NOME_IES_BOLSA   MUNICIPIO          CAMPUS  \\\n",
              "166826  CENTRO UNIVERSITµRIO INTERNACIONAL   CABO FRIO   PAP CABO FRIO   \n",
              "166827  CENTRO UNIVERSITµRIO INTERNACIONAL      CANOAS      PAP CANOAS   \n",
              "166828  CENTRO UNIVERSITµRIO INTERNACIONAL  ANANINDEUA  PAP ANANINDEUA   \n",
              "166829  CENTRO UNIVERSITµRIO INTERNACIONAL     LAJEADO     PAP LAJEADO   \n",
              "\n",
              "       TIPO_BOLSA MODALIDADE_ENSINO_BOLSA         NOME_CURSO_BOLSA  \\\n",
              "166826    PARCIAL                     EAD  RELAåES INTERNACIONAIS   \n",
              "166827    PARCIAL                     EAD            ADMINISTRAÇO   \n",
              "166828    PARCIAL                     EAD  RELAåES INTERNACIONAIS   \n",
              "166829    PARCIAL                     EAD                   MéSICA   \n",
              "\n",
              "       NOME_TURNO_CURSO_BOLSA CPF_BENEFICIARIO SEXO_BENEFICIARIO  \\\n",
              "166826      CURSO A DIST¶NCIA   177.XXX.XXX-80                 F   \n",
              "166827      CURSO A DIST¶NCIA   042.XXX.XXX-54                 M   \n",
              "166828      CURSO A DIST¶NCIA   601.XXX.XXX-53                 F   \n",
              "166829      CURSO A DIST¶NCIA   032.XXX.XXX-63                 M   \n",
              "\n",
              "       RACA_BENEFICIARIO DATA_NASCIMENTO BENEFICIARIO_DEFICIENTE_FISICO  \\\n",
              "166826             Parda      2002-03-25                              N   \n",
              "166827            Branca      1997-04-19                              N   \n",
              "166828             Parda      1975-09-17                              N   \n",
              "166829            Branca      1996-06-25                              N   \n",
              "\n",
              "       REGIAO_BENEFICIARIO UF_BENEFICIARIO MUNICIPIO_BENEFICIARIO  \\\n",
              "166826             SUDESTE              RJ               ARARUAMA   \n",
              "166827                 SUL              RS                 CANOAS   \n",
              "166828               NORTE              PA             ANANINDEUA   \n",
              "166829                 SUL              RS                ESTRELA   \n",
              "\n",
              "        ANO_NASCIMENTO  IDADE  \n",
              "166826            2002     18  \n",
              "166827            1997     23  \n",
              "166828            1975     45  \n",
              "166829            1996     24  "
            ],
            "text/html": [
              "\n",
              "  <div id=\"df-863db7cc-7245-49a1-9cf7-0372f7e5c7d7\">\n",
              "    <div class=\"colab-df-container\">\n",
              "      <div>\n",
              "<style scoped>\n",
              "    .dataframe tbody tr th:only-of-type {\n",
              "        vertical-align: middle;\n",
              "    }\n",
              "\n",
              "    .dataframe tbody tr th {\n",
              "        vertical-align: top;\n",
              "    }\n",
              "\n",
              "    .dataframe thead th {\n",
              "        text-align: right;\n",
              "    }\n",
              "</style>\n",
              "<table border=\"1\" class=\"dataframe\">\n",
              "  <thead>\n",
              "    <tr style=\"text-align: right;\">\n",
              "      <th></th>\n",
              "      <th>ANO_CONCESSAO_BOLSA</th>\n",
              "      <th>CODIGO_EMEC_IES_BOLSA</th>\n",
              "      <th>NOME_IES_BOLSA</th>\n",
              "      <th>MUNICIPIO</th>\n",
              "      <th>CAMPUS</th>\n",
              "      <th>TIPO_BOLSA</th>\n",
              "      <th>MODALIDADE_ENSINO_BOLSA</th>\n",
              "      <th>NOME_CURSO_BOLSA</th>\n",
              "      <th>NOME_TURNO_CURSO_BOLSA</th>\n",
              "      <th>CPF_BENEFICIARIO</th>\n",
              "      <th>SEXO_BENEFICIARIO</th>\n",
              "      <th>RACA_BENEFICIARIO</th>\n",
              "      <th>DATA_NASCIMENTO</th>\n",
              "      <th>BENEFICIARIO_DEFICIENTE_FISICO</th>\n",
              "      <th>REGIAO_BENEFICIARIO</th>\n",
              "      <th>UF_BENEFICIARIO</th>\n",
              "      <th>MUNICIPIO_BENEFICIARIO</th>\n",
              "      <th>ANO_NASCIMENTO</th>\n",
              "      <th>IDADE</th>\n",
              "    </tr>\n",
              "  </thead>\n",
              "  <tbody>\n",
              "    <tr>\n",
              "      <th>166826</th>\n",
              "      <td>2020</td>\n",
              "      <td>1491</td>\n",
              "      <td>CENTRO UNIVERSITµRIO INTERNACIONAL</td>\n",
              "      <td>CABO FRIO</td>\n",
              "      <td>PAP CABO FRIO</td>\n",
              "      <td>PARCIAL</td>\n",
              "      <td>EAD</td>\n",
              "      <td>RELAåES INTERNACIONAIS</td>\n",
              "      <td>CURSO A DIST¶NCIA</td>\n",
              "      <td>177.XXX.XXX-80</td>\n",
              "      <td>F</td>\n",
              "      <td>Parda</td>\n",
              "      <td>2002-03-25</td>\n",
              "      <td>N</td>\n",
              "      <td>SUDESTE</td>\n",
              "      <td>RJ</td>\n",
              "      <td>ARARUAMA</td>\n",
              "      <td>2002</td>\n",
              "      <td>18</td>\n",
              "    </tr>\n",
              "    <tr>\n",
              "      <th>166827</th>\n",
              "      <td>2020</td>\n",
              "      <td>1491</td>\n",
              "      <td>CENTRO UNIVERSITµRIO INTERNACIONAL</td>\n",
              "      <td>CANOAS</td>\n",
              "      <td>PAP CANOAS</td>\n",
              "      <td>PARCIAL</td>\n",
              "      <td>EAD</td>\n",
              "      <td>ADMINISTRAÇO</td>\n",
              "      <td>CURSO A DIST¶NCIA</td>\n",
              "      <td>042.XXX.XXX-54</td>\n",
              "      <td>M</td>\n",
              "      <td>Branca</td>\n",
              "      <td>1997-04-19</td>\n",
              "      <td>N</td>\n",
              "      <td>SUL</td>\n",
              "      <td>RS</td>\n",
              "      <td>CANOAS</td>\n",
              "      <td>1997</td>\n",
              "      <td>23</td>\n",
              "    </tr>\n",
              "    <tr>\n",
              "      <th>166828</th>\n",
              "      <td>2020</td>\n",
              "      <td>1491</td>\n",
              "      <td>CENTRO UNIVERSITµRIO INTERNACIONAL</td>\n",
              "      <td>ANANINDEUA</td>\n",
              "      <td>PAP ANANINDEUA</td>\n",
              "      <td>PARCIAL</td>\n",
              "      <td>EAD</td>\n",
              "      <td>RELAåES INTERNACIONAIS</td>\n",
              "      <td>CURSO A DIST¶NCIA</td>\n",
              "      <td>601.XXX.XXX-53</td>\n",
              "      <td>F</td>\n",
              "      <td>Parda</td>\n",
              "      <td>1975-09-17</td>\n",
              "      <td>N</td>\n",
              "      <td>NORTE</td>\n",
              "      <td>PA</td>\n",
              "      <td>ANANINDEUA</td>\n",
              "      <td>1975</td>\n",
              "      <td>45</td>\n",
              "    </tr>\n",
              "    <tr>\n",
              "      <th>166829</th>\n",
              "      <td>2020</td>\n",
              "      <td>1491</td>\n",
              "      <td>CENTRO UNIVERSITµRIO INTERNACIONAL</td>\n",
              "      <td>LAJEADO</td>\n",
              "      <td>PAP LAJEADO</td>\n",
              "      <td>PARCIAL</td>\n",
              "      <td>EAD</td>\n",
              "      <td>MéSICA</td>\n",
              "      <td>CURSO A DIST¶NCIA</td>\n",
              "      <td>032.XXX.XXX-63</td>\n",
              "      <td>M</td>\n",
              "      <td>Branca</td>\n",
              "      <td>1996-06-25</td>\n",
              "      <td>N</td>\n",
              "      <td>SUL</td>\n",
              "      <td>RS</td>\n",
              "      <td>ESTRELA</td>\n",
              "      <td>1996</td>\n",
              "      <td>24</td>\n",
              "    </tr>\n",
              "  </tbody>\n",
              "</table>\n",
              "</div>\n",
              "      <button class=\"colab-df-convert\" onclick=\"convertToInteractive('df-863db7cc-7245-49a1-9cf7-0372f7e5c7d7')\"\n",
              "              title=\"Convert this dataframe to an interactive table.\"\n",
              "              style=\"display:none;\">\n",
              "        \n",
              "  <svg xmlns=\"http://www.w3.org/2000/svg\" height=\"24px\"viewBox=\"0 0 24 24\"\n",
              "       width=\"24px\">\n",
              "    <path d=\"M0 0h24v24H0V0z\" fill=\"none\"/>\n",
              "    <path d=\"M18.56 5.44l.94 2.06.94-2.06 2.06-.94-2.06-.94-.94-2.06-.94 2.06-2.06.94zm-11 1L8.5 8.5l.94-2.06 2.06-.94-2.06-.94L8.5 2.5l-.94 2.06-2.06.94zm10 10l.94 2.06.94-2.06 2.06-.94-2.06-.94-.94-2.06-.94 2.06-2.06.94z\"/><path d=\"M17.41 7.96l-1.37-1.37c-.4-.4-.92-.59-1.43-.59-.52 0-1.04.2-1.43.59L10.3 9.45l-7.72 7.72c-.78.78-.78 2.05 0 2.83L4 21.41c.39.39.9.59 1.41.59.51 0 1.02-.2 1.41-.59l7.78-7.78 2.81-2.81c.8-.78.8-2.07 0-2.86zM5.41 20L4 18.59l7.72-7.72 1.47 1.35L5.41 20z\"/>\n",
              "  </svg>\n",
              "      </button>\n",
              "      \n",
              "  <style>\n",
              "    .colab-df-container {\n",
              "      display:flex;\n",
              "      flex-wrap:wrap;\n",
              "      gap: 12px;\n",
              "    }\n",
              "\n",
              "    .colab-df-convert {\n",
              "      background-color: #E8F0FE;\n",
              "      border: none;\n",
              "      border-radius: 50%;\n",
              "      cursor: pointer;\n",
              "      display: none;\n",
              "      fill: #1967D2;\n",
              "      height: 32px;\n",
              "      padding: 0 0 0 0;\n",
              "      width: 32px;\n",
              "    }\n",
              "\n",
              "    .colab-df-convert:hover {\n",
              "      background-color: #E2EBFA;\n",
              "      box-shadow: 0px 1px 2px rgba(60, 64, 67, 0.3), 0px 1px 3px 1px rgba(60, 64, 67, 0.15);\n",
              "      fill: #174EA6;\n",
              "    }\n",
              "\n",
              "    [theme=dark] .colab-df-convert {\n",
              "      background-color: #3B4455;\n",
              "      fill: #D2E3FC;\n",
              "    }\n",
              "\n",
              "    [theme=dark] .colab-df-convert:hover {\n",
              "      background-color: #434B5C;\n",
              "      box-shadow: 0px 1px 3px 1px rgba(0, 0, 0, 0.15);\n",
              "      filter: drop-shadow(0px 1px 2px rgba(0, 0, 0, 0.3));\n",
              "      fill: #FFFFFF;\n",
              "    }\n",
              "  </style>\n",
              "\n",
              "      <script>\n",
              "        const buttonEl =\n",
              "          document.querySelector('#df-863db7cc-7245-49a1-9cf7-0372f7e5c7d7 button.colab-df-convert');\n",
              "        buttonEl.style.display =\n",
              "          google.colab.kernel.accessAllowed ? 'block' : 'none';\n",
              "\n",
              "        async function convertToInteractive(key) {\n",
              "          const element = document.querySelector('#df-863db7cc-7245-49a1-9cf7-0372f7e5c7d7');\n",
              "          const dataTable =\n",
              "            await google.colab.kernel.invokeFunction('convertToInteractive',\n",
              "                                                     [key], {});\n",
              "          if (!dataTable) return;\n",
              "\n",
              "          const docLinkHtml = 'Like what you see? Visit the ' +\n",
              "            '<a target=\"_blank\" href=https://colab.research.google.com/notebooks/data_table.ipynb>data table notebook</a>'\n",
              "            + ' to learn more about interactive tables.';\n",
              "          element.innerHTML = '';\n",
              "          dataTable['output_type'] = 'display_data';\n",
              "          await google.colab.output.renderOutput(dataTable, element);\n",
              "          const docLink = document.createElement('div');\n",
              "          docLink.innerHTML = docLinkHtml;\n",
              "          element.appendChild(docLink);\n",
              "        }\n",
              "      </script>\n",
              "    </div>\n",
              "  </div>\n",
              "  "
            ]
          },
          "metadata": {},
          "execution_count": 54
        }
      ],
      "source": [
        "copia_3.tail(4)"
      ]
    },
    {
      "cell_type": "markdown",
      "metadata": {
        "id": "tnlMi-tKQwbe"
      },
      "source": [
        "##Adicionando colunas 'ANO_NASCIMENTO' e 'IDADE' para o DataFrame 'original_copia'."
      ]
    },
    {
      "cell_type": "code",
      "execution_count": 55,
      "metadata": {
        "id": "WQQkFo-fPz4l"
      },
      "outputs": [],
      "source": [
        "original_copia['ANO_NASCIMENTO']=original_copia['DATA_NASCIMENTO'].dt.year"
      ]
    },
    {
      "cell_type": "code",
      "execution_count": 56,
      "metadata": {
        "id": "xLGCbUNIRxzs"
      },
      "outputs": [],
      "source": [
        "original_copia['IDADE']= original_copia['ANO_CONCESSAO_BOLSA'] - original_copia['ANO_NASCIMENTO']"
      ]
    },
    {
      "cell_type": "code",
      "execution_count": 57,
      "metadata": {
        "colab": {
          "base_uri": "https://localhost:8080/",
          "height": 312
        },
        "id": "0XGNjDmhR9jB",
        "outputId": "a15fa685-b298-40e6-b2e2-f18d7e75b7ee"
      },
      "outputs": [
        {
          "output_type": "execute_result",
          "data": {
            "text/plain": [
              "        ANO_CONCESSAO_BOLSA  CODIGO_EMEC_IES_BOLSA  \\\n",
              "166827                 2020                   1491   \n",
              "166828                 2020                   1491   \n",
              "166829                 2020                   1491   \n",
              "\n",
              "                            NOME_IES_BOLSA   MUNICIPIO          CAMPUS  \\\n",
              "166827  CENTRO UNIVERSITµRIO INTERNACIONAL      CANOAS      PAP CANOAS   \n",
              "166828  CENTRO UNIVERSITµRIO INTERNACIONAL  ANANINDEUA  PAP ANANINDEUA   \n",
              "166829  CENTRO UNIVERSITµRIO INTERNACIONAL     LAJEADO     PAP LAJEADO   \n",
              "\n",
              "       TIPO_BOLSA MODALIDADE_ENSINO_BOLSA         NOME_CURSO_BOLSA  \\\n",
              "166827    PARCIAL                     EAD            ADMINISTRAÇO   \n",
              "166828    PARCIAL                     EAD  RELAåES INTERNACIONAIS   \n",
              "166829    PARCIAL                     EAD                   MéSICA   \n",
              "\n",
              "       NOME_TURNO_CURSO_BOLSA CPF_BENEFICIARIO SEXO_BENEFICIARIO  \\\n",
              "166827      CURSO A DIST¶NCIA   042.XXX.XXX-54                 M   \n",
              "166828      CURSO A DIST¶NCIA   601.XXX.XXX-53                 F   \n",
              "166829      CURSO A DIST¶NCIA   032.XXX.XXX-63                 M   \n",
              "\n",
              "       RACA_BENEFICIARIO DATA_NASCIMENTO BENEFICIARIO_DEFICIENTE_FISICO  \\\n",
              "166827            Branca      1997-04-19                              N   \n",
              "166828             Parda      1975-09-17                              N   \n",
              "166829            Branca      1996-06-25                              N   \n",
              "\n",
              "       REGIAO_BENEFICIARIO UF_BENEFICIARIO MUNICIPIO_BENEFICIARIO  \\\n",
              "166827                 SUL              RS                 CANOAS   \n",
              "166828               NORTE              PA             ANANINDEUA   \n",
              "166829                 SUL              RS                ESTRELA   \n",
              "\n",
              "        ANO_NASCIMENTO  IDADE  \n",
              "166827            1997     23  \n",
              "166828            1975     45  \n",
              "166829            1996     24  "
            ],
            "text/html": [
              "\n",
              "  <div id=\"df-552efab1-be36-4aba-9063-43f5f18f4c4b\">\n",
              "    <div class=\"colab-df-container\">\n",
              "      <div>\n",
              "<style scoped>\n",
              "    .dataframe tbody tr th:only-of-type {\n",
              "        vertical-align: middle;\n",
              "    }\n",
              "\n",
              "    .dataframe tbody tr th {\n",
              "        vertical-align: top;\n",
              "    }\n",
              "\n",
              "    .dataframe thead th {\n",
              "        text-align: right;\n",
              "    }\n",
              "</style>\n",
              "<table border=\"1\" class=\"dataframe\">\n",
              "  <thead>\n",
              "    <tr style=\"text-align: right;\">\n",
              "      <th></th>\n",
              "      <th>ANO_CONCESSAO_BOLSA</th>\n",
              "      <th>CODIGO_EMEC_IES_BOLSA</th>\n",
              "      <th>NOME_IES_BOLSA</th>\n",
              "      <th>MUNICIPIO</th>\n",
              "      <th>CAMPUS</th>\n",
              "      <th>TIPO_BOLSA</th>\n",
              "      <th>MODALIDADE_ENSINO_BOLSA</th>\n",
              "      <th>NOME_CURSO_BOLSA</th>\n",
              "      <th>NOME_TURNO_CURSO_BOLSA</th>\n",
              "      <th>CPF_BENEFICIARIO</th>\n",
              "      <th>SEXO_BENEFICIARIO</th>\n",
              "      <th>RACA_BENEFICIARIO</th>\n",
              "      <th>DATA_NASCIMENTO</th>\n",
              "      <th>BENEFICIARIO_DEFICIENTE_FISICO</th>\n",
              "      <th>REGIAO_BENEFICIARIO</th>\n",
              "      <th>UF_BENEFICIARIO</th>\n",
              "      <th>MUNICIPIO_BENEFICIARIO</th>\n",
              "      <th>ANO_NASCIMENTO</th>\n",
              "      <th>IDADE</th>\n",
              "    </tr>\n",
              "  </thead>\n",
              "  <tbody>\n",
              "    <tr>\n",
              "      <th>166827</th>\n",
              "      <td>2020</td>\n",
              "      <td>1491</td>\n",
              "      <td>CENTRO UNIVERSITµRIO INTERNACIONAL</td>\n",
              "      <td>CANOAS</td>\n",
              "      <td>PAP CANOAS</td>\n",
              "      <td>PARCIAL</td>\n",
              "      <td>EAD</td>\n",
              "      <td>ADMINISTRAÇO</td>\n",
              "      <td>CURSO A DIST¶NCIA</td>\n",
              "      <td>042.XXX.XXX-54</td>\n",
              "      <td>M</td>\n",
              "      <td>Branca</td>\n",
              "      <td>1997-04-19</td>\n",
              "      <td>N</td>\n",
              "      <td>SUL</td>\n",
              "      <td>RS</td>\n",
              "      <td>CANOAS</td>\n",
              "      <td>1997</td>\n",
              "      <td>23</td>\n",
              "    </tr>\n",
              "    <tr>\n",
              "      <th>166828</th>\n",
              "      <td>2020</td>\n",
              "      <td>1491</td>\n",
              "      <td>CENTRO UNIVERSITµRIO INTERNACIONAL</td>\n",
              "      <td>ANANINDEUA</td>\n",
              "      <td>PAP ANANINDEUA</td>\n",
              "      <td>PARCIAL</td>\n",
              "      <td>EAD</td>\n",
              "      <td>RELAåES INTERNACIONAIS</td>\n",
              "      <td>CURSO A DIST¶NCIA</td>\n",
              "      <td>601.XXX.XXX-53</td>\n",
              "      <td>F</td>\n",
              "      <td>Parda</td>\n",
              "      <td>1975-09-17</td>\n",
              "      <td>N</td>\n",
              "      <td>NORTE</td>\n",
              "      <td>PA</td>\n",
              "      <td>ANANINDEUA</td>\n",
              "      <td>1975</td>\n",
              "      <td>45</td>\n",
              "    </tr>\n",
              "    <tr>\n",
              "      <th>166829</th>\n",
              "      <td>2020</td>\n",
              "      <td>1491</td>\n",
              "      <td>CENTRO UNIVERSITµRIO INTERNACIONAL</td>\n",
              "      <td>LAJEADO</td>\n",
              "      <td>PAP LAJEADO</td>\n",
              "      <td>PARCIAL</td>\n",
              "      <td>EAD</td>\n",
              "      <td>MéSICA</td>\n",
              "      <td>CURSO A DIST¶NCIA</td>\n",
              "      <td>032.XXX.XXX-63</td>\n",
              "      <td>M</td>\n",
              "      <td>Branca</td>\n",
              "      <td>1996-06-25</td>\n",
              "      <td>N</td>\n",
              "      <td>SUL</td>\n",
              "      <td>RS</td>\n",
              "      <td>ESTRELA</td>\n",
              "      <td>1996</td>\n",
              "      <td>24</td>\n",
              "    </tr>\n",
              "  </tbody>\n",
              "</table>\n",
              "</div>\n",
              "      <button class=\"colab-df-convert\" onclick=\"convertToInteractive('df-552efab1-be36-4aba-9063-43f5f18f4c4b')\"\n",
              "              title=\"Convert this dataframe to an interactive table.\"\n",
              "              style=\"display:none;\">\n",
              "        \n",
              "  <svg xmlns=\"http://www.w3.org/2000/svg\" height=\"24px\"viewBox=\"0 0 24 24\"\n",
              "       width=\"24px\">\n",
              "    <path d=\"M0 0h24v24H0V0z\" fill=\"none\"/>\n",
              "    <path d=\"M18.56 5.44l.94 2.06.94-2.06 2.06-.94-2.06-.94-.94-2.06-.94 2.06-2.06.94zm-11 1L8.5 8.5l.94-2.06 2.06-.94-2.06-.94L8.5 2.5l-.94 2.06-2.06.94zm10 10l.94 2.06.94-2.06 2.06-.94-2.06-.94-.94-2.06-.94 2.06-2.06.94z\"/><path d=\"M17.41 7.96l-1.37-1.37c-.4-.4-.92-.59-1.43-.59-.52 0-1.04.2-1.43.59L10.3 9.45l-7.72 7.72c-.78.78-.78 2.05 0 2.83L4 21.41c.39.39.9.59 1.41.59.51 0 1.02-.2 1.41-.59l7.78-7.78 2.81-2.81c.8-.78.8-2.07 0-2.86zM5.41 20L4 18.59l7.72-7.72 1.47 1.35L5.41 20z\"/>\n",
              "  </svg>\n",
              "      </button>\n",
              "      \n",
              "  <style>\n",
              "    .colab-df-container {\n",
              "      display:flex;\n",
              "      flex-wrap:wrap;\n",
              "      gap: 12px;\n",
              "    }\n",
              "\n",
              "    .colab-df-convert {\n",
              "      background-color: #E8F0FE;\n",
              "      border: none;\n",
              "      border-radius: 50%;\n",
              "      cursor: pointer;\n",
              "      display: none;\n",
              "      fill: #1967D2;\n",
              "      height: 32px;\n",
              "      padding: 0 0 0 0;\n",
              "      width: 32px;\n",
              "    }\n",
              "\n",
              "    .colab-df-convert:hover {\n",
              "      background-color: #E2EBFA;\n",
              "      box-shadow: 0px 1px 2px rgba(60, 64, 67, 0.3), 0px 1px 3px 1px rgba(60, 64, 67, 0.15);\n",
              "      fill: #174EA6;\n",
              "    }\n",
              "\n",
              "    [theme=dark] .colab-df-convert {\n",
              "      background-color: #3B4455;\n",
              "      fill: #D2E3FC;\n",
              "    }\n",
              "\n",
              "    [theme=dark] .colab-df-convert:hover {\n",
              "      background-color: #434B5C;\n",
              "      box-shadow: 0px 1px 3px 1px rgba(0, 0, 0, 0.15);\n",
              "      filter: drop-shadow(0px 1px 2px rgba(0, 0, 0, 0.3));\n",
              "      fill: #FFFFFF;\n",
              "    }\n",
              "  </style>\n",
              "\n",
              "      <script>\n",
              "        const buttonEl =\n",
              "          document.querySelector('#df-552efab1-be36-4aba-9063-43f5f18f4c4b button.colab-df-convert');\n",
              "        buttonEl.style.display =\n",
              "          google.colab.kernel.accessAllowed ? 'block' : 'none';\n",
              "\n",
              "        async function convertToInteractive(key) {\n",
              "          const element = document.querySelector('#df-552efab1-be36-4aba-9063-43f5f18f4c4b');\n",
              "          const dataTable =\n",
              "            await google.colab.kernel.invokeFunction('convertToInteractive',\n",
              "                                                     [key], {});\n",
              "          if (!dataTable) return;\n",
              "\n",
              "          const docLinkHtml = 'Like what you see? Visit the ' +\n",
              "            '<a target=\"_blank\" href=https://colab.research.google.com/notebooks/data_table.ipynb>data table notebook</a>'\n",
              "            + ' to learn more about interactive tables.';\n",
              "          element.innerHTML = '';\n",
              "          dataTable['output_type'] = 'display_data';\n",
              "          await google.colab.output.renderOutput(dataTable, element);\n",
              "          const docLink = document.createElement('div');\n",
              "          docLink.innerHTML = docLinkHtml;\n",
              "          element.appendChild(docLink);\n",
              "        }\n",
              "      </script>\n",
              "    </div>\n",
              "  </div>\n",
              "  "
            ]
          },
          "metadata": {},
          "execution_count": 57
        }
      ],
      "source": [
        "original_copia.tail(3)"
      ]
    },
    {
      "cell_type": "code",
      "execution_count": 131,
      "metadata": {
        "colab": {
          "base_uri": "https://localhost:8080/",
          "height": 300
        },
        "id": "i-H-phkaUtBT",
        "outputId": "fc003094-7cd8-47bc-c748-2e5b111597da"
      },
      "outputs": [
        {
          "output_type": "execute_result",
          "data": {
            "text/plain": [
              "       ANO_CONCESSAO_BOLSA  CODIGO_EMEC_IES_BOLSA  ANO_NASCIMENTO     IDADE\n",
              "count             166830.0               166830.0        166830.0  166830.0\n",
              "mean                2020.0                 2271.0          1997.0      23.0\n",
              "std                    0.0                 4063.0             7.0       7.0\n",
              "min                 2020.0                   10.0          1929.0      16.0\n",
              "25%                 2020.0                  322.0          1995.0      19.0\n",
              "50%                 2020.0                 1196.0          2000.0      20.0\n",
              "75%                 2020.0                 1952.0          2001.0      25.0\n",
              "max                 2020.0                24488.0          2020.0      91.0"
            ],
            "text/html": [
              "\n",
              "  <div id=\"df-5cb8124c-f942-4c62-aa52-c6c8a2e76a6c\">\n",
              "    <div class=\"colab-df-container\">\n",
              "      <div>\n",
              "<style scoped>\n",
              "    .dataframe tbody tr th:only-of-type {\n",
              "        vertical-align: middle;\n",
              "    }\n",
              "\n",
              "    .dataframe tbody tr th {\n",
              "        vertical-align: top;\n",
              "    }\n",
              "\n",
              "    .dataframe thead th {\n",
              "        text-align: right;\n",
              "    }\n",
              "</style>\n",
              "<table border=\"1\" class=\"dataframe\">\n",
              "  <thead>\n",
              "    <tr style=\"text-align: right;\">\n",
              "      <th></th>\n",
              "      <th>ANO_CONCESSAO_BOLSA</th>\n",
              "      <th>CODIGO_EMEC_IES_BOLSA</th>\n",
              "      <th>ANO_NASCIMENTO</th>\n",
              "      <th>IDADE</th>\n",
              "    </tr>\n",
              "  </thead>\n",
              "  <tbody>\n",
              "    <tr>\n",
              "      <th>count</th>\n",
              "      <td>166830.0</td>\n",
              "      <td>166830.0</td>\n",
              "      <td>166830.0</td>\n",
              "      <td>166830.0</td>\n",
              "    </tr>\n",
              "    <tr>\n",
              "      <th>mean</th>\n",
              "      <td>2020.0</td>\n",
              "      <td>2271.0</td>\n",
              "      <td>1997.0</td>\n",
              "      <td>23.0</td>\n",
              "    </tr>\n",
              "    <tr>\n",
              "      <th>std</th>\n",
              "      <td>0.0</td>\n",
              "      <td>4063.0</td>\n",
              "      <td>7.0</td>\n",
              "      <td>7.0</td>\n",
              "    </tr>\n",
              "    <tr>\n",
              "      <th>min</th>\n",
              "      <td>2020.0</td>\n",
              "      <td>10.0</td>\n",
              "      <td>1929.0</td>\n",
              "      <td>16.0</td>\n",
              "    </tr>\n",
              "    <tr>\n",
              "      <th>25%</th>\n",
              "      <td>2020.0</td>\n",
              "      <td>322.0</td>\n",
              "      <td>1995.0</td>\n",
              "      <td>19.0</td>\n",
              "    </tr>\n",
              "    <tr>\n",
              "      <th>50%</th>\n",
              "      <td>2020.0</td>\n",
              "      <td>1196.0</td>\n",
              "      <td>2000.0</td>\n",
              "      <td>20.0</td>\n",
              "    </tr>\n",
              "    <tr>\n",
              "      <th>75%</th>\n",
              "      <td>2020.0</td>\n",
              "      <td>1952.0</td>\n",
              "      <td>2001.0</td>\n",
              "      <td>25.0</td>\n",
              "    </tr>\n",
              "    <tr>\n",
              "      <th>max</th>\n",
              "      <td>2020.0</td>\n",
              "      <td>24488.0</td>\n",
              "      <td>2020.0</td>\n",
              "      <td>91.0</td>\n",
              "    </tr>\n",
              "  </tbody>\n",
              "</table>\n",
              "</div>\n",
              "      <button class=\"colab-df-convert\" onclick=\"convertToInteractive('df-5cb8124c-f942-4c62-aa52-c6c8a2e76a6c')\"\n",
              "              title=\"Convert this dataframe to an interactive table.\"\n",
              "              style=\"display:none;\">\n",
              "        \n",
              "  <svg xmlns=\"http://www.w3.org/2000/svg\" height=\"24px\"viewBox=\"0 0 24 24\"\n",
              "       width=\"24px\">\n",
              "    <path d=\"M0 0h24v24H0V0z\" fill=\"none\"/>\n",
              "    <path d=\"M18.56 5.44l.94 2.06.94-2.06 2.06-.94-2.06-.94-.94-2.06-.94 2.06-2.06.94zm-11 1L8.5 8.5l.94-2.06 2.06-.94-2.06-.94L8.5 2.5l-.94 2.06-2.06.94zm10 10l.94 2.06.94-2.06 2.06-.94-2.06-.94-.94-2.06-.94 2.06-2.06.94z\"/><path d=\"M17.41 7.96l-1.37-1.37c-.4-.4-.92-.59-1.43-.59-.52 0-1.04.2-1.43.59L10.3 9.45l-7.72 7.72c-.78.78-.78 2.05 0 2.83L4 21.41c.39.39.9.59 1.41.59.51 0 1.02-.2 1.41-.59l7.78-7.78 2.81-2.81c.8-.78.8-2.07 0-2.86zM5.41 20L4 18.59l7.72-7.72 1.47 1.35L5.41 20z\"/>\n",
              "  </svg>\n",
              "      </button>\n",
              "      \n",
              "  <style>\n",
              "    .colab-df-container {\n",
              "      display:flex;\n",
              "      flex-wrap:wrap;\n",
              "      gap: 12px;\n",
              "    }\n",
              "\n",
              "    .colab-df-convert {\n",
              "      background-color: #E8F0FE;\n",
              "      border: none;\n",
              "      border-radius: 50%;\n",
              "      cursor: pointer;\n",
              "      display: none;\n",
              "      fill: #1967D2;\n",
              "      height: 32px;\n",
              "      padding: 0 0 0 0;\n",
              "      width: 32px;\n",
              "    }\n",
              "\n",
              "    .colab-df-convert:hover {\n",
              "      background-color: #E2EBFA;\n",
              "      box-shadow: 0px 1px 2px rgba(60, 64, 67, 0.3), 0px 1px 3px 1px rgba(60, 64, 67, 0.15);\n",
              "      fill: #174EA6;\n",
              "    }\n",
              "\n",
              "    [theme=dark] .colab-df-convert {\n",
              "      background-color: #3B4455;\n",
              "      fill: #D2E3FC;\n",
              "    }\n",
              "\n",
              "    [theme=dark] .colab-df-convert:hover {\n",
              "      background-color: #434B5C;\n",
              "      box-shadow: 0px 1px 3px 1px rgba(0, 0, 0, 0.15);\n",
              "      filter: drop-shadow(0px 1px 2px rgba(0, 0, 0, 0.3));\n",
              "      fill: #FFFFFF;\n",
              "    }\n",
              "  </style>\n",
              "\n",
              "      <script>\n",
              "        const buttonEl =\n",
              "          document.querySelector('#df-5cb8124c-f942-4c62-aa52-c6c8a2e76a6c button.colab-df-convert');\n",
              "        buttonEl.style.display =\n",
              "          google.colab.kernel.accessAllowed ? 'block' : 'none';\n",
              "\n",
              "        async function convertToInteractive(key) {\n",
              "          const element = document.querySelector('#df-5cb8124c-f942-4c62-aa52-c6c8a2e76a6c');\n",
              "          const dataTable =\n",
              "            await google.colab.kernel.invokeFunction('convertToInteractive',\n",
              "                                                     [key], {});\n",
              "          if (!dataTable) return;\n",
              "\n",
              "          const docLinkHtml = 'Like what you see? Visit the ' +\n",
              "            '<a target=\"_blank\" href=https://colab.research.google.com/notebooks/data_table.ipynb>data table notebook</a>'\n",
              "            + ' to learn more about interactive tables.';\n",
              "          element.innerHTML = '';\n",
              "          dataTable['output_type'] = 'display_data';\n",
              "          await google.colab.output.renderOutput(dataTable, element);\n",
              "          const docLink = document.createElement('div');\n",
              "          docLink.innerHTML = docLinkHtml;\n",
              "          element.appendChild(docLink);\n",
              "        }\n",
              "      </script>\n",
              "    </div>\n",
              "  </div>\n",
              "  "
            ]
          },
          "metadata": {},
          "execution_count": 131
        }
      ],
      "source": [
        "original_copia.describe().round()"
      ]
    },
    {
      "cell_type": "code",
      "execution_count": 59,
      "metadata": {
        "colab": {
          "base_uri": "https://localhost:8080/"
        },
        "id": "oXw1HVD6UtX6",
        "outputId": "e670ddf8-3bbb-4947-e1f7-702a39e10c23"
      },
      "outputs": [
        {
          "output_type": "execute_result",
          "data": {
            "text/plain": [
              "23.049607384762933"
            ]
          },
          "metadata": {},
          "execution_count": 59
        }
      ],
      "source": [
        "original_copia['IDADE'].mean()"
      ]
    },
    {
      "cell_type": "code",
      "execution_count": 60,
      "metadata": {
        "colab": {
          "base_uri": "https://localhost:8080/"
        },
        "id": "zhjRepNvZceq",
        "outputId": "4571456e-ea97-4045-faf9-b11fcc07bade"
      },
      "outputs": [
        {
          "output_type": "execute_result",
          "data": {
            "text/plain": [
              "91"
            ]
          },
          "metadata": {},
          "execution_count": 60
        }
      ],
      "source": [
        "original_copia['IDADE'].max()"
      ]
    },
    {
      "cell_type": "code",
      "source": [
        "original_copia['IDADE'].median()"
      ],
      "metadata": {
        "colab": {
          "base_uri": "https://localhost:8080/"
        },
        "id": "4NV42jVfNOC5",
        "outputId": "385408b6-baee-4edf-fbc9-6bf698253b4c"
      },
      "execution_count": 61,
      "outputs": [
        {
          "output_type": "execute_result",
          "data": {
            "text/plain": [
              "20.0"
            ]
          },
          "metadata": {},
          "execution_count": 61
        }
      ]
    },
    {
      "cell_type": "code",
      "execution_count": 62,
      "metadata": {
        "colab": {
          "base_uri": "https://localhost:8080/"
        },
        "id": "eFJ_zaz1bYku",
        "outputId": "9044ba68-f4b9-4c37-b6cf-ba957542cc3e"
      },
      "outputs": [
        {
          "output_type": "execute_result",
          "data": {
            "text/plain": [
              "array([False])"
            ]
          },
          "metadata": {},
          "execution_count": 62
        }
      ],
      "source": [
        "original_copia['IDADE'].isna().unique()"
      ]
    },
    {
      "cell_type": "markdown",
      "metadata": {
        "id": "VdCo9Rh3OR8f"
      },
      "source": [
        "##Identificado erro em algum campo da 'IDADE'"
      ]
    },
    {
      "cell_type": "code",
      "execution_count": 63,
      "metadata": {
        "colab": {
          "base_uri": "https://localhost:8080/"
        },
        "id": "B2yny7Utbncm",
        "outputId": "8d79bd10-136a-424e-898e-54c843aa8e81"
      },
      "outputs": [
        {
          "output_type": "execute_result",
          "data": {
            "text/plain": [
              "0"
            ]
          },
          "metadata": {},
          "execution_count": 63
        }
      ],
      "source": [
        "original_copia['IDADE'].min()"
      ]
    },
    {
      "cell_type": "code",
      "execution_count": 64,
      "metadata": {
        "colab": {
          "base_uri": "https://localhost:8080/"
        },
        "id": "Y1yQBOAmcjfU",
        "outputId": "ede1e4c7-62fd-4cbe-cce5-f51381cd289c"
      },
      "outputs": [
        {
          "output_type": "execute_result",
          "data": {
            "text/plain": [
              "0         47\n",
              "1         33\n",
              "2         19\n",
              "3         17\n",
              "4         43\n",
              "          ..\n",
              "166825    24\n",
              "166826    18\n",
              "166827    23\n",
              "166828    45\n",
              "166829    24\n",
              "Name: IDADE, Length: 166830, dtype: int64"
            ]
          },
          "metadata": {},
          "execution_count": 64
        }
      ],
      "source": [
        "original_copia['IDADE']"
      ]
    },
    {
      "cell_type": "code",
      "execution_count": 65,
      "metadata": {
        "colab": {
          "base_uri": "https://localhost:8080/",
          "height": 409
        },
        "id": "ginJNH_Oe4XW",
        "outputId": "c1635adf-3026-414f-a2ab-69748b3e1207"
      },
      "outputs": [
        {
          "output_type": "execute_result",
          "data": {
            "text/plain": [
              "   ANO_CONCESSAO_BOLSA  CODIGO_EMEC_IES_BOLSA                NOME_IES_BOLSA  \\\n",
              "0                 2020                    322         UNIVERSIDADE PAULISTA   \n",
              "1                 2020                    163    UNIVERSIDADE ESTµCIO DE Sµ   \n",
              "2                 2020                  17670     FACULDADE DE QUIXERAMOBIM   \n",
              "3                 2020                    203  UNIVERSIDADE SÇO JUDAS TADEU   \n",
              "4                 2020                    203  UNIVERSIDADE SÇO JUDAS TADEU   \n",
              "\n",
              "      MUNICIPIO                            CAMPUS TIPO_BOLSA  \\\n",
              "0      IPATINGA                          IPATINGA   INTEGRAL   \n",
              "1     FORTALEZA               EAD VIA CORPVS - CE   INTEGRAL   \n",
              "2  QUIXERAMOBIM  FACULDADE DE QUIXERAMOBIM - UNIQ   INTEGRAL   \n",
              "3     SAO PAULO                          PAULISTA    PARCIAL   \n",
              "4     SAO PAULO                          PAULISTA   INTEGRAL   \n",
              "\n",
              "  MODALIDADE_ENSINO_BOLSA NOME_CURSO_BOLSA NOME_TURNO_CURSO_BOLSA  \\\n",
              "0                     EAD        PEDAGOGIA      CURSO A DIST¶NCIA   \n",
              "1                     EAD        MARKETING      CURSO A DIST¶NCIA   \n",
              "2              PRESENCIAL         FARMµCIA                NOTURNO   \n",
              "3              PRESENCIAL          DIREITO               MATUTINO   \n",
              "4              PRESENCIAL          DIREITO               MATUTINO   \n",
              "\n",
              "  CPF_BENEFICIARIO SEXO_BENEFICIARIO RACA_BENEFICIARIO DATA_NASCIMENTO  \\\n",
              "0   991.XXX.XXX-91                 F             Parda      1973-11-08   \n",
              "1   067.XXX.XXX-01                 M             Parda      1987-05-13   \n",
              "2   623.XXX.XXX-27                 M             Parda      2001-07-23   \n",
              "3   089.XXX.XXX-40                 F            Branca      2003-04-04   \n",
              "4   173.XXX.XXX-09                 F            Branca      1977-07-12   \n",
              "\n",
              "  BENEFICIARIO_DEFICIENTE_FISICO REGIAO_BENEFICIARIO UF_BENEFICIARIO  \\\n",
              "0                              N             SUDESTE              MG   \n",
              "1                              N            NORDESTE              CE   \n",
              "2                              N            NORDESTE              CE   \n",
              "3                              N            NORDESTE              BA   \n",
              "4                              N             SUDESTE              SP   \n",
              "\n",
              "  MUNICIPIO_BENEFICIARIO  ANO_NASCIMENTO  IDADE  \n",
              "0   GOVERNADOR VALADARES            1973     47  \n",
              "1              FORTALEZA            1987     33  \n",
              "2                MOMBACA            2001     19  \n",
              "3                IBITITA            2003     17  \n",
              "4              SAO PAULO            1977     43  "
            ],
            "text/html": [
              "\n",
              "  <div id=\"df-ad80c9b6-46da-4549-b603-98584106fbe0\">\n",
              "    <div class=\"colab-df-container\">\n",
              "      <div>\n",
              "<style scoped>\n",
              "    .dataframe tbody tr th:only-of-type {\n",
              "        vertical-align: middle;\n",
              "    }\n",
              "\n",
              "    .dataframe tbody tr th {\n",
              "        vertical-align: top;\n",
              "    }\n",
              "\n",
              "    .dataframe thead th {\n",
              "        text-align: right;\n",
              "    }\n",
              "</style>\n",
              "<table border=\"1\" class=\"dataframe\">\n",
              "  <thead>\n",
              "    <tr style=\"text-align: right;\">\n",
              "      <th></th>\n",
              "      <th>ANO_CONCESSAO_BOLSA</th>\n",
              "      <th>CODIGO_EMEC_IES_BOLSA</th>\n",
              "      <th>NOME_IES_BOLSA</th>\n",
              "      <th>MUNICIPIO</th>\n",
              "      <th>CAMPUS</th>\n",
              "      <th>TIPO_BOLSA</th>\n",
              "      <th>MODALIDADE_ENSINO_BOLSA</th>\n",
              "      <th>NOME_CURSO_BOLSA</th>\n",
              "      <th>NOME_TURNO_CURSO_BOLSA</th>\n",
              "      <th>CPF_BENEFICIARIO</th>\n",
              "      <th>SEXO_BENEFICIARIO</th>\n",
              "      <th>RACA_BENEFICIARIO</th>\n",
              "      <th>DATA_NASCIMENTO</th>\n",
              "      <th>BENEFICIARIO_DEFICIENTE_FISICO</th>\n",
              "      <th>REGIAO_BENEFICIARIO</th>\n",
              "      <th>UF_BENEFICIARIO</th>\n",
              "      <th>MUNICIPIO_BENEFICIARIO</th>\n",
              "      <th>ANO_NASCIMENTO</th>\n",
              "      <th>IDADE</th>\n",
              "    </tr>\n",
              "  </thead>\n",
              "  <tbody>\n",
              "    <tr>\n",
              "      <th>0</th>\n",
              "      <td>2020</td>\n",
              "      <td>322</td>\n",
              "      <td>UNIVERSIDADE PAULISTA</td>\n",
              "      <td>IPATINGA</td>\n",
              "      <td>IPATINGA</td>\n",
              "      <td>INTEGRAL</td>\n",
              "      <td>EAD</td>\n",
              "      <td>PEDAGOGIA</td>\n",
              "      <td>CURSO A DIST¶NCIA</td>\n",
              "      <td>991.XXX.XXX-91</td>\n",
              "      <td>F</td>\n",
              "      <td>Parda</td>\n",
              "      <td>1973-11-08</td>\n",
              "      <td>N</td>\n",
              "      <td>SUDESTE</td>\n",
              "      <td>MG</td>\n",
              "      <td>GOVERNADOR VALADARES</td>\n",
              "      <td>1973</td>\n",
              "      <td>47</td>\n",
              "    </tr>\n",
              "    <tr>\n",
              "      <th>1</th>\n",
              "      <td>2020</td>\n",
              "      <td>163</td>\n",
              "      <td>UNIVERSIDADE ESTµCIO DE Sµ</td>\n",
              "      <td>FORTALEZA</td>\n",
              "      <td>EAD VIA CORPVS - CE</td>\n",
              "      <td>INTEGRAL</td>\n",
              "      <td>EAD</td>\n",
              "      <td>MARKETING</td>\n",
              "      <td>CURSO A DIST¶NCIA</td>\n",
              "      <td>067.XXX.XXX-01</td>\n",
              "      <td>M</td>\n",
              "      <td>Parda</td>\n",
              "      <td>1987-05-13</td>\n",
              "      <td>N</td>\n",
              "      <td>NORDESTE</td>\n",
              "      <td>CE</td>\n",
              "      <td>FORTALEZA</td>\n",
              "      <td>1987</td>\n",
              "      <td>33</td>\n",
              "    </tr>\n",
              "    <tr>\n",
              "      <th>2</th>\n",
              "      <td>2020</td>\n",
              "      <td>17670</td>\n",
              "      <td>FACULDADE DE QUIXERAMOBIM</td>\n",
              "      <td>QUIXERAMOBIM</td>\n",
              "      <td>FACULDADE DE QUIXERAMOBIM - UNIQ</td>\n",
              "      <td>INTEGRAL</td>\n",
              "      <td>PRESENCIAL</td>\n",
              "      <td>FARMµCIA</td>\n",
              "      <td>NOTURNO</td>\n",
              "      <td>623.XXX.XXX-27</td>\n",
              "      <td>M</td>\n",
              "      <td>Parda</td>\n",
              "      <td>2001-07-23</td>\n",
              "      <td>N</td>\n",
              "      <td>NORDESTE</td>\n",
              "      <td>CE</td>\n",
              "      <td>MOMBACA</td>\n",
              "      <td>2001</td>\n",
              "      <td>19</td>\n",
              "    </tr>\n",
              "    <tr>\n",
              "      <th>3</th>\n",
              "      <td>2020</td>\n",
              "      <td>203</td>\n",
              "      <td>UNIVERSIDADE SÇO JUDAS TADEU</td>\n",
              "      <td>SAO PAULO</td>\n",
              "      <td>PAULISTA</td>\n",
              "      <td>PARCIAL</td>\n",
              "      <td>PRESENCIAL</td>\n",
              "      <td>DIREITO</td>\n",
              "      <td>MATUTINO</td>\n",
              "      <td>089.XXX.XXX-40</td>\n",
              "      <td>F</td>\n",
              "      <td>Branca</td>\n",
              "      <td>2003-04-04</td>\n",
              "      <td>N</td>\n",
              "      <td>NORDESTE</td>\n",
              "      <td>BA</td>\n",
              "      <td>IBITITA</td>\n",
              "      <td>2003</td>\n",
              "      <td>17</td>\n",
              "    </tr>\n",
              "    <tr>\n",
              "      <th>4</th>\n",
              "      <td>2020</td>\n",
              "      <td>203</td>\n",
              "      <td>UNIVERSIDADE SÇO JUDAS TADEU</td>\n",
              "      <td>SAO PAULO</td>\n",
              "      <td>PAULISTA</td>\n",
              "      <td>INTEGRAL</td>\n",
              "      <td>PRESENCIAL</td>\n",
              "      <td>DIREITO</td>\n",
              "      <td>MATUTINO</td>\n",
              "      <td>173.XXX.XXX-09</td>\n",
              "      <td>F</td>\n",
              "      <td>Branca</td>\n",
              "      <td>1977-07-12</td>\n",
              "      <td>N</td>\n",
              "      <td>SUDESTE</td>\n",
              "      <td>SP</td>\n",
              "      <td>SAO PAULO</td>\n",
              "      <td>1977</td>\n",
              "      <td>43</td>\n",
              "    </tr>\n",
              "  </tbody>\n",
              "</table>\n",
              "</div>\n",
              "      <button class=\"colab-df-convert\" onclick=\"convertToInteractive('df-ad80c9b6-46da-4549-b603-98584106fbe0')\"\n",
              "              title=\"Convert this dataframe to an interactive table.\"\n",
              "              style=\"display:none;\">\n",
              "        \n",
              "  <svg xmlns=\"http://www.w3.org/2000/svg\" height=\"24px\"viewBox=\"0 0 24 24\"\n",
              "       width=\"24px\">\n",
              "    <path d=\"M0 0h24v24H0V0z\" fill=\"none\"/>\n",
              "    <path d=\"M18.56 5.44l.94 2.06.94-2.06 2.06-.94-2.06-.94-.94-2.06-.94 2.06-2.06.94zm-11 1L8.5 8.5l.94-2.06 2.06-.94-2.06-.94L8.5 2.5l-.94 2.06-2.06.94zm10 10l.94 2.06.94-2.06 2.06-.94-2.06-.94-.94-2.06-.94 2.06-2.06.94z\"/><path d=\"M17.41 7.96l-1.37-1.37c-.4-.4-.92-.59-1.43-.59-.52 0-1.04.2-1.43.59L10.3 9.45l-7.72 7.72c-.78.78-.78 2.05 0 2.83L4 21.41c.39.39.9.59 1.41.59.51 0 1.02-.2 1.41-.59l7.78-7.78 2.81-2.81c.8-.78.8-2.07 0-2.86zM5.41 20L4 18.59l7.72-7.72 1.47 1.35L5.41 20z\"/>\n",
              "  </svg>\n",
              "      </button>\n",
              "      \n",
              "  <style>\n",
              "    .colab-df-container {\n",
              "      display:flex;\n",
              "      flex-wrap:wrap;\n",
              "      gap: 12px;\n",
              "    }\n",
              "\n",
              "    .colab-df-convert {\n",
              "      background-color: #E8F0FE;\n",
              "      border: none;\n",
              "      border-radius: 50%;\n",
              "      cursor: pointer;\n",
              "      display: none;\n",
              "      fill: #1967D2;\n",
              "      height: 32px;\n",
              "      padding: 0 0 0 0;\n",
              "      width: 32px;\n",
              "    }\n",
              "\n",
              "    .colab-df-convert:hover {\n",
              "      background-color: #E2EBFA;\n",
              "      box-shadow: 0px 1px 2px rgba(60, 64, 67, 0.3), 0px 1px 3px 1px rgba(60, 64, 67, 0.15);\n",
              "      fill: #174EA6;\n",
              "    }\n",
              "\n",
              "    [theme=dark] .colab-df-convert {\n",
              "      background-color: #3B4455;\n",
              "      fill: #D2E3FC;\n",
              "    }\n",
              "\n",
              "    [theme=dark] .colab-df-convert:hover {\n",
              "      background-color: #434B5C;\n",
              "      box-shadow: 0px 1px 3px 1px rgba(0, 0, 0, 0.15);\n",
              "      filter: drop-shadow(0px 1px 2px rgba(0, 0, 0, 0.3));\n",
              "      fill: #FFFFFF;\n",
              "    }\n",
              "  </style>\n",
              "\n",
              "      <script>\n",
              "        const buttonEl =\n",
              "          document.querySelector('#df-ad80c9b6-46da-4549-b603-98584106fbe0 button.colab-df-convert');\n",
              "        buttonEl.style.display =\n",
              "          google.colab.kernel.accessAllowed ? 'block' : 'none';\n",
              "\n",
              "        async function convertToInteractive(key) {\n",
              "          const element = document.querySelector('#df-ad80c9b6-46da-4549-b603-98584106fbe0');\n",
              "          const dataTable =\n",
              "            await google.colab.kernel.invokeFunction('convertToInteractive',\n",
              "                                                     [key], {});\n",
              "          if (!dataTable) return;\n",
              "\n",
              "          const docLinkHtml = 'Like what you see? Visit the ' +\n",
              "            '<a target=\"_blank\" href=https://colab.research.google.com/notebooks/data_table.ipynb>data table notebook</a>'\n",
              "            + ' to learn more about interactive tables.';\n",
              "          element.innerHTML = '';\n",
              "          dataTable['output_type'] = 'display_data';\n",
              "          await google.colab.output.renderOutput(dataTable, element);\n",
              "          const docLink = document.createElement('div');\n",
              "          docLink.innerHTML = docLinkHtml;\n",
              "          element.appendChild(docLink);\n",
              "        }\n",
              "      </script>\n",
              "    </div>\n",
              "  </div>\n",
              "  "
            ]
          },
          "metadata": {},
          "execution_count": 65
        }
      ],
      "source": [
        "original_copia.head(5)"
      ]
    },
    {
      "cell_type": "code",
      "execution_count": 66,
      "metadata": {
        "colab": {
          "base_uri": "https://localhost:8080/"
        },
        "id": "FVQUBenTfMxD",
        "outputId": "8e97ee08-f27c-4466-adb1-5c0f0eb96386"
      },
      "outputs": [
        {
          "output_type": "execute_result",
          "data": {
            "text/plain": [
              "0         47\n",
              "1         33\n",
              "2         19\n",
              "3         17\n",
              "4         43\n",
              "          ..\n",
              "166825    24\n",
              "166826    18\n",
              "166827    23\n",
              "166828    45\n",
              "166829    24\n",
              "Name: IDADE, Length: 166830, dtype: int64"
            ]
          },
          "metadata": {},
          "execution_count": 66
        }
      ],
      "source": [
        "original_copia.loc[:, 'IDADE']\n"
      ]
    },
    {
      "cell_type": "code",
      "execution_count": 67,
      "metadata": {
        "colab": {
          "base_uri": "https://localhost:8080/"
        },
        "id": "zokfa1vspP1X",
        "outputId": "c25f400f-846b-40ba-95c8-1dab84bc2dc9"
      },
      "outputs": [
        {
          "output_type": "stream",
          "name": "stdout",
          "text": [
            "<class 'pandas.core.frame.DataFrame'>\n",
            "RangeIndex: 166830 entries, 0 to 166829\n",
            "Data columns (total 19 columns):\n",
            " #   Column                          Non-Null Count   Dtype         \n",
            "---  ------                          --------------   -----         \n",
            " 0   ANO_CONCESSAO_BOLSA             166830 non-null  int64         \n",
            " 1   CODIGO_EMEC_IES_BOLSA           166830 non-null  int64         \n",
            " 2   NOME_IES_BOLSA                  166830 non-null  object        \n",
            " 3   MUNICIPIO                       166830 non-null  object        \n",
            " 4   CAMPUS                          166830 non-null  object        \n",
            " 5   TIPO_BOLSA                      166830 non-null  category      \n",
            " 6   MODALIDADE_ENSINO_BOLSA         166830 non-null  category      \n",
            " 7   NOME_CURSO_BOLSA                166830 non-null  object        \n",
            " 8   NOME_TURNO_CURSO_BOLSA          166830 non-null  category      \n",
            " 9   CPF_BENEFICIARIO                166830 non-null  object        \n",
            " 10  SEXO_BENEFICIARIO               166830 non-null  category      \n",
            " 11  RACA_BENEFICIARIO               166830 non-null  category      \n",
            " 12  DATA_NASCIMENTO                 166830 non-null  datetime64[ns]\n",
            " 13  BENEFICIARIO_DEFICIENTE_FISICO  166830 non-null  category      \n",
            " 14  REGIAO_BENEFICIARIO             166830 non-null  category      \n",
            " 15  UF_BENEFICIARIO                 166830 non-null  object        \n",
            " 16  MUNICIPIO_BENEFICIARIO          166830 non-null  object        \n",
            " 17  ANO_NASCIMENTO                  166830 non-null  int64         \n",
            " 18  IDADE                           166830 non-null  int64         \n",
            "dtypes: category(7), datetime64[ns](1), int64(4), object(7)\n",
            "memory usage: 16.4+ MB\n"
          ]
        }
      ],
      "source": [
        "original_copia.info()"
      ]
    },
    {
      "cell_type": "markdown",
      "metadata": {
        "id": "ZOf5sWB-Od4g"
      },
      "source": [
        "##Verificando campos preenchidos com idade menor de 16 anos"
      ]
    },
    {
      "cell_type": "code",
      "execution_count": 68,
      "metadata": {
        "id": "8_zvJqKWnoKq"
      },
      "outputs": [],
      "source": [
        "menor_16 = original_copia[original_copia['IDADE']<16]"
      ]
    },
    {
      "cell_type": "code",
      "source": [
        "menor_16.index"
      ],
      "metadata": {
        "colab": {
          "base_uri": "https://localhost:8080/"
        },
        "id": "xZ2ZlvA0ZZ8q",
        "outputId": "445e5007-fcb7-4c8e-e3e1-10431927435f"
      },
      "execution_count": 69,
      "outputs": [
        {
          "output_type": "execute_result",
          "data": {
            "text/plain": [
              "Int64Index([422, 671, 3774, 28926, 125867, 132417, 135200, 158926, 161676,\n",
              "            166717],\n",
              "           dtype='int64')"
            ]
          },
          "metadata": {},
          "execution_count": 69
        }
      ]
    },
    {
      "cell_type": "code",
      "execution_count": 70,
      "metadata": {
        "colab": {
          "base_uri": "https://localhost:8080/"
        },
        "id": "wVOANEyIqBkJ",
        "outputId": "4e9164b3-5e2a-4564-d593-4f5d6ae3b517"
      },
      "outputs": [
        {
          "output_type": "execute_result",
          "data": {
            "text/plain": [
              "(10, 19)"
            ]
          },
          "metadata": {},
          "execution_count": 70
        }
      ],
      "source": [
        "menor_16.shape"
      ]
    },
    {
      "cell_type": "code",
      "source": [
        "mediana = original_copia['IDADE'].median()"
      ],
      "metadata": {
        "id": "HZ2ms7raNiQE"
      },
      "execution_count": 71,
      "outputs": []
    },
    {
      "cell_type": "code",
      "source": [
        "mediana"
      ],
      "metadata": {
        "colab": {
          "base_uri": "https://localhost:8080/"
        },
        "id": "rhImjcbXNrCa",
        "outputId": "52ca7b78-b888-4c70-938a-6f7aed9f32c9"
      },
      "execution_count": 72,
      "outputs": [
        {
          "output_type": "execute_result",
          "data": {
            "text/plain": [
              "20.0"
            ]
          },
          "metadata": {},
          "execution_count": 72
        }
      ]
    },
    {
      "cell_type": "markdown",
      "metadata": {
        "id": "Ze1-EqfZsetc"
      },
      "source": [
        "Ao manipular o DataFrame percebi que a idade mínima real era 16 anos e o restante das idades eram 0, 1, 3, 8 e 11 (10 registros incorretos) configurando assim, possível erro de digitação na data de nascimento. Para tentar corrigir o problema irei modificar para que estas 10 linhas sejam corrigidas para a mediana das idades, visto que a mediana não é impactada tão diretamente pelos outliers, como seria com a média."
      ]
    },
    {
      "cell_type": "markdown",
      "metadata": {
        "id": "AvTCrZ-obuE5"
      },
      "source": [
        "##Aplicando a mediana das idades para os campos com erro"
      ]
    },
    {
      "cell_type": "code",
      "source": [
        "copia_4=original_copia.copy()"
      ],
      "metadata": {
        "id": "LZ2YU9X4ZwcA"
      },
      "execution_count": 73,
      "outputs": []
    },
    {
      "cell_type": "code",
      "source": [
        "copia_4.head(2)"
      ],
      "metadata": {
        "colab": {
          "base_uri": "https://localhost:8080/",
          "height": 228
        },
        "id": "aJ35dU-kbLa5",
        "outputId": "0e763742-9cc0-4642-aeb3-1379b3de2ecd"
      },
      "execution_count": 74,
      "outputs": [
        {
          "output_type": "execute_result",
          "data": {
            "text/plain": [
              "   ANO_CONCESSAO_BOLSA  CODIGO_EMEC_IES_BOLSA              NOME_IES_BOLSA  \\\n",
              "0                 2020                    322       UNIVERSIDADE PAULISTA   \n",
              "1                 2020                    163  UNIVERSIDADE ESTµCIO DE Sµ   \n",
              "\n",
              "   MUNICIPIO               CAMPUS TIPO_BOLSA MODALIDADE_ENSINO_BOLSA  \\\n",
              "0   IPATINGA             IPATINGA   INTEGRAL                     EAD   \n",
              "1  FORTALEZA  EAD VIA CORPVS - CE   INTEGRAL                     EAD   \n",
              "\n",
              "  NOME_CURSO_BOLSA NOME_TURNO_CURSO_BOLSA CPF_BENEFICIARIO SEXO_BENEFICIARIO  \\\n",
              "0        PEDAGOGIA      CURSO A DIST¶NCIA   991.XXX.XXX-91                 F   \n",
              "1        MARKETING      CURSO A DIST¶NCIA   067.XXX.XXX-01                 M   \n",
              "\n",
              "  RACA_BENEFICIARIO DATA_NASCIMENTO BENEFICIARIO_DEFICIENTE_FISICO  \\\n",
              "0             Parda      1973-11-08                              N   \n",
              "1             Parda      1987-05-13                              N   \n",
              "\n",
              "  REGIAO_BENEFICIARIO UF_BENEFICIARIO MUNICIPIO_BENEFICIARIO  ANO_NASCIMENTO  \\\n",
              "0             SUDESTE              MG   GOVERNADOR VALADARES            1973   \n",
              "1            NORDESTE              CE              FORTALEZA            1987   \n",
              "\n",
              "   IDADE  \n",
              "0     47  \n",
              "1     33  "
            ],
            "text/html": [
              "\n",
              "  <div id=\"df-3cf19b81-a31b-4239-8e2b-88cbe537a79a\">\n",
              "    <div class=\"colab-df-container\">\n",
              "      <div>\n",
              "<style scoped>\n",
              "    .dataframe tbody tr th:only-of-type {\n",
              "        vertical-align: middle;\n",
              "    }\n",
              "\n",
              "    .dataframe tbody tr th {\n",
              "        vertical-align: top;\n",
              "    }\n",
              "\n",
              "    .dataframe thead th {\n",
              "        text-align: right;\n",
              "    }\n",
              "</style>\n",
              "<table border=\"1\" class=\"dataframe\">\n",
              "  <thead>\n",
              "    <tr style=\"text-align: right;\">\n",
              "      <th></th>\n",
              "      <th>ANO_CONCESSAO_BOLSA</th>\n",
              "      <th>CODIGO_EMEC_IES_BOLSA</th>\n",
              "      <th>NOME_IES_BOLSA</th>\n",
              "      <th>MUNICIPIO</th>\n",
              "      <th>CAMPUS</th>\n",
              "      <th>TIPO_BOLSA</th>\n",
              "      <th>MODALIDADE_ENSINO_BOLSA</th>\n",
              "      <th>NOME_CURSO_BOLSA</th>\n",
              "      <th>NOME_TURNO_CURSO_BOLSA</th>\n",
              "      <th>CPF_BENEFICIARIO</th>\n",
              "      <th>SEXO_BENEFICIARIO</th>\n",
              "      <th>RACA_BENEFICIARIO</th>\n",
              "      <th>DATA_NASCIMENTO</th>\n",
              "      <th>BENEFICIARIO_DEFICIENTE_FISICO</th>\n",
              "      <th>REGIAO_BENEFICIARIO</th>\n",
              "      <th>UF_BENEFICIARIO</th>\n",
              "      <th>MUNICIPIO_BENEFICIARIO</th>\n",
              "      <th>ANO_NASCIMENTO</th>\n",
              "      <th>IDADE</th>\n",
              "    </tr>\n",
              "  </thead>\n",
              "  <tbody>\n",
              "    <tr>\n",
              "      <th>0</th>\n",
              "      <td>2020</td>\n",
              "      <td>322</td>\n",
              "      <td>UNIVERSIDADE PAULISTA</td>\n",
              "      <td>IPATINGA</td>\n",
              "      <td>IPATINGA</td>\n",
              "      <td>INTEGRAL</td>\n",
              "      <td>EAD</td>\n",
              "      <td>PEDAGOGIA</td>\n",
              "      <td>CURSO A DIST¶NCIA</td>\n",
              "      <td>991.XXX.XXX-91</td>\n",
              "      <td>F</td>\n",
              "      <td>Parda</td>\n",
              "      <td>1973-11-08</td>\n",
              "      <td>N</td>\n",
              "      <td>SUDESTE</td>\n",
              "      <td>MG</td>\n",
              "      <td>GOVERNADOR VALADARES</td>\n",
              "      <td>1973</td>\n",
              "      <td>47</td>\n",
              "    </tr>\n",
              "    <tr>\n",
              "      <th>1</th>\n",
              "      <td>2020</td>\n",
              "      <td>163</td>\n",
              "      <td>UNIVERSIDADE ESTµCIO DE Sµ</td>\n",
              "      <td>FORTALEZA</td>\n",
              "      <td>EAD VIA CORPVS - CE</td>\n",
              "      <td>INTEGRAL</td>\n",
              "      <td>EAD</td>\n",
              "      <td>MARKETING</td>\n",
              "      <td>CURSO A DIST¶NCIA</td>\n",
              "      <td>067.XXX.XXX-01</td>\n",
              "      <td>M</td>\n",
              "      <td>Parda</td>\n",
              "      <td>1987-05-13</td>\n",
              "      <td>N</td>\n",
              "      <td>NORDESTE</td>\n",
              "      <td>CE</td>\n",
              "      <td>FORTALEZA</td>\n",
              "      <td>1987</td>\n",
              "      <td>33</td>\n",
              "    </tr>\n",
              "  </tbody>\n",
              "</table>\n",
              "</div>\n",
              "      <button class=\"colab-df-convert\" onclick=\"convertToInteractive('df-3cf19b81-a31b-4239-8e2b-88cbe537a79a')\"\n",
              "              title=\"Convert this dataframe to an interactive table.\"\n",
              "              style=\"display:none;\">\n",
              "        \n",
              "  <svg xmlns=\"http://www.w3.org/2000/svg\" height=\"24px\"viewBox=\"0 0 24 24\"\n",
              "       width=\"24px\">\n",
              "    <path d=\"M0 0h24v24H0V0z\" fill=\"none\"/>\n",
              "    <path d=\"M18.56 5.44l.94 2.06.94-2.06 2.06-.94-2.06-.94-.94-2.06-.94 2.06-2.06.94zm-11 1L8.5 8.5l.94-2.06 2.06-.94-2.06-.94L8.5 2.5l-.94 2.06-2.06.94zm10 10l.94 2.06.94-2.06 2.06-.94-2.06-.94-.94-2.06-.94 2.06-2.06.94z\"/><path d=\"M17.41 7.96l-1.37-1.37c-.4-.4-.92-.59-1.43-.59-.52 0-1.04.2-1.43.59L10.3 9.45l-7.72 7.72c-.78.78-.78 2.05 0 2.83L4 21.41c.39.39.9.59 1.41.59.51 0 1.02-.2 1.41-.59l7.78-7.78 2.81-2.81c.8-.78.8-2.07 0-2.86zM5.41 20L4 18.59l7.72-7.72 1.47 1.35L5.41 20z\"/>\n",
              "  </svg>\n",
              "      </button>\n",
              "      \n",
              "  <style>\n",
              "    .colab-df-container {\n",
              "      display:flex;\n",
              "      flex-wrap:wrap;\n",
              "      gap: 12px;\n",
              "    }\n",
              "\n",
              "    .colab-df-convert {\n",
              "      background-color: #E8F0FE;\n",
              "      border: none;\n",
              "      border-radius: 50%;\n",
              "      cursor: pointer;\n",
              "      display: none;\n",
              "      fill: #1967D2;\n",
              "      height: 32px;\n",
              "      padding: 0 0 0 0;\n",
              "      width: 32px;\n",
              "    }\n",
              "\n",
              "    .colab-df-convert:hover {\n",
              "      background-color: #E2EBFA;\n",
              "      box-shadow: 0px 1px 2px rgba(60, 64, 67, 0.3), 0px 1px 3px 1px rgba(60, 64, 67, 0.15);\n",
              "      fill: #174EA6;\n",
              "    }\n",
              "\n",
              "    [theme=dark] .colab-df-convert {\n",
              "      background-color: #3B4455;\n",
              "      fill: #D2E3FC;\n",
              "    }\n",
              "\n",
              "    [theme=dark] .colab-df-convert:hover {\n",
              "      background-color: #434B5C;\n",
              "      box-shadow: 0px 1px 3px 1px rgba(0, 0, 0, 0.15);\n",
              "      filter: drop-shadow(0px 1px 2px rgba(0, 0, 0, 0.3));\n",
              "      fill: #FFFFFF;\n",
              "    }\n",
              "  </style>\n",
              "\n",
              "      <script>\n",
              "        const buttonEl =\n",
              "          document.querySelector('#df-3cf19b81-a31b-4239-8e2b-88cbe537a79a button.colab-df-convert');\n",
              "        buttonEl.style.display =\n",
              "          google.colab.kernel.accessAllowed ? 'block' : 'none';\n",
              "\n",
              "        async function convertToInteractive(key) {\n",
              "          const element = document.querySelector('#df-3cf19b81-a31b-4239-8e2b-88cbe537a79a');\n",
              "          const dataTable =\n",
              "            await google.colab.kernel.invokeFunction('convertToInteractive',\n",
              "                                                     [key], {});\n",
              "          if (!dataTable) return;\n",
              "\n",
              "          const docLinkHtml = 'Like what you see? Visit the ' +\n",
              "            '<a target=\"_blank\" href=https://colab.research.google.com/notebooks/data_table.ipynb>data table notebook</a>'\n",
              "            + ' to learn more about interactive tables.';\n",
              "          element.innerHTML = '';\n",
              "          dataTable['output_type'] = 'display_data';\n",
              "          await google.colab.output.renderOutput(dataTable, element);\n",
              "          const docLink = document.createElement('div');\n",
              "          docLink.innerHTML = docLinkHtml;\n",
              "          element.appendChild(docLink);\n",
              "        }\n",
              "      </script>\n",
              "    </div>\n",
              "  </div>\n",
              "  "
            ]
          },
          "metadata": {},
          "execution_count": 74
        }
      ]
    },
    {
      "cell_type": "code",
      "execution_count": 75,
      "metadata": {
        "id": "xrBoGy5HfRiF"
      },
      "outputs": [],
      "source": [
        "copia_4['IDADE'].mask(copia_4['IDADE'] < 16, mediana, inplace=True)#localizando os menores de 16 anos e substituindo pela mediana"
      ]
    },
    {
      "cell_type": "code",
      "source": [
        "copia_4.describe().round()"
      ],
      "metadata": {
        "colab": {
          "base_uri": "https://localhost:8080/",
          "height": 300
        },
        "id": "o9icaMkqIq2h",
        "outputId": "8d0b7b98-d3d2-44d9-979e-1eea994a5424"
      },
      "execution_count": 76,
      "outputs": [
        {
          "output_type": "execute_result",
          "data": {
            "text/plain": [
              "       ANO_CONCESSAO_BOLSA  CODIGO_EMEC_IES_BOLSA  ANO_NASCIMENTO     IDADE\n",
              "count             166830.0               166830.0        166830.0  166830.0\n",
              "mean                2020.0                 2271.0          1997.0      23.0\n",
              "std                    0.0                 4063.0             7.0       7.0\n",
              "min                 2020.0                   10.0          1929.0      16.0\n",
              "25%                 2020.0                  322.0          1995.0      19.0\n",
              "50%                 2020.0                 1196.0          2000.0      20.0\n",
              "75%                 2020.0                 1952.0          2001.0      25.0\n",
              "max                 2020.0                24488.0          2020.0      91.0"
            ],
            "text/html": [
              "\n",
              "  <div id=\"df-8bb94635-07f6-4799-b54b-c859973f0683\">\n",
              "    <div class=\"colab-df-container\">\n",
              "      <div>\n",
              "<style scoped>\n",
              "    .dataframe tbody tr th:only-of-type {\n",
              "        vertical-align: middle;\n",
              "    }\n",
              "\n",
              "    .dataframe tbody tr th {\n",
              "        vertical-align: top;\n",
              "    }\n",
              "\n",
              "    .dataframe thead th {\n",
              "        text-align: right;\n",
              "    }\n",
              "</style>\n",
              "<table border=\"1\" class=\"dataframe\">\n",
              "  <thead>\n",
              "    <tr style=\"text-align: right;\">\n",
              "      <th></th>\n",
              "      <th>ANO_CONCESSAO_BOLSA</th>\n",
              "      <th>CODIGO_EMEC_IES_BOLSA</th>\n",
              "      <th>ANO_NASCIMENTO</th>\n",
              "      <th>IDADE</th>\n",
              "    </tr>\n",
              "  </thead>\n",
              "  <tbody>\n",
              "    <tr>\n",
              "      <th>count</th>\n",
              "      <td>166830.0</td>\n",
              "      <td>166830.0</td>\n",
              "      <td>166830.0</td>\n",
              "      <td>166830.0</td>\n",
              "    </tr>\n",
              "    <tr>\n",
              "      <th>mean</th>\n",
              "      <td>2020.0</td>\n",
              "      <td>2271.0</td>\n",
              "      <td>1997.0</td>\n",
              "      <td>23.0</td>\n",
              "    </tr>\n",
              "    <tr>\n",
              "      <th>std</th>\n",
              "      <td>0.0</td>\n",
              "      <td>4063.0</td>\n",
              "      <td>7.0</td>\n",
              "      <td>7.0</td>\n",
              "    </tr>\n",
              "    <tr>\n",
              "      <th>min</th>\n",
              "      <td>2020.0</td>\n",
              "      <td>10.0</td>\n",
              "      <td>1929.0</td>\n",
              "      <td>16.0</td>\n",
              "    </tr>\n",
              "    <tr>\n",
              "      <th>25%</th>\n",
              "      <td>2020.0</td>\n",
              "      <td>322.0</td>\n",
              "      <td>1995.0</td>\n",
              "      <td>19.0</td>\n",
              "    </tr>\n",
              "    <tr>\n",
              "      <th>50%</th>\n",
              "      <td>2020.0</td>\n",
              "      <td>1196.0</td>\n",
              "      <td>2000.0</td>\n",
              "      <td>20.0</td>\n",
              "    </tr>\n",
              "    <tr>\n",
              "      <th>75%</th>\n",
              "      <td>2020.0</td>\n",
              "      <td>1952.0</td>\n",
              "      <td>2001.0</td>\n",
              "      <td>25.0</td>\n",
              "    </tr>\n",
              "    <tr>\n",
              "      <th>max</th>\n",
              "      <td>2020.0</td>\n",
              "      <td>24488.0</td>\n",
              "      <td>2020.0</td>\n",
              "      <td>91.0</td>\n",
              "    </tr>\n",
              "  </tbody>\n",
              "</table>\n",
              "</div>\n",
              "      <button class=\"colab-df-convert\" onclick=\"convertToInteractive('df-8bb94635-07f6-4799-b54b-c859973f0683')\"\n",
              "              title=\"Convert this dataframe to an interactive table.\"\n",
              "              style=\"display:none;\">\n",
              "        \n",
              "  <svg xmlns=\"http://www.w3.org/2000/svg\" height=\"24px\"viewBox=\"0 0 24 24\"\n",
              "       width=\"24px\">\n",
              "    <path d=\"M0 0h24v24H0V0z\" fill=\"none\"/>\n",
              "    <path d=\"M18.56 5.44l.94 2.06.94-2.06 2.06-.94-2.06-.94-.94-2.06-.94 2.06-2.06.94zm-11 1L8.5 8.5l.94-2.06 2.06-.94-2.06-.94L8.5 2.5l-.94 2.06-2.06.94zm10 10l.94 2.06.94-2.06 2.06-.94-2.06-.94-.94-2.06-.94 2.06-2.06.94z\"/><path d=\"M17.41 7.96l-1.37-1.37c-.4-.4-.92-.59-1.43-.59-.52 0-1.04.2-1.43.59L10.3 9.45l-7.72 7.72c-.78.78-.78 2.05 0 2.83L4 21.41c.39.39.9.59 1.41.59.51 0 1.02-.2 1.41-.59l7.78-7.78 2.81-2.81c.8-.78.8-2.07 0-2.86zM5.41 20L4 18.59l7.72-7.72 1.47 1.35L5.41 20z\"/>\n",
              "  </svg>\n",
              "      </button>\n",
              "      \n",
              "  <style>\n",
              "    .colab-df-container {\n",
              "      display:flex;\n",
              "      flex-wrap:wrap;\n",
              "      gap: 12px;\n",
              "    }\n",
              "\n",
              "    .colab-df-convert {\n",
              "      background-color: #E8F0FE;\n",
              "      border: none;\n",
              "      border-radius: 50%;\n",
              "      cursor: pointer;\n",
              "      display: none;\n",
              "      fill: #1967D2;\n",
              "      height: 32px;\n",
              "      padding: 0 0 0 0;\n",
              "      width: 32px;\n",
              "    }\n",
              "\n",
              "    .colab-df-convert:hover {\n",
              "      background-color: #E2EBFA;\n",
              "      box-shadow: 0px 1px 2px rgba(60, 64, 67, 0.3), 0px 1px 3px 1px rgba(60, 64, 67, 0.15);\n",
              "      fill: #174EA6;\n",
              "    }\n",
              "\n",
              "    [theme=dark] .colab-df-convert {\n",
              "      background-color: #3B4455;\n",
              "      fill: #D2E3FC;\n",
              "    }\n",
              "\n",
              "    [theme=dark] .colab-df-convert:hover {\n",
              "      background-color: #434B5C;\n",
              "      box-shadow: 0px 1px 3px 1px rgba(0, 0, 0, 0.15);\n",
              "      filter: drop-shadow(0px 1px 2px rgba(0, 0, 0, 0.3));\n",
              "      fill: #FFFFFF;\n",
              "    }\n",
              "  </style>\n",
              "\n",
              "      <script>\n",
              "        const buttonEl =\n",
              "          document.querySelector('#df-8bb94635-07f6-4799-b54b-c859973f0683 button.colab-df-convert');\n",
              "        buttonEl.style.display =\n",
              "          google.colab.kernel.accessAllowed ? 'block' : 'none';\n",
              "\n",
              "        async function convertToInteractive(key) {\n",
              "          const element = document.querySelector('#df-8bb94635-07f6-4799-b54b-c859973f0683');\n",
              "          const dataTable =\n",
              "            await google.colab.kernel.invokeFunction('convertToInteractive',\n",
              "                                                     [key], {});\n",
              "          if (!dataTable) return;\n",
              "\n",
              "          const docLinkHtml = 'Like what you see? Visit the ' +\n",
              "            '<a target=\"_blank\" href=https://colab.research.google.com/notebooks/data_table.ipynb>data table notebook</a>'\n",
              "            + ' to learn more about interactive tables.';\n",
              "          element.innerHTML = '';\n",
              "          dataTable['output_type'] = 'display_data';\n",
              "          await google.colab.output.renderOutput(dataTable, element);\n",
              "          const docLink = document.createElement('div');\n",
              "          docLink.innerHTML = docLinkHtml;\n",
              "          element.appendChild(docLink);\n",
              "        }\n",
              "      </script>\n",
              "    </div>\n",
              "  </div>\n",
              "  "
            ]
          },
          "metadata": {},
          "execution_count": 76
        }
      ]
    },
    {
      "cell_type": "markdown",
      "metadata": {
        "id": "CCIQ7MlDP4Hi"
      },
      "source": [
        "##Aplicando as correções para o DataFrame 'original_copia'."
      ]
    },
    {
      "cell_type": "code",
      "execution_count": 77,
      "metadata": {
        "id": "T7gqGDGztumO"
      },
      "outputs": [],
      "source": [
        "original_copia['IDADE'].mask(original_copia['IDADE'] < 16, mediana, inplace=True)"
      ]
    },
    {
      "cell_type": "code",
      "execution_count": 78,
      "metadata": {
        "colab": {
          "base_uri": "https://localhost:8080/",
          "height": 300
        },
        "id": "K0oZf1TttvAP",
        "outputId": "52e9b1af-9f59-4eab-a234-246ae2a17720"
      },
      "outputs": [
        {
          "output_type": "execute_result",
          "data": {
            "text/plain": [
              "       ANO_CONCESSAO_BOLSA  CODIGO_EMEC_IES_BOLSA  ANO_NASCIMENTO      IDADE\n",
              "count             166830.0              166830.00       166830.00  166830.00\n",
              "mean                2020.0                2270.75         1996.95      23.05\n",
              "std                    0.0                4063.33            6.60       6.60\n",
              "min                 2020.0                  10.00         1929.00      16.00\n",
              "25%                 2020.0                 322.00         1995.00      19.00\n",
              "50%                 2020.0                1196.00         2000.00      20.00\n",
              "75%                 2020.0                1952.00         2001.00      25.00\n",
              "max                 2020.0               24488.00         2020.00      91.00"
            ],
            "text/html": [
              "\n",
              "  <div id=\"df-60937422-a792-486e-b3fd-bdb84dccb217\">\n",
              "    <div class=\"colab-df-container\">\n",
              "      <div>\n",
              "<style scoped>\n",
              "    .dataframe tbody tr th:only-of-type {\n",
              "        vertical-align: middle;\n",
              "    }\n",
              "\n",
              "    .dataframe tbody tr th {\n",
              "        vertical-align: top;\n",
              "    }\n",
              "\n",
              "    .dataframe thead th {\n",
              "        text-align: right;\n",
              "    }\n",
              "</style>\n",
              "<table border=\"1\" class=\"dataframe\">\n",
              "  <thead>\n",
              "    <tr style=\"text-align: right;\">\n",
              "      <th></th>\n",
              "      <th>ANO_CONCESSAO_BOLSA</th>\n",
              "      <th>CODIGO_EMEC_IES_BOLSA</th>\n",
              "      <th>ANO_NASCIMENTO</th>\n",
              "      <th>IDADE</th>\n",
              "    </tr>\n",
              "  </thead>\n",
              "  <tbody>\n",
              "    <tr>\n",
              "      <th>count</th>\n",
              "      <td>166830.0</td>\n",
              "      <td>166830.00</td>\n",
              "      <td>166830.00</td>\n",
              "      <td>166830.00</td>\n",
              "    </tr>\n",
              "    <tr>\n",
              "      <th>mean</th>\n",
              "      <td>2020.0</td>\n",
              "      <td>2270.75</td>\n",
              "      <td>1996.95</td>\n",
              "      <td>23.05</td>\n",
              "    </tr>\n",
              "    <tr>\n",
              "      <th>std</th>\n",
              "      <td>0.0</td>\n",
              "      <td>4063.33</td>\n",
              "      <td>6.60</td>\n",
              "      <td>6.60</td>\n",
              "    </tr>\n",
              "    <tr>\n",
              "      <th>min</th>\n",
              "      <td>2020.0</td>\n",
              "      <td>10.00</td>\n",
              "      <td>1929.00</td>\n",
              "      <td>16.00</td>\n",
              "    </tr>\n",
              "    <tr>\n",
              "      <th>25%</th>\n",
              "      <td>2020.0</td>\n",
              "      <td>322.00</td>\n",
              "      <td>1995.00</td>\n",
              "      <td>19.00</td>\n",
              "    </tr>\n",
              "    <tr>\n",
              "      <th>50%</th>\n",
              "      <td>2020.0</td>\n",
              "      <td>1196.00</td>\n",
              "      <td>2000.00</td>\n",
              "      <td>20.00</td>\n",
              "    </tr>\n",
              "    <tr>\n",
              "      <th>75%</th>\n",
              "      <td>2020.0</td>\n",
              "      <td>1952.00</td>\n",
              "      <td>2001.00</td>\n",
              "      <td>25.00</td>\n",
              "    </tr>\n",
              "    <tr>\n",
              "      <th>max</th>\n",
              "      <td>2020.0</td>\n",
              "      <td>24488.00</td>\n",
              "      <td>2020.00</td>\n",
              "      <td>91.00</td>\n",
              "    </tr>\n",
              "  </tbody>\n",
              "</table>\n",
              "</div>\n",
              "      <button class=\"colab-df-convert\" onclick=\"convertToInteractive('df-60937422-a792-486e-b3fd-bdb84dccb217')\"\n",
              "              title=\"Convert this dataframe to an interactive table.\"\n",
              "              style=\"display:none;\">\n",
              "        \n",
              "  <svg xmlns=\"http://www.w3.org/2000/svg\" height=\"24px\"viewBox=\"0 0 24 24\"\n",
              "       width=\"24px\">\n",
              "    <path d=\"M0 0h24v24H0V0z\" fill=\"none\"/>\n",
              "    <path d=\"M18.56 5.44l.94 2.06.94-2.06 2.06-.94-2.06-.94-.94-2.06-.94 2.06-2.06.94zm-11 1L8.5 8.5l.94-2.06 2.06-.94-2.06-.94L8.5 2.5l-.94 2.06-2.06.94zm10 10l.94 2.06.94-2.06 2.06-.94-2.06-.94-.94-2.06-.94 2.06-2.06.94z\"/><path d=\"M17.41 7.96l-1.37-1.37c-.4-.4-.92-.59-1.43-.59-.52 0-1.04.2-1.43.59L10.3 9.45l-7.72 7.72c-.78.78-.78 2.05 0 2.83L4 21.41c.39.39.9.59 1.41.59.51 0 1.02-.2 1.41-.59l7.78-7.78 2.81-2.81c.8-.78.8-2.07 0-2.86zM5.41 20L4 18.59l7.72-7.72 1.47 1.35L5.41 20z\"/>\n",
              "  </svg>\n",
              "      </button>\n",
              "      \n",
              "  <style>\n",
              "    .colab-df-container {\n",
              "      display:flex;\n",
              "      flex-wrap:wrap;\n",
              "      gap: 12px;\n",
              "    }\n",
              "\n",
              "    .colab-df-convert {\n",
              "      background-color: #E8F0FE;\n",
              "      border: none;\n",
              "      border-radius: 50%;\n",
              "      cursor: pointer;\n",
              "      display: none;\n",
              "      fill: #1967D2;\n",
              "      height: 32px;\n",
              "      padding: 0 0 0 0;\n",
              "      width: 32px;\n",
              "    }\n",
              "\n",
              "    .colab-df-convert:hover {\n",
              "      background-color: #E2EBFA;\n",
              "      box-shadow: 0px 1px 2px rgba(60, 64, 67, 0.3), 0px 1px 3px 1px rgba(60, 64, 67, 0.15);\n",
              "      fill: #174EA6;\n",
              "    }\n",
              "\n",
              "    [theme=dark] .colab-df-convert {\n",
              "      background-color: #3B4455;\n",
              "      fill: #D2E3FC;\n",
              "    }\n",
              "\n",
              "    [theme=dark] .colab-df-convert:hover {\n",
              "      background-color: #434B5C;\n",
              "      box-shadow: 0px 1px 3px 1px rgba(0, 0, 0, 0.15);\n",
              "      filter: drop-shadow(0px 1px 2px rgba(0, 0, 0, 0.3));\n",
              "      fill: #FFFFFF;\n",
              "    }\n",
              "  </style>\n",
              "\n",
              "      <script>\n",
              "        const buttonEl =\n",
              "          document.querySelector('#df-60937422-a792-486e-b3fd-bdb84dccb217 button.colab-df-convert');\n",
              "        buttonEl.style.display =\n",
              "          google.colab.kernel.accessAllowed ? 'block' : 'none';\n",
              "\n",
              "        async function convertToInteractive(key) {\n",
              "          const element = document.querySelector('#df-60937422-a792-486e-b3fd-bdb84dccb217');\n",
              "          const dataTable =\n",
              "            await google.colab.kernel.invokeFunction('convertToInteractive',\n",
              "                                                     [key], {});\n",
              "          if (!dataTable) return;\n",
              "\n",
              "          const docLinkHtml = 'Like what you see? Visit the ' +\n",
              "            '<a target=\"_blank\" href=https://colab.research.google.com/notebooks/data_table.ipynb>data table notebook</a>'\n",
              "            + ' to learn more about interactive tables.';\n",
              "          element.innerHTML = '';\n",
              "          dataTable['output_type'] = 'display_data';\n",
              "          await google.colab.output.renderOutput(dataTable, element);\n",
              "          const docLink = document.createElement('div');\n",
              "          docLink.innerHTML = docLinkHtml;\n",
              "          element.appendChild(docLink);\n",
              "        }\n",
              "      </script>\n",
              "    </div>\n",
              "  </div>\n",
              "  "
            ]
          },
          "metadata": {},
          "execution_count": 78
        }
      ],
      "source": [
        "original_copia.describe().round(2)"
      ]
    },
    {
      "cell_type": "code",
      "source": [
        "original_copia.iloc[[422, 671, 3774, 28926, 125867, 132417, 135200, 158926, 161676,166717]]#Campos ok, corrigidos com mediana"
      ],
      "metadata": {
        "id": "n0eUKLfIPMMo"
      },
      "execution_count": null,
      "outputs": []
    },
    {
      "cell_type": "code",
      "execution_count": 132,
      "metadata": {
        "id": "1qaKoJCZxCAu"
      },
      "outputs": [],
      "source": [
        "copia_4['IDADE']= pd.to_numeric(copia_4['IDADE'])"
      ]
    },
    {
      "cell_type": "code",
      "execution_count": 133,
      "metadata": {
        "colab": {
          "base_uri": "https://localhost:8080/"
        },
        "id": "qJnyIXDHxPK2",
        "outputId": "08ca7373-4aa3-4714-d23b-495dd9a56190"
      },
      "outputs": [
        {
          "output_type": "execute_result",
          "data": {
            "text/plain": [
              "dtype('int64')"
            ]
          },
          "metadata": {},
          "execution_count": 133
        }
      ],
      "source": [
        "copia_4['IDADE'].dtypes"
      ]
    },
    {
      "cell_type": "code",
      "execution_count": 82,
      "metadata": {
        "colab": {
          "base_uri": "https://localhost:8080/"
        },
        "id": "iPzgqshpwu2u",
        "outputId": "583a711e-f5c2-41e5-e85e-888e8be1a611"
      },
      "outputs": [
        {
          "output_type": "execute_result",
          "data": {
            "text/plain": [
              "19    32998\n",
              "18    28107\n",
              "20    21339\n",
              "21    15030\n",
              "22    10545\n",
              "23     8634\n",
              "24     6939\n",
              "25     5885\n",
              "26     4705\n",
              "27     3903\n",
              "28     3226\n",
              "29     2710\n",
              "30     2341\n",
              "31     2111\n",
              "32     1983\n",
              "33     1640\n",
              "34     1519\n",
              "35     1353\n",
              "36     1183\n",
              "37     1154\n",
              "38     1054\n",
              "17     1043\n",
              "39      932\n",
              "40      812\n",
              "41      713\n",
              "42      644\n",
              "51      549\n",
              "43      526\n",
              "44      509\n",
              "45      431\n",
              "46      388\n",
              "47      322\n",
              "48      275\n",
              "49      267\n",
              "50      232\n",
              "52      176\n",
              "53      134\n",
              "54      108\n",
              "55       81\n",
              "56       66\n",
              "57       55\n",
              "58       43\n",
              "59       39\n",
              "61       24\n",
              "62       24\n",
              "60       21\n",
              "63       17\n",
              "64       10\n",
              "16        9\n",
              "65        5\n",
              "67        4\n",
              "66        4\n",
              "73        2\n",
              "70        2\n",
              "74        2\n",
              "91        1\n",
              "68        1\n",
              "Name: IDADE, dtype: int64"
            ]
          },
          "metadata": {},
          "execution_count": 82
        }
      ],
      "source": [
        "original_copia['IDADE'].value_counts()"
      ]
    },
    {
      "cell_type": "code",
      "execution_count": 83,
      "metadata": {
        "id": "JO4CUVIWswlx"
      },
      "outputs": [],
      "source": [
        "original_copia.sort_index(inplace=True)"
      ]
    },
    {
      "cell_type": "markdown",
      "metadata": {
        "id": "qBsqBOxdtJmH"
      },
      "source": [
        "##Iniciando manipulação com dados geométricos para plotar gráfico HeatMap. Criando um DataFrame específico para esta finalidade.\n"
      ]
    },
    {
      "cell_type": "code",
      "execution_count": 84,
      "metadata": {
        "id": "NZtfXBeEzIPe"
      },
      "outputs": [],
      "source": [
        "locator = Nominatim(user_agent = \"My_Geocoder\")\n",
        "location = locator.geocode(' Alto da Boa Vista, Rio de Janeiro - RJ')# teste do location"
      ]
    },
    {
      "cell_type": "code",
      "execution_count": 85,
      "metadata": {
        "colab": {
          "base_uri": "https://localhost:8080/"
        },
        "id": "cc_p2XC1zYd8",
        "outputId": "a6042ae8-e7ba-41cc-d316-673a705dd04e"
      },
      "outputs": [
        {
          "output_type": "execute_result",
          "data": {
            "text/plain": [
              "Location(Alto da Boa Vista, Zona Norte do Rio de Janeiro, Rio de Janeiro, Região Geográfica Imediata do Rio de Janeiro, Região Metropolitana do Rio de Janeiro, Região Geográfica Intermediária do Rio de Janeiro, Rio de Janeiro, Região Sudeste, 20531-570, Brasil, (-22.9621126, -43.2535816, 0.0))"
            ]
          },
          "metadata": {},
          "execution_count": 85
        }
      ],
      "source": [
        "location"
      ]
    },
    {
      "cell_type": "code",
      "execution_count": 87,
      "metadata": {
        "id": "pmH1OEwQurY5"
      },
      "outputs": [],
      "source": [
        "df = pd.read_csv('ProuniRelatorioDadosAbertos2020.csv', encoding=\"ISO-8859-1\", sep = ';')"
      ]
    },
    {
      "cell_type": "code",
      "execution_count": 88,
      "metadata": {
        "colab": {
          "base_uri": "https://localhost:8080/",
          "height": 277
        },
        "id": "yGN5PsHK2IIY",
        "outputId": "16a60789-8abc-4d0e-d1fa-ef58500e5071"
      },
      "outputs": [
        {
          "output_type": "execute_result",
          "data": {
            "text/plain": [
              "   ANO_CONCESSAO_BOLSA  CODIGO_EMEC_IES_BOLSA              NOME_IES_BOLSA  \\\n",
              "0                 2020                    322       UNIVERSIDADE PAULISTA   \n",
              "1                 2020                    163  UNIVERSIDADE ESTµCIO DE Sµ   \n",
              "2                 2020                  17670   FACULDADE DE QUIXERAMOBIM   \n",
              "\n",
              "      MUNICIPIO                            CAMPUS TIPO_BOLSA  \\\n",
              "0      IPATINGA                          IPATINGA   INTEGRAL   \n",
              "1     FORTALEZA               EAD VIA CORPVS - CE   INTEGRAL   \n",
              "2  QUIXERAMOBIM  FACULDADE DE QUIXERAMOBIM - UNIQ   INTEGRAL   \n",
              "\n",
              "  MODALIDADE_ENSINO_BOLSA NOME_CURSO_BOLSA NOME_TURNO_CURSO_BOLSA  \\\n",
              "0                     EAD        PEDAGOGIA      CURSO A DIST¶NCIA   \n",
              "1                     EAD        MARKETING      CURSO A DIST¶NCIA   \n",
              "2              PRESENCIAL         FARMµCIA                NOTURNO   \n",
              "\n",
              "  CPF_BENEFICIARIO SEXO_BENEFICIARIO RACA_BENEFICIARIO DATA_NASCIMENTO  \\\n",
              "0   991.XXX.XXX-91                 F             Parda      11/08/1973   \n",
              "1   067.XXX.XXX-01                 M             Parda      13/05/1987   \n",
              "2   623.XXX.XXX-27                 M             Parda      23/07/2001   \n",
              "\n",
              "  BENEFICIARIO_DEFICIENTE_FISICO REGIAO_BENEFICIARIO UF_BENEFICIARIO  \\\n",
              "0                              N             SUDESTE              MG   \n",
              "1                              N            NORDESTE              CE   \n",
              "2                              N            NORDESTE              CE   \n",
              "\n",
              "  MUNICIPIO_BENEFICIARIO  \n",
              "0   GOVERNADOR VALADARES  \n",
              "1              FORTALEZA  \n",
              "2                MOMBACA  "
            ],
            "text/html": [
              "\n",
              "  <div id=\"df-cb50c038-0d3c-4768-b8d1-7b1a7af93fd8\">\n",
              "    <div class=\"colab-df-container\">\n",
              "      <div>\n",
              "<style scoped>\n",
              "    .dataframe tbody tr th:only-of-type {\n",
              "        vertical-align: middle;\n",
              "    }\n",
              "\n",
              "    .dataframe tbody tr th {\n",
              "        vertical-align: top;\n",
              "    }\n",
              "\n",
              "    .dataframe thead th {\n",
              "        text-align: right;\n",
              "    }\n",
              "</style>\n",
              "<table border=\"1\" class=\"dataframe\">\n",
              "  <thead>\n",
              "    <tr style=\"text-align: right;\">\n",
              "      <th></th>\n",
              "      <th>ANO_CONCESSAO_BOLSA</th>\n",
              "      <th>CODIGO_EMEC_IES_BOLSA</th>\n",
              "      <th>NOME_IES_BOLSA</th>\n",
              "      <th>MUNICIPIO</th>\n",
              "      <th>CAMPUS</th>\n",
              "      <th>TIPO_BOLSA</th>\n",
              "      <th>MODALIDADE_ENSINO_BOLSA</th>\n",
              "      <th>NOME_CURSO_BOLSA</th>\n",
              "      <th>NOME_TURNO_CURSO_BOLSA</th>\n",
              "      <th>CPF_BENEFICIARIO</th>\n",
              "      <th>SEXO_BENEFICIARIO</th>\n",
              "      <th>RACA_BENEFICIARIO</th>\n",
              "      <th>DATA_NASCIMENTO</th>\n",
              "      <th>BENEFICIARIO_DEFICIENTE_FISICO</th>\n",
              "      <th>REGIAO_BENEFICIARIO</th>\n",
              "      <th>UF_BENEFICIARIO</th>\n",
              "      <th>MUNICIPIO_BENEFICIARIO</th>\n",
              "    </tr>\n",
              "  </thead>\n",
              "  <tbody>\n",
              "    <tr>\n",
              "      <th>0</th>\n",
              "      <td>2020</td>\n",
              "      <td>322</td>\n",
              "      <td>UNIVERSIDADE PAULISTA</td>\n",
              "      <td>IPATINGA</td>\n",
              "      <td>IPATINGA</td>\n",
              "      <td>INTEGRAL</td>\n",
              "      <td>EAD</td>\n",
              "      <td>PEDAGOGIA</td>\n",
              "      <td>CURSO A DIST¶NCIA</td>\n",
              "      <td>991.XXX.XXX-91</td>\n",
              "      <td>F</td>\n",
              "      <td>Parda</td>\n",
              "      <td>11/08/1973</td>\n",
              "      <td>N</td>\n",
              "      <td>SUDESTE</td>\n",
              "      <td>MG</td>\n",
              "      <td>GOVERNADOR VALADARES</td>\n",
              "    </tr>\n",
              "    <tr>\n",
              "      <th>1</th>\n",
              "      <td>2020</td>\n",
              "      <td>163</td>\n",
              "      <td>UNIVERSIDADE ESTµCIO DE Sµ</td>\n",
              "      <td>FORTALEZA</td>\n",
              "      <td>EAD VIA CORPVS - CE</td>\n",
              "      <td>INTEGRAL</td>\n",
              "      <td>EAD</td>\n",
              "      <td>MARKETING</td>\n",
              "      <td>CURSO A DIST¶NCIA</td>\n",
              "      <td>067.XXX.XXX-01</td>\n",
              "      <td>M</td>\n",
              "      <td>Parda</td>\n",
              "      <td>13/05/1987</td>\n",
              "      <td>N</td>\n",
              "      <td>NORDESTE</td>\n",
              "      <td>CE</td>\n",
              "      <td>FORTALEZA</td>\n",
              "    </tr>\n",
              "    <tr>\n",
              "      <th>2</th>\n",
              "      <td>2020</td>\n",
              "      <td>17670</td>\n",
              "      <td>FACULDADE DE QUIXERAMOBIM</td>\n",
              "      <td>QUIXERAMOBIM</td>\n",
              "      <td>FACULDADE DE QUIXERAMOBIM - UNIQ</td>\n",
              "      <td>INTEGRAL</td>\n",
              "      <td>PRESENCIAL</td>\n",
              "      <td>FARMµCIA</td>\n",
              "      <td>NOTURNO</td>\n",
              "      <td>623.XXX.XXX-27</td>\n",
              "      <td>M</td>\n",
              "      <td>Parda</td>\n",
              "      <td>23/07/2001</td>\n",
              "      <td>N</td>\n",
              "      <td>NORDESTE</td>\n",
              "      <td>CE</td>\n",
              "      <td>MOMBACA</td>\n",
              "    </tr>\n",
              "  </tbody>\n",
              "</table>\n",
              "</div>\n",
              "      <button class=\"colab-df-convert\" onclick=\"convertToInteractive('df-cb50c038-0d3c-4768-b8d1-7b1a7af93fd8')\"\n",
              "              title=\"Convert this dataframe to an interactive table.\"\n",
              "              style=\"display:none;\">\n",
              "        \n",
              "  <svg xmlns=\"http://www.w3.org/2000/svg\" height=\"24px\"viewBox=\"0 0 24 24\"\n",
              "       width=\"24px\">\n",
              "    <path d=\"M0 0h24v24H0V0z\" fill=\"none\"/>\n",
              "    <path d=\"M18.56 5.44l.94 2.06.94-2.06 2.06-.94-2.06-.94-.94-2.06-.94 2.06-2.06.94zm-11 1L8.5 8.5l.94-2.06 2.06-.94-2.06-.94L8.5 2.5l-.94 2.06-2.06.94zm10 10l.94 2.06.94-2.06 2.06-.94-2.06-.94-.94-2.06-.94 2.06-2.06.94z\"/><path d=\"M17.41 7.96l-1.37-1.37c-.4-.4-.92-.59-1.43-.59-.52 0-1.04.2-1.43.59L10.3 9.45l-7.72 7.72c-.78.78-.78 2.05 0 2.83L4 21.41c.39.39.9.59 1.41.59.51 0 1.02-.2 1.41-.59l7.78-7.78 2.81-2.81c.8-.78.8-2.07 0-2.86zM5.41 20L4 18.59l7.72-7.72 1.47 1.35L5.41 20z\"/>\n",
              "  </svg>\n",
              "      </button>\n",
              "      \n",
              "  <style>\n",
              "    .colab-df-container {\n",
              "      display:flex;\n",
              "      flex-wrap:wrap;\n",
              "      gap: 12px;\n",
              "    }\n",
              "\n",
              "    .colab-df-convert {\n",
              "      background-color: #E8F0FE;\n",
              "      border: none;\n",
              "      border-radius: 50%;\n",
              "      cursor: pointer;\n",
              "      display: none;\n",
              "      fill: #1967D2;\n",
              "      height: 32px;\n",
              "      padding: 0 0 0 0;\n",
              "      width: 32px;\n",
              "    }\n",
              "\n",
              "    .colab-df-convert:hover {\n",
              "      background-color: #E2EBFA;\n",
              "      box-shadow: 0px 1px 2px rgba(60, 64, 67, 0.3), 0px 1px 3px 1px rgba(60, 64, 67, 0.15);\n",
              "      fill: #174EA6;\n",
              "    }\n",
              "\n",
              "    [theme=dark] .colab-df-convert {\n",
              "      background-color: #3B4455;\n",
              "      fill: #D2E3FC;\n",
              "    }\n",
              "\n",
              "    [theme=dark] .colab-df-convert:hover {\n",
              "      background-color: #434B5C;\n",
              "      box-shadow: 0px 1px 3px 1px rgba(0, 0, 0, 0.15);\n",
              "      filter: drop-shadow(0px 1px 2px rgba(0, 0, 0, 0.3));\n",
              "      fill: #FFFFFF;\n",
              "    }\n",
              "  </style>\n",
              "\n",
              "      <script>\n",
              "        const buttonEl =\n",
              "          document.querySelector('#df-cb50c038-0d3c-4768-b8d1-7b1a7af93fd8 button.colab-df-convert');\n",
              "        buttonEl.style.display =\n",
              "          google.colab.kernel.accessAllowed ? 'block' : 'none';\n",
              "\n",
              "        async function convertToInteractive(key) {\n",
              "          const element = document.querySelector('#df-cb50c038-0d3c-4768-b8d1-7b1a7af93fd8');\n",
              "          const dataTable =\n",
              "            await google.colab.kernel.invokeFunction('convertToInteractive',\n",
              "                                                     [key], {});\n",
              "          if (!dataTable) return;\n",
              "\n",
              "          const docLinkHtml = 'Like what you see? Visit the ' +\n",
              "            '<a target=\"_blank\" href=https://colab.research.google.com/notebooks/data_table.ipynb>data table notebook</a>'\n",
              "            + ' to learn more about interactive tables.';\n",
              "          element.innerHTML = '';\n",
              "          dataTable['output_type'] = 'display_data';\n",
              "          await google.colab.output.renderOutput(dataTable, element);\n",
              "          const docLink = document.createElement('div');\n",
              "          docLink.innerHTML = docLinkHtml;\n",
              "          element.appendChild(docLink);\n",
              "        }\n",
              "      </script>\n",
              "    </div>\n",
              "  </div>\n",
              "  "
            ]
          },
          "metadata": {},
          "execution_count": 88
        }
      ],
      "source": [
        "df.head(3)"
      ]
    },
    {
      "cell_type": "markdown",
      "metadata": {
        "id": "U30T5b7GQ7ZX"
      },
      "source": [
        "##Adicionando a coluna Pais para obter a localização exata."
      ]
    },
    {
      "cell_type": "code",
      "execution_count": 89,
      "metadata": {
        "id": "2UdsZrw_2TQc"
      },
      "outputs": [],
      "source": [
        "df['PAIS']= 'BRASIL'"
      ]
    },
    {
      "cell_type": "code",
      "execution_count": 90,
      "metadata": {
        "colab": {
          "base_uri": "https://localhost:8080/",
          "height": 444
        },
        "id": "2zq1EfPl2rwr",
        "outputId": "e7f62dd8-c74b-4b57-b4df-5727cc75cd96"
      },
      "outputs": [
        {
          "output_type": "execute_result",
          "data": {
            "text/plain": [
              "        ANO_CONCESSAO_BOLSA  CODIGO_EMEC_IES_BOLSA  \\\n",
              "166825                 2020                   1491   \n",
              "166826                 2020                   1491   \n",
              "166827                 2020                   1491   \n",
              "166828                 2020                   1491   \n",
              "166829                 2020                   1491   \n",
              "\n",
              "                            NOME_IES_BOLSA   MUNICIPIO          CAMPUS  \\\n",
              "166825  CENTRO UNIVERSITµRIO INTERNACIONAL   CABO FRIO   PAP CABO FRIO   \n",
              "166826  CENTRO UNIVERSITµRIO INTERNACIONAL   CABO FRIO   PAP CABO FRIO   \n",
              "166827  CENTRO UNIVERSITµRIO INTERNACIONAL      CANOAS      PAP CANOAS   \n",
              "166828  CENTRO UNIVERSITµRIO INTERNACIONAL  ANANINDEUA  PAP ANANINDEUA   \n",
              "166829  CENTRO UNIVERSITµRIO INTERNACIONAL     LAJEADO     PAP LAJEADO   \n",
              "\n",
              "       TIPO_BOLSA MODALIDADE_ENSINO_BOLSA         NOME_CURSO_BOLSA  \\\n",
              "166825    PARCIAL                     EAD            ADMINISTRAÇO   \n",
              "166826    PARCIAL                     EAD  RELAåES INTERNACIONAIS   \n",
              "166827    PARCIAL                     EAD            ADMINISTRAÇO   \n",
              "166828    PARCIAL                     EAD  RELAåES INTERNACIONAIS   \n",
              "166829    PARCIAL                     EAD                   MéSICA   \n",
              "\n",
              "       NOME_TURNO_CURSO_BOLSA CPF_BENEFICIARIO SEXO_BENEFICIARIO  \\\n",
              "166825      CURSO A DIST¶NCIA   062.XXX.XXX-70                 F   \n",
              "166826      CURSO A DIST¶NCIA   177.XXX.XXX-80                 F   \n",
              "166827      CURSO A DIST¶NCIA   042.XXX.XXX-54                 M   \n",
              "166828      CURSO A DIST¶NCIA   601.XXX.XXX-53                 F   \n",
              "166829      CURSO A DIST¶NCIA   032.XXX.XXX-63                 M   \n",
              "\n",
              "       RACA_BENEFICIARIO DATA_NASCIMENTO BENEFICIARIO_DEFICIENTE_FISICO  \\\n",
              "166825             Parda      30/11/1996                              N   \n",
              "166826             Parda      25/03/2002                              N   \n",
              "166827            Branca      19/04/1997                              N   \n",
              "166828             Parda      17/09/1975                              N   \n",
              "166829            Branca      25/06/1996                              N   \n",
              "\n",
              "       REGIAO_BENEFICIARIO UF_BENEFICIARIO MUNICIPIO_BENEFICIARIO    PAIS  \n",
              "166825             SUDESTE              RJ    SAO PEDRO DA ALDEIA  BRASIL  \n",
              "166826             SUDESTE              RJ               ARARUAMA  BRASIL  \n",
              "166827                 SUL              RS                 CANOAS  BRASIL  \n",
              "166828               NORTE              PA             ANANINDEUA  BRASIL  \n",
              "166829                 SUL              RS                ESTRELA  BRASIL  "
            ],
            "text/html": [
              "\n",
              "  <div id=\"df-11227afd-31a4-4e66-933e-56a059beb4c8\">\n",
              "    <div class=\"colab-df-container\">\n",
              "      <div>\n",
              "<style scoped>\n",
              "    .dataframe tbody tr th:only-of-type {\n",
              "        vertical-align: middle;\n",
              "    }\n",
              "\n",
              "    .dataframe tbody tr th {\n",
              "        vertical-align: top;\n",
              "    }\n",
              "\n",
              "    .dataframe thead th {\n",
              "        text-align: right;\n",
              "    }\n",
              "</style>\n",
              "<table border=\"1\" class=\"dataframe\">\n",
              "  <thead>\n",
              "    <tr style=\"text-align: right;\">\n",
              "      <th></th>\n",
              "      <th>ANO_CONCESSAO_BOLSA</th>\n",
              "      <th>CODIGO_EMEC_IES_BOLSA</th>\n",
              "      <th>NOME_IES_BOLSA</th>\n",
              "      <th>MUNICIPIO</th>\n",
              "      <th>CAMPUS</th>\n",
              "      <th>TIPO_BOLSA</th>\n",
              "      <th>MODALIDADE_ENSINO_BOLSA</th>\n",
              "      <th>NOME_CURSO_BOLSA</th>\n",
              "      <th>NOME_TURNO_CURSO_BOLSA</th>\n",
              "      <th>CPF_BENEFICIARIO</th>\n",
              "      <th>SEXO_BENEFICIARIO</th>\n",
              "      <th>RACA_BENEFICIARIO</th>\n",
              "      <th>DATA_NASCIMENTO</th>\n",
              "      <th>BENEFICIARIO_DEFICIENTE_FISICO</th>\n",
              "      <th>REGIAO_BENEFICIARIO</th>\n",
              "      <th>UF_BENEFICIARIO</th>\n",
              "      <th>MUNICIPIO_BENEFICIARIO</th>\n",
              "      <th>PAIS</th>\n",
              "    </tr>\n",
              "  </thead>\n",
              "  <tbody>\n",
              "    <tr>\n",
              "      <th>166825</th>\n",
              "      <td>2020</td>\n",
              "      <td>1491</td>\n",
              "      <td>CENTRO UNIVERSITµRIO INTERNACIONAL</td>\n",
              "      <td>CABO FRIO</td>\n",
              "      <td>PAP CABO FRIO</td>\n",
              "      <td>PARCIAL</td>\n",
              "      <td>EAD</td>\n",
              "      <td>ADMINISTRAÇO</td>\n",
              "      <td>CURSO A DIST¶NCIA</td>\n",
              "      <td>062.XXX.XXX-70</td>\n",
              "      <td>F</td>\n",
              "      <td>Parda</td>\n",
              "      <td>30/11/1996</td>\n",
              "      <td>N</td>\n",
              "      <td>SUDESTE</td>\n",
              "      <td>RJ</td>\n",
              "      <td>SAO PEDRO DA ALDEIA</td>\n",
              "      <td>BRASIL</td>\n",
              "    </tr>\n",
              "    <tr>\n",
              "      <th>166826</th>\n",
              "      <td>2020</td>\n",
              "      <td>1491</td>\n",
              "      <td>CENTRO UNIVERSITµRIO INTERNACIONAL</td>\n",
              "      <td>CABO FRIO</td>\n",
              "      <td>PAP CABO FRIO</td>\n",
              "      <td>PARCIAL</td>\n",
              "      <td>EAD</td>\n",
              "      <td>RELAåES INTERNACIONAIS</td>\n",
              "      <td>CURSO A DIST¶NCIA</td>\n",
              "      <td>177.XXX.XXX-80</td>\n",
              "      <td>F</td>\n",
              "      <td>Parda</td>\n",
              "      <td>25/03/2002</td>\n",
              "      <td>N</td>\n",
              "      <td>SUDESTE</td>\n",
              "      <td>RJ</td>\n",
              "      <td>ARARUAMA</td>\n",
              "      <td>BRASIL</td>\n",
              "    </tr>\n",
              "    <tr>\n",
              "      <th>166827</th>\n",
              "      <td>2020</td>\n",
              "      <td>1491</td>\n",
              "      <td>CENTRO UNIVERSITµRIO INTERNACIONAL</td>\n",
              "      <td>CANOAS</td>\n",
              "      <td>PAP CANOAS</td>\n",
              "      <td>PARCIAL</td>\n",
              "      <td>EAD</td>\n",
              "      <td>ADMINISTRAÇO</td>\n",
              "      <td>CURSO A DIST¶NCIA</td>\n",
              "      <td>042.XXX.XXX-54</td>\n",
              "      <td>M</td>\n",
              "      <td>Branca</td>\n",
              "      <td>19/04/1997</td>\n",
              "      <td>N</td>\n",
              "      <td>SUL</td>\n",
              "      <td>RS</td>\n",
              "      <td>CANOAS</td>\n",
              "      <td>BRASIL</td>\n",
              "    </tr>\n",
              "    <tr>\n",
              "      <th>166828</th>\n",
              "      <td>2020</td>\n",
              "      <td>1491</td>\n",
              "      <td>CENTRO UNIVERSITµRIO INTERNACIONAL</td>\n",
              "      <td>ANANINDEUA</td>\n",
              "      <td>PAP ANANINDEUA</td>\n",
              "      <td>PARCIAL</td>\n",
              "      <td>EAD</td>\n",
              "      <td>RELAåES INTERNACIONAIS</td>\n",
              "      <td>CURSO A DIST¶NCIA</td>\n",
              "      <td>601.XXX.XXX-53</td>\n",
              "      <td>F</td>\n",
              "      <td>Parda</td>\n",
              "      <td>17/09/1975</td>\n",
              "      <td>N</td>\n",
              "      <td>NORTE</td>\n",
              "      <td>PA</td>\n",
              "      <td>ANANINDEUA</td>\n",
              "      <td>BRASIL</td>\n",
              "    </tr>\n",
              "    <tr>\n",
              "      <th>166829</th>\n",
              "      <td>2020</td>\n",
              "      <td>1491</td>\n",
              "      <td>CENTRO UNIVERSITµRIO INTERNACIONAL</td>\n",
              "      <td>LAJEADO</td>\n",
              "      <td>PAP LAJEADO</td>\n",
              "      <td>PARCIAL</td>\n",
              "      <td>EAD</td>\n",
              "      <td>MéSICA</td>\n",
              "      <td>CURSO A DIST¶NCIA</td>\n",
              "      <td>032.XXX.XXX-63</td>\n",
              "      <td>M</td>\n",
              "      <td>Branca</td>\n",
              "      <td>25/06/1996</td>\n",
              "      <td>N</td>\n",
              "      <td>SUL</td>\n",
              "      <td>RS</td>\n",
              "      <td>ESTRELA</td>\n",
              "      <td>BRASIL</td>\n",
              "    </tr>\n",
              "  </tbody>\n",
              "</table>\n",
              "</div>\n",
              "      <button class=\"colab-df-convert\" onclick=\"convertToInteractive('df-11227afd-31a4-4e66-933e-56a059beb4c8')\"\n",
              "              title=\"Convert this dataframe to an interactive table.\"\n",
              "              style=\"display:none;\">\n",
              "        \n",
              "  <svg xmlns=\"http://www.w3.org/2000/svg\" height=\"24px\"viewBox=\"0 0 24 24\"\n",
              "       width=\"24px\">\n",
              "    <path d=\"M0 0h24v24H0V0z\" fill=\"none\"/>\n",
              "    <path d=\"M18.56 5.44l.94 2.06.94-2.06 2.06-.94-2.06-.94-.94-2.06-.94 2.06-2.06.94zm-11 1L8.5 8.5l.94-2.06 2.06-.94-2.06-.94L8.5 2.5l-.94 2.06-2.06.94zm10 10l.94 2.06.94-2.06 2.06-.94-2.06-.94-.94-2.06-.94 2.06-2.06.94z\"/><path d=\"M17.41 7.96l-1.37-1.37c-.4-.4-.92-.59-1.43-.59-.52 0-1.04.2-1.43.59L10.3 9.45l-7.72 7.72c-.78.78-.78 2.05 0 2.83L4 21.41c.39.39.9.59 1.41.59.51 0 1.02-.2 1.41-.59l7.78-7.78 2.81-2.81c.8-.78.8-2.07 0-2.86zM5.41 20L4 18.59l7.72-7.72 1.47 1.35L5.41 20z\"/>\n",
              "  </svg>\n",
              "      </button>\n",
              "      \n",
              "  <style>\n",
              "    .colab-df-container {\n",
              "      display:flex;\n",
              "      flex-wrap:wrap;\n",
              "      gap: 12px;\n",
              "    }\n",
              "\n",
              "    .colab-df-convert {\n",
              "      background-color: #E8F0FE;\n",
              "      border: none;\n",
              "      border-radius: 50%;\n",
              "      cursor: pointer;\n",
              "      display: none;\n",
              "      fill: #1967D2;\n",
              "      height: 32px;\n",
              "      padding: 0 0 0 0;\n",
              "      width: 32px;\n",
              "    }\n",
              "\n",
              "    .colab-df-convert:hover {\n",
              "      background-color: #E2EBFA;\n",
              "      box-shadow: 0px 1px 2px rgba(60, 64, 67, 0.3), 0px 1px 3px 1px rgba(60, 64, 67, 0.15);\n",
              "      fill: #174EA6;\n",
              "    }\n",
              "\n",
              "    [theme=dark] .colab-df-convert {\n",
              "      background-color: #3B4455;\n",
              "      fill: #D2E3FC;\n",
              "    }\n",
              "\n",
              "    [theme=dark] .colab-df-convert:hover {\n",
              "      background-color: #434B5C;\n",
              "      box-shadow: 0px 1px 3px 1px rgba(0, 0, 0, 0.15);\n",
              "      filter: drop-shadow(0px 1px 2px rgba(0, 0, 0, 0.3));\n",
              "      fill: #FFFFFF;\n",
              "    }\n",
              "  </style>\n",
              "\n",
              "      <script>\n",
              "        const buttonEl =\n",
              "          document.querySelector('#df-11227afd-31a4-4e66-933e-56a059beb4c8 button.colab-df-convert');\n",
              "        buttonEl.style.display =\n",
              "          google.colab.kernel.accessAllowed ? 'block' : 'none';\n",
              "\n",
              "        async function convertToInteractive(key) {\n",
              "          const element = document.querySelector('#df-11227afd-31a4-4e66-933e-56a059beb4c8');\n",
              "          const dataTable =\n",
              "            await google.colab.kernel.invokeFunction('convertToInteractive',\n",
              "                                                     [key], {});\n",
              "          if (!dataTable) return;\n",
              "\n",
              "          const docLinkHtml = 'Like what you see? Visit the ' +\n",
              "            '<a target=\"_blank\" href=https://colab.research.google.com/notebooks/data_table.ipynb>data table notebook</a>'\n",
              "            + ' to learn more about interactive tables.';\n",
              "          element.innerHTML = '';\n",
              "          dataTable['output_type'] = 'display_data';\n",
              "          await google.colab.output.renderOutput(dataTable, element);\n",
              "          const docLink = document.createElement('div');\n",
              "          docLink.innerHTML = docLinkHtml;\n",
              "          element.appendChild(docLink);\n",
              "        }\n",
              "      </script>\n",
              "    </div>\n",
              "  </div>\n",
              "  "
            ]
          },
          "metadata": {},
          "execution_count": 90
        }
      ],
      "source": [
        "df.tail(5)"
      ]
    },
    {
      "cell_type": "code",
      "execution_count": 91,
      "metadata": {
        "colab": {
          "base_uri": "https://localhost:8080/"
        },
        "id": "h9-VuzfE5xiU",
        "outputId": "eb7957cb-8fdc-4ff6-c896-1db833417711"
      },
      "outputs": [
        {
          "output_type": "execute_result",
          "data": {
            "text/plain": [
              "Index(['ANO_CONCESSAO_BOLSA', 'CODIGO_EMEC_IES_BOLSA', 'NOME_IES_BOLSA',\n",
              "       'MUNICIPIO', 'CAMPUS', 'TIPO_BOLSA', 'MODALIDADE_ENSINO_BOLSA',\n",
              "       'NOME_CURSO_BOLSA', 'NOME_TURNO_CURSO_BOLSA', 'CPF_BENEFICIARIO',\n",
              "       'SEXO_BENEFICIARIO', 'RACA_BENEFICIARIO', 'DATA_NASCIMENTO',\n",
              "       'BENEFICIARIO_DEFICIENTE_FISICO', 'REGIAO_BENEFICIARIO',\n",
              "       'UF_BENEFICIARIO', 'MUNICIPIO_BENEFICIARIO', 'PAIS'],\n",
              "      dtype='object')"
            ]
          },
          "metadata": {},
          "execution_count": 91
        }
      ],
      "source": [
        "df.columns"
      ]
    },
    {
      "cell_type": "code",
      "execution_count": 92,
      "metadata": {
        "id": "CSXzaweR5Bed"
      },
      "outputs": [],
      "source": [
        "df_endereco = df.iloc[:,15:18]"
      ]
    },
    {
      "cell_type": "code",
      "execution_count": 93,
      "metadata": {
        "colab": {
          "base_uri": "https://localhost:8080/",
          "height": 424
        },
        "id": "lfTnLUIC3srB",
        "outputId": "b79ad80c-3864-458f-ca79-5defc154821e"
      },
      "outputs": [
        {
          "output_type": "execute_result",
          "data": {
            "text/plain": [
              "       UF_BENEFICIARIO MUNICIPIO_BENEFICIARIO    PAIS\n",
              "0                   MG   GOVERNADOR VALADARES  BRASIL\n",
              "1                   CE              FORTALEZA  BRASIL\n",
              "2                   CE                MOMBACA  BRASIL\n",
              "3                   BA                IBITITA  BRASIL\n",
              "4                   SP              SAO PAULO  BRASIL\n",
              "...                ...                    ...     ...\n",
              "166825              RJ    SAO PEDRO DA ALDEIA  BRASIL\n",
              "166826              RJ               ARARUAMA  BRASIL\n",
              "166827              RS                 CANOAS  BRASIL\n",
              "166828              PA             ANANINDEUA  BRASIL\n",
              "166829              RS                ESTRELA  BRASIL\n",
              "\n",
              "[166830 rows x 3 columns]"
            ],
            "text/html": [
              "\n",
              "  <div id=\"df-cc40e56f-8fe6-47ca-b5f8-7ff9219832dc\">\n",
              "    <div class=\"colab-df-container\">\n",
              "      <div>\n",
              "<style scoped>\n",
              "    .dataframe tbody tr th:only-of-type {\n",
              "        vertical-align: middle;\n",
              "    }\n",
              "\n",
              "    .dataframe tbody tr th {\n",
              "        vertical-align: top;\n",
              "    }\n",
              "\n",
              "    .dataframe thead th {\n",
              "        text-align: right;\n",
              "    }\n",
              "</style>\n",
              "<table border=\"1\" class=\"dataframe\">\n",
              "  <thead>\n",
              "    <tr style=\"text-align: right;\">\n",
              "      <th></th>\n",
              "      <th>UF_BENEFICIARIO</th>\n",
              "      <th>MUNICIPIO_BENEFICIARIO</th>\n",
              "      <th>PAIS</th>\n",
              "    </tr>\n",
              "  </thead>\n",
              "  <tbody>\n",
              "    <tr>\n",
              "      <th>0</th>\n",
              "      <td>MG</td>\n",
              "      <td>GOVERNADOR VALADARES</td>\n",
              "      <td>BRASIL</td>\n",
              "    </tr>\n",
              "    <tr>\n",
              "      <th>1</th>\n",
              "      <td>CE</td>\n",
              "      <td>FORTALEZA</td>\n",
              "      <td>BRASIL</td>\n",
              "    </tr>\n",
              "    <tr>\n",
              "      <th>2</th>\n",
              "      <td>CE</td>\n",
              "      <td>MOMBACA</td>\n",
              "      <td>BRASIL</td>\n",
              "    </tr>\n",
              "    <tr>\n",
              "      <th>3</th>\n",
              "      <td>BA</td>\n",
              "      <td>IBITITA</td>\n",
              "      <td>BRASIL</td>\n",
              "    </tr>\n",
              "    <tr>\n",
              "      <th>4</th>\n",
              "      <td>SP</td>\n",
              "      <td>SAO PAULO</td>\n",
              "      <td>BRASIL</td>\n",
              "    </tr>\n",
              "    <tr>\n",
              "      <th>...</th>\n",
              "      <td>...</td>\n",
              "      <td>...</td>\n",
              "      <td>...</td>\n",
              "    </tr>\n",
              "    <tr>\n",
              "      <th>166825</th>\n",
              "      <td>RJ</td>\n",
              "      <td>SAO PEDRO DA ALDEIA</td>\n",
              "      <td>BRASIL</td>\n",
              "    </tr>\n",
              "    <tr>\n",
              "      <th>166826</th>\n",
              "      <td>RJ</td>\n",
              "      <td>ARARUAMA</td>\n",
              "      <td>BRASIL</td>\n",
              "    </tr>\n",
              "    <tr>\n",
              "      <th>166827</th>\n",
              "      <td>RS</td>\n",
              "      <td>CANOAS</td>\n",
              "      <td>BRASIL</td>\n",
              "    </tr>\n",
              "    <tr>\n",
              "      <th>166828</th>\n",
              "      <td>PA</td>\n",
              "      <td>ANANINDEUA</td>\n",
              "      <td>BRASIL</td>\n",
              "    </tr>\n",
              "    <tr>\n",
              "      <th>166829</th>\n",
              "      <td>RS</td>\n",
              "      <td>ESTRELA</td>\n",
              "      <td>BRASIL</td>\n",
              "    </tr>\n",
              "  </tbody>\n",
              "</table>\n",
              "<p>166830 rows × 3 columns</p>\n",
              "</div>\n",
              "      <button class=\"colab-df-convert\" onclick=\"convertToInteractive('df-cc40e56f-8fe6-47ca-b5f8-7ff9219832dc')\"\n",
              "              title=\"Convert this dataframe to an interactive table.\"\n",
              "              style=\"display:none;\">\n",
              "        \n",
              "  <svg xmlns=\"http://www.w3.org/2000/svg\" height=\"24px\"viewBox=\"0 0 24 24\"\n",
              "       width=\"24px\">\n",
              "    <path d=\"M0 0h24v24H0V0z\" fill=\"none\"/>\n",
              "    <path d=\"M18.56 5.44l.94 2.06.94-2.06 2.06-.94-2.06-.94-.94-2.06-.94 2.06-2.06.94zm-11 1L8.5 8.5l.94-2.06 2.06-.94-2.06-.94L8.5 2.5l-.94 2.06-2.06.94zm10 10l.94 2.06.94-2.06 2.06-.94-2.06-.94-.94-2.06-.94 2.06-2.06.94z\"/><path d=\"M17.41 7.96l-1.37-1.37c-.4-.4-.92-.59-1.43-.59-.52 0-1.04.2-1.43.59L10.3 9.45l-7.72 7.72c-.78.78-.78 2.05 0 2.83L4 21.41c.39.39.9.59 1.41.59.51 0 1.02-.2 1.41-.59l7.78-7.78 2.81-2.81c.8-.78.8-2.07 0-2.86zM5.41 20L4 18.59l7.72-7.72 1.47 1.35L5.41 20z\"/>\n",
              "  </svg>\n",
              "      </button>\n",
              "      \n",
              "  <style>\n",
              "    .colab-df-container {\n",
              "      display:flex;\n",
              "      flex-wrap:wrap;\n",
              "      gap: 12px;\n",
              "    }\n",
              "\n",
              "    .colab-df-convert {\n",
              "      background-color: #E8F0FE;\n",
              "      border: none;\n",
              "      border-radius: 50%;\n",
              "      cursor: pointer;\n",
              "      display: none;\n",
              "      fill: #1967D2;\n",
              "      height: 32px;\n",
              "      padding: 0 0 0 0;\n",
              "      width: 32px;\n",
              "    }\n",
              "\n",
              "    .colab-df-convert:hover {\n",
              "      background-color: #E2EBFA;\n",
              "      box-shadow: 0px 1px 2px rgba(60, 64, 67, 0.3), 0px 1px 3px 1px rgba(60, 64, 67, 0.15);\n",
              "      fill: #174EA6;\n",
              "    }\n",
              "\n",
              "    [theme=dark] .colab-df-convert {\n",
              "      background-color: #3B4455;\n",
              "      fill: #D2E3FC;\n",
              "    }\n",
              "\n",
              "    [theme=dark] .colab-df-convert:hover {\n",
              "      background-color: #434B5C;\n",
              "      box-shadow: 0px 1px 3px 1px rgba(0, 0, 0, 0.15);\n",
              "      filter: drop-shadow(0px 1px 2px rgba(0, 0, 0, 0.3));\n",
              "      fill: #FFFFFF;\n",
              "    }\n",
              "  </style>\n",
              "\n",
              "      <script>\n",
              "        const buttonEl =\n",
              "          document.querySelector('#df-cc40e56f-8fe6-47ca-b5f8-7ff9219832dc button.colab-df-convert');\n",
              "        buttonEl.style.display =\n",
              "          google.colab.kernel.accessAllowed ? 'block' : 'none';\n",
              "\n",
              "        async function convertToInteractive(key) {\n",
              "          const element = document.querySelector('#df-cc40e56f-8fe6-47ca-b5f8-7ff9219832dc');\n",
              "          const dataTable =\n",
              "            await google.colab.kernel.invokeFunction('convertToInteractive',\n",
              "                                                     [key], {});\n",
              "          if (!dataTable) return;\n",
              "\n",
              "          const docLinkHtml = 'Like what you see? Visit the ' +\n",
              "            '<a target=\"_blank\" href=https://colab.research.google.com/notebooks/data_table.ipynb>data table notebook</a>'\n",
              "            + ' to learn more about interactive tables.';\n",
              "          element.innerHTML = '';\n",
              "          dataTable['output_type'] = 'display_data';\n",
              "          await google.colab.output.renderOutput(dataTable, element);\n",
              "          const docLink = document.createElement('div');\n",
              "          docLink.innerHTML = docLinkHtml;\n",
              "          element.appendChild(docLink);\n",
              "        }\n",
              "      </script>\n",
              "    </div>\n",
              "  </div>\n",
              "  "
            ]
          },
          "metadata": {},
          "execution_count": 93
        }
      ],
      "source": [
        "df_endereco"
      ]
    },
    {
      "cell_type": "code",
      "execution_count": 94,
      "metadata": {
        "colab": {
          "base_uri": "https://localhost:8080/"
        },
        "id": "2SVR030G4-VM",
        "outputId": "233820e9-5f14-433e-927f-df7b4f09427c"
      },
      "outputs": [
        {
          "output_type": "execute_result",
          "data": {
            "text/plain": [
              "<bound method DataFrame.info of        UF_BENEFICIARIO MUNICIPIO_BENEFICIARIO    PAIS\n",
              "0                   MG   GOVERNADOR VALADARES  BRASIL\n",
              "1                   CE              FORTALEZA  BRASIL\n",
              "2                   CE                MOMBACA  BRASIL\n",
              "3                   BA                IBITITA  BRASIL\n",
              "4                   SP              SAO PAULO  BRASIL\n",
              "...                ...                    ...     ...\n",
              "166825              RJ    SAO PEDRO DA ALDEIA  BRASIL\n",
              "166826              RJ               ARARUAMA  BRASIL\n",
              "166827              RS                 CANOAS  BRASIL\n",
              "166828              PA             ANANINDEUA  BRASIL\n",
              "166829              RS                ESTRELA  BRASIL\n",
              "\n",
              "[166830 rows x 3 columns]>"
            ]
          },
          "metadata": {},
          "execution_count": 94
        }
      ],
      "source": [
        "df_endereco.info\n"
      ]
    },
    {
      "cell_type": "markdown",
      "metadata": {
        "id": "-JZT7CnqRBxU"
      },
      "source": [
        "##Apagando os nomes dos municípios duplicados"
      ]
    },
    {
      "cell_type": "code",
      "execution_count": 95,
      "metadata": {
        "id": "bxVD2XSA3ufP"
      },
      "outputs": [],
      "source": [
        "df_endereco.drop_duplicates(inplace=True)"
      ]
    },
    {
      "cell_type": "code",
      "execution_count": 96,
      "metadata": {
        "colab": {
          "base_uri": "https://localhost:8080/",
          "height": 424
        },
        "id": "w93gmVUN8DQe",
        "outputId": "098e013d-f7da-46a6-c57d-f8068c82dac5"
      },
      "outputs": [
        {
          "output_type": "execute_result",
          "data": {
            "text/plain": [
              "       UF_BENEFICIARIO MUNICIPIO_BENEFICIARIO    PAIS\n",
              "0                   MG   GOVERNADOR VALADARES  BRASIL\n",
              "1                   CE              FORTALEZA  BRASIL\n",
              "2                   CE                MOMBACA  BRASIL\n",
              "3                   BA                IBITITA  BRASIL\n",
              "4                   SP              SAO PAULO  BRASIL\n",
              "...                ...                    ...     ...\n",
              "165149              PB               DIAMANTE  BRASIL\n",
              "165182              TO            ABREULANDIA  BRASIL\n",
              "165438              PR         RIBEIRAO CLARO  BRASIL\n",
              "166443              RS                COLINAS  BRASIL\n",
              "166550              PR   BELA VISTA DO CAROBA  BRASIL\n",
              "\n",
              "[5124 rows x 3 columns]"
            ],
            "text/html": [
              "\n",
              "  <div id=\"df-3ede1b30-5805-4b37-b468-439f9ca7d5d0\">\n",
              "    <div class=\"colab-df-container\">\n",
              "      <div>\n",
              "<style scoped>\n",
              "    .dataframe tbody tr th:only-of-type {\n",
              "        vertical-align: middle;\n",
              "    }\n",
              "\n",
              "    .dataframe tbody tr th {\n",
              "        vertical-align: top;\n",
              "    }\n",
              "\n",
              "    .dataframe thead th {\n",
              "        text-align: right;\n",
              "    }\n",
              "</style>\n",
              "<table border=\"1\" class=\"dataframe\">\n",
              "  <thead>\n",
              "    <tr style=\"text-align: right;\">\n",
              "      <th></th>\n",
              "      <th>UF_BENEFICIARIO</th>\n",
              "      <th>MUNICIPIO_BENEFICIARIO</th>\n",
              "      <th>PAIS</th>\n",
              "    </tr>\n",
              "  </thead>\n",
              "  <tbody>\n",
              "    <tr>\n",
              "      <th>0</th>\n",
              "      <td>MG</td>\n",
              "      <td>GOVERNADOR VALADARES</td>\n",
              "      <td>BRASIL</td>\n",
              "    </tr>\n",
              "    <tr>\n",
              "      <th>1</th>\n",
              "      <td>CE</td>\n",
              "      <td>FORTALEZA</td>\n",
              "      <td>BRASIL</td>\n",
              "    </tr>\n",
              "    <tr>\n",
              "      <th>2</th>\n",
              "      <td>CE</td>\n",
              "      <td>MOMBACA</td>\n",
              "      <td>BRASIL</td>\n",
              "    </tr>\n",
              "    <tr>\n",
              "      <th>3</th>\n",
              "      <td>BA</td>\n",
              "      <td>IBITITA</td>\n",
              "      <td>BRASIL</td>\n",
              "    </tr>\n",
              "    <tr>\n",
              "      <th>4</th>\n",
              "      <td>SP</td>\n",
              "      <td>SAO PAULO</td>\n",
              "      <td>BRASIL</td>\n",
              "    </tr>\n",
              "    <tr>\n",
              "      <th>...</th>\n",
              "      <td>...</td>\n",
              "      <td>...</td>\n",
              "      <td>...</td>\n",
              "    </tr>\n",
              "    <tr>\n",
              "      <th>165149</th>\n",
              "      <td>PB</td>\n",
              "      <td>DIAMANTE</td>\n",
              "      <td>BRASIL</td>\n",
              "    </tr>\n",
              "    <tr>\n",
              "      <th>165182</th>\n",
              "      <td>TO</td>\n",
              "      <td>ABREULANDIA</td>\n",
              "      <td>BRASIL</td>\n",
              "    </tr>\n",
              "    <tr>\n",
              "      <th>165438</th>\n",
              "      <td>PR</td>\n",
              "      <td>RIBEIRAO CLARO</td>\n",
              "      <td>BRASIL</td>\n",
              "    </tr>\n",
              "    <tr>\n",
              "      <th>166443</th>\n",
              "      <td>RS</td>\n",
              "      <td>COLINAS</td>\n",
              "      <td>BRASIL</td>\n",
              "    </tr>\n",
              "    <tr>\n",
              "      <th>166550</th>\n",
              "      <td>PR</td>\n",
              "      <td>BELA VISTA DO CAROBA</td>\n",
              "      <td>BRASIL</td>\n",
              "    </tr>\n",
              "  </tbody>\n",
              "</table>\n",
              "<p>5124 rows × 3 columns</p>\n",
              "</div>\n",
              "      <button class=\"colab-df-convert\" onclick=\"convertToInteractive('df-3ede1b30-5805-4b37-b468-439f9ca7d5d0')\"\n",
              "              title=\"Convert this dataframe to an interactive table.\"\n",
              "              style=\"display:none;\">\n",
              "        \n",
              "  <svg xmlns=\"http://www.w3.org/2000/svg\" height=\"24px\"viewBox=\"0 0 24 24\"\n",
              "       width=\"24px\">\n",
              "    <path d=\"M0 0h24v24H0V0z\" fill=\"none\"/>\n",
              "    <path d=\"M18.56 5.44l.94 2.06.94-2.06 2.06-.94-2.06-.94-.94-2.06-.94 2.06-2.06.94zm-11 1L8.5 8.5l.94-2.06 2.06-.94-2.06-.94L8.5 2.5l-.94 2.06-2.06.94zm10 10l.94 2.06.94-2.06 2.06-.94-2.06-.94-.94-2.06-.94 2.06-2.06.94z\"/><path d=\"M17.41 7.96l-1.37-1.37c-.4-.4-.92-.59-1.43-.59-.52 0-1.04.2-1.43.59L10.3 9.45l-7.72 7.72c-.78.78-.78 2.05 0 2.83L4 21.41c.39.39.9.59 1.41.59.51 0 1.02-.2 1.41-.59l7.78-7.78 2.81-2.81c.8-.78.8-2.07 0-2.86zM5.41 20L4 18.59l7.72-7.72 1.47 1.35L5.41 20z\"/>\n",
              "  </svg>\n",
              "      </button>\n",
              "      \n",
              "  <style>\n",
              "    .colab-df-container {\n",
              "      display:flex;\n",
              "      flex-wrap:wrap;\n",
              "      gap: 12px;\n",
              "    }\n",
              "\n",
              "    .colab-df-convert {\n",
              "      background-color: #E8F0FE;\n",
              "      border: none;\n",
              "      border-radius: 50%;\n",
              "      cursor: pointer;\n",
              "      display: none;\n",
              "      fill: #1967D2;\n",
              "      height: 32px;\n",
              "      padding: 0 0 0 0;\n",
              "      width: 32px;\n",
              "    }\n",
              "\n",
              "    .colab-df-convert:hover {\n",
              "      background-color: #E2EBFA;\n",
              "      box-shadow: 0px 1px 2px rgba(60, 64, 67, 0.3), 0px 1px 3px 1px rgba(60, 64, 67, 0.15);\n",
              "      fill: #174EA6;\n",
              "    }\n",
              "\n",
              "    [theme=dark] .colab-df-convert {\n",
              "      background-color: #3B4455;\n",
              "      fill: #D2E3FC;\n",
              "    }\n",
              "\n",
              "    [theme=dark] .colab-df-convert:hover {\n",
              "      background-color: #434B5C;\n",
              "      box-shadow: 0px 1px 3px 1px rgba(0, 0, 0, 0.15);\n",
              "      filter: drop-shadow(0px 1px 2px rgba(0, 0, 0, 0.3));\n",
              "      fill: #FFFFFF;\n",
              "    }\n",
              "  </style>\n",
              "\n",
              "      <script>\n",
              "        const buttonEl =\n",
              "          document.querySelector('#df-3ede1b30-5805-4b37-b468-439f9ca7d5d0 button.colab-df-convert');\n",
              "        buttonEl.style.display =\n",
              "          google.colab.kernel.accessAllowed ? 'block' : 'none';\n",
              "\n",
              "        async function convertToInteractive(key) {\n",
              "          const element = document.querySelector('#df-3ede1b30-5805-4b37-b468-439f9ca7d5d0');\n",
              "          const dataTable =\n",
              "            await google.colab.kernel.invokeFunction('convertToInteractive',\n",
              "                                                     [key], {});\n",
              "          if (!dataTable) return;\n",
              "\n",
              "          const docLinkHtml = 'Like what you see? Visit the ' +\n",
              "            '<a target=\"_blank\" href=https://colab.research.google.com/notebooks/data_table.ipynb>data table notebook</a>'\n",
              "            + ' to learn more about interactive tables.';\n",
              "          element.innerHTML = '';\n",
              "          dataTable['output_type'] = 'display_data';\n",
              "          await google.colab.output.renderOutput(dataTable, element);\n",
              "          const docLink = document.createElement('div');\n",
              "          docLink.innerHTML = docLinkHtml;\n",
              "          element.appendChild(docLink);\n",
              "        }\n",
              "      </script>\n",
              "    </div>\n",
              "  </div>\n",
              "  "
            ]
          },
          "metadata": {},
          "execution_count": 96
        }
      ],
      "source": [
        "df_endereco\n"
      ]
    },
    {
      "cell_type": "markdown",
      "metadata": {
        "id": "Io7bmbpKRF-X"
      },
      "source": [
        "##Juntando os dados em uma única coluna chamada 'ENDERECO_COMP'"
      ]
    },
    {
      "cell_type": "code",
      "execution_count": 97,
      "metadata": {
        "id": "rjYOE5Fp8Et9"
      },
      "outputs": [],
      "source": [
        "df_endereco['ENDERECO_COMP'] = df_endereco[['MUNICIPIO_BENEFICIARIO', 'UF_BENEFICIARIO', 'PAIS']].apply(lambda x: ', '.join(x), axis = 1)\n"
      ]
    },
    {
      "cell_type": "code",
      "execution_count": 98,
      "metadata": {
        "colab": {
          "base_uri": "https://localhost:8080/"
        },
        "id": "4u1Hn0EB9BGY",
        "outputId": "b1434d40-a930-4d1d-93c1-97af67e5d4a2"
      },
      "outputs": [
        {
          "output_type": "execute_result",
          "data": {
            "text/plain": [
              "UF_BENEFICIARIO           object\n",
              "MUNICIPIO_BENEFICIARIO    object\n",
              "PAIS                      object\n",
              "ENDERECO_COMP             object\n",
              "dtype: object"
            ]
          },
          "metadata": {},
          "execution_count": 98
        }
      ],
      "source": [
        "df_endereco.dtypes"
      ]
    },
    {
      "cell_type": "markdown",
      "metadata": {
        "id": "hDJJK5sDRLTX"
      },
      "source": [
        "##Importando o RateLimiter para determinar execução de 1/1 segundo para cada registro no DataFrame. Necessário para usar versão Free do Nominatim"
      ]
    },
    {
      "cell_type": "code",
      "execution_count": 99,
      "metadata": {
        "id": "9Oqgbe7x__ZC"
      },
      "outputs": [],
      "source": [
        "from geopy.extra.rate_limiter import RateLimiter "
      ]
    },
    {
      "cell_type": "code",
      "execution_count": 100,
      "metadata": {
        "id": "VaXIahPuAIty"
      },
      "outputs": [],
      "source": [
        "geocode=RateLimiter(locator.geocode, min_delay_seconds=1)"
      ]
    },
    {
      "cell_type": "markdown",
      "metadata": {
        "id": "b38yJZmnRQ_m"
      },
      "source": [
        "##Criando uma coluna em branco para adicionar dados geométricos"
      ]
    },
    {
      "cell_type": "code",
      "execution_count": 101,
      "metadata": {
        "id": "qaryD_fiMW-f"
      },
      "outputs": [],
      "source": [
        "df_endereco['GEOLOCALIZACAO'] = ' '"
      ]
    },
    {
      "cell_type": "markdown",
      "metadata": {
        "id": "Z9ZhpYHiYL9R"
      },
      "source": [
        "###Aplicando o geocode para 5124 municípios. A execução do código ira demorar cerca de 1h42min, por este motivo tive que deixar a '#'. Para a execução completa do código, favor retirada a '#' e aguardar 1h42min ou verificar imagem do mapa no ReadMe."
      ]
    },
    {
      "cell_type": "code",
      "execution_count": 102,
      "metadata": {
        "id": "wNApvDo5LLtL"
      },
      "outputs": [],
      "source": [
        "#df_endereco['GEOLOCALIZACAO'] = df_endereco['ENDERECO_COMP'].apply(geocode)"
      ]
    },
    {
      "cell_type": "code",
      "execution_count": 103,
      "metadata": {
        "id": "FBRxIjuCMgwC"
      },
      "outputs": [],
      "source": [
        "#df_endereco['GEOLOCALIZACAO']\n"
      ]
    },
    {
      "cell_type": "markdown",
      "metadata": {
        "id": "yofK-HdkRsrA"
      },
      "source": [
        "##Verificando em quais endereços não foram encontrados os dados geométricos."
      ]
    },
    {
      "cell_type": "code",
      "execution_count": 104,
      "metadata": {
        "id": "ucUPblma3Tr9"
      },
      "outputs": [],
      "source": [
        "#df_endereco['GEOLOCALIZACAO'].isna().sum()"
      ]
    },
    {
      "cell_type": "markdown",
      "metadata": {
        "id": "8LDdnUMJRxAN"
      },
      "source": [
        "##Criando as colunas Latitude e Longitude se campo não estiver vazio. Se estiver vazio não será preenchido, no caso serão 10 campos vazios."
      ]
    },
    {
      "cell_type": "code",
      "execution_count": 105,
      "metadata": {
        "id": "wKfbC61I3J_Q"
      },
      "outputs": [],
      "source": [
        "#df_endereco['GEOLOCALIZACAO_LATITUDE'] = df_endereco['GEOLOCALIZACAO'].apply(lambda loc: loc.latitude if loc else None)\n",
        "#df_endereco['GEOLOCALIZACAO_LONGITUDE'] = df_endereco['GEOLOCALIZACAO'].apply(lambda loc: loc.longitude if loc else None)"
      ]
    },
    {
      "cell_type": "markdown",
      "metadata": {
        "id": "ffCVQEA3Yhqr"
      },
      "source": [
        "##Criando uma coluna com Latitude e Longitude agrupadas que irá se chamar 'GEOLOCALIZACAO_POINT'"
      ]
    },
    {
      "cell_type": "code",
      "execution_count": 106,
      "metadata": {
        "id": "9QUDcS1Q3jdE"
      },
      "outputs": [],
      "source": [
        "#df_endereco['GEOLOCALIZACAO_POINT']=df_endereco['GEOLOCALIZACAO'].apply(lambda loc: tuple(loc.point) if loc else None)"
      ]
    },
    {
      "cell_type": "code",
      "execution_count": 107,
      "metadata": {
        "id": "GW7nAZod3j3F"
      },
      "outputs": [],
      "source": [
        "#df_endereco.loc[300:400, :]"
      ]
    },
    {
      "cell_type": "markdown",
      "metadata": {
        "id": "3HdbrmbMYy98"
      },
      "source": [
        "##Como somente 10 locais ficaram sem localização, optei por deletá-los do DataFrame, pois com campos em branco não consigo gerar o HeatMap."
      ]
    },
    {
      "cell_type": "code",
      "execution_count": 108,
      "metadata": {
        "id": "WdeOzUfyI6Xw"
      },
      "outputs": [],
      "source": [
        "#df_endereco.dropna(inplace=True)"
      ]
    },
    {
      "cell_type": "code",
      "execution_count": 109,
      "metadata": {
        "id": "qd0SU5DoK1oL"
      },
      "outputs": [],
      "source": [
        "#df_endereco.isna().sum()"
      ]
    },
    {
      "cell_type": "markdown",
      "metadata": {
        "id": "O_wJ0xjWS_oX"
      },
      "source": [
        "##Manipulação para gerar gráfico \"Divisão das bolsas por sexo\""
      ]
    },
    {
      "cell_type": "code",
      "execution_count": 110,
      "metadata": {
        "colab": {
          "base_uri": "https://localhost:8080/"
        },
        "id": "vUuk9xFlZvX6",
        "outputId": "9d9d780f-99ce-4130-f4d6-31470f533248"
      },
      "outputs": [
        {
          "output_type": "execute_result",
          "data": {
            "text/plain": [
              "CategoricalDtype(categories=['F', 'M'], ordered=False)"
            ]
          },
          "metadata": {},
          "execution_count": 110
        }
      ],
      "source": [
        "original_copia['SEXO_BENEFICIARIO'].dtypes"
      ]
    },
    {
      "cell_type": "code",
      "execution_count": 111,
      "metadata": {
        "colab": {
          "base_uri": "https://localhost:8080/"
        },
        "id": "1tEA6i8PTGlt",
        "outputId": "7fec68a4-56f0-4c24-cae0-f9413195c047"
      },
      "outputs": [
        {
          "output_type": "execute_result",
          "data": {
            "text/plain": [
              "F    101137\n",
              "M     65693\n",
              "Name: SEXO_BENEFICIARIO, dtype: int64"
            ]
          },
          "metadata": {},
          "execution_count": 111
        }
      ],
      "source": [
        "qt_sexo = original_copia['SEXO_BENEFICIARIO'].value_counts()\n",
        "qt_sexo"
      ]
    },
    {
      "cell_type": "markdown",
      "metadata": {
        "id": "WUjiotr5a1xo"
      },
      "source": [
        "##Manipulação para gerar gráfico \"Divisão de bolsas por região\" "
      ]
    },
    {
      "cell_type": "code",
      "execution_count": 112,
      "metadata": {
        "colab": {
          "base_uri": "https://localhost:8080/"
        },
        "id": "0lm32HraTGwQ",
        "outputId": "e4a3f5c2-18ee-47ca-9a57-513e59db3cad"
      },
      "outputs": [
        {
          "output_type": "stream",
          "name": "stdout",
          "text": [
            "SUDESTE         71644\n",
            "NORDESTE        39252\n",
            "SUL             26376\n",
            "NORTE           16303\n",
            "CENTRO-OESTE    13255\n",
            "Name: REGIAO_BENEFICIARIO, dtype: int64\n"
          ]
        }
      ],
      "source": [
        "B = original_copia['REGIAO_BENEFICIARIO'].value_counts()\n",
        "print(B)"
      ]
    },
    {
      "cell_type": "markdown",
      "metadata": {
        "id": "Io_97OiksZU3"
      },
      "source": [
        "#4. Análise exploratória e visualização em gráficos"
      ]
    },
    {
      "cell_type": "markdown",
      "metadata": {
        "id": "6WGtMnJCThOQ"
      },
      "source": [
        "#Distribuição da faixa etária dos bolsistas"
      ]
    },
    {
      "cell_type": "code",
      "execution_count": 113,
      "metadata": {
        "colab": {
          "base_uri": "https://localhost:8080/",
          "height": 312
        },
        "id": "Xd4zE7vQwgw2",
        "outputId": "992e288a-7434-47da-8da5-942a5f24f203"
      },
      "outputs": [
        {
          "output_type": "display_data",
          "data": {
            "text/plain": [
              "<Figure size 432x288 with 1 Axes>"
            ],
            "image/png": "[encoded data removed]"
          },
          "metadata": {
            "needs_background": "light"
          }
        }
      ],
      "source": [
        "plt.hist(original_copia['IDADE'],rwidth=0.9, color = 'green', alpha=0.8)\n",
        "plt.xlabel('Idade', size=18)\n",
        "plt.ylabel('Frequência observada', size=18)\n",
        "plt.title('Idade bolsistas', size=25)\n",
        "plt.rcParams['figure.figsize'] = (10,5)\n",
        "plt.show()\n"
      ]
    },
    {
      "cell_type": "markdown",
      "metadata": {
        "id": "upP1bIsicfmv"
      },
      "source": [
        "##Distribuição da faixa etária dos bolsistas agrupada em 5 classes"
      ]
    },
    {
      "cell_type": "code",
      "execution_count": 114,
      "metadata": {
        "colab": {
          "base_uri": "https://localhost:8080/",
          "height": 363
        },
        "id": "1c03ixGuZsBk",
        "outputId": "a3108cb1-4231-4a45-a26e-01bd9b510e17"
      },
      "outputs": [
        {
          "output_type": "display_data",
          "data": {
            "text/plain": [
              "<Figure size 720x360 with 1 Axes>"
            ],
            "image/png": "[encoded data removed]"
          },
          "metadata": {
            "needs_background": "light"
          }
        }
      ],
      "source": [
        "plt.hist(copia_4['IDADE'], 5, rwidth=1.0, color = 'blue', alpha=0.8, edgecolor='black')\n",
        "plt.xlabel('Idade', size=18)\n",
        "plt.ylabel('Frequência observada', size=18)\n",
        "plt.title('Idade bolsistas dividida em 5 faixas etárias', size=20)\n",
        "plt.show()"
      ]
    },
    {
      "cell_type": "markdown",
      "metadata": {
        "id": "Eo8N0159cq8Q"
      },
      "source": [
        "##Distribuição das bolsas por estado"
      ]
    },
    {
      "cell_type": "code",
      "execution_count": 115,
      "metadata": {
        "colab": {
          "base_uri": "https://localhost:8080/",
          "height": 363
        },
        "id": "KJeTVWhyZsYT",
        "outputId": "f40dede0-1f3a-45ce-a819-c76035ff2601"
      },
      "outputs": [
        {
          "output_type": "display_data",
          "data": {
            "text/plain": [
              "<Figure size 720x360 with 1 Axes>"
            ],
            "image/png": "[encoded data removed]"
          },
          "metadata": {
            "needs_background": "light"
          }
        }
      ],
      "source": [
        "plt.hist(copia_4['UF_BENEFICIARIO'], 27, rwidth=1.0, color = 'purple', alpha=0.8, edgecolor='black')\n",
        "plt.xlabel('UF', size=18)\n",
        "plt.ylabel('número de bolsas', size=18)\n",
        "plt.title('Divisão por estado', size=20)\n",
        "plt.show()\n",
        "#Tá ruim esta visualização, ordenar."
      ]
    },
    {
      "cell_type": "markdown",
      "metadata": {
        "id": "gRY8DmKbLVsP"
      },
      "source": [
        "**Atenção!Para gerar o mapa de calor é necessário retirar a '#' de frente dos comandos aqui e também na etapa 3), visto que para rodar o apply geocode é necessário 1h42min, aproximadamente.**"
      ]
    },
    {
      "cell_type": "markdown",
      "metadata": {
        "id": "AsXyfhnic3Tf"
      },
      "source": [
        "##Verificação de regiões com concentração do maior número de bolsistas. Foi usado um mapa de calor."
      ]
    },
    {
      "cell_type": "code",
      "execution_count": 116,
      "metadata": {
        "id": "Dp18c_-ALSHN"
      },
      "outputs": [],
      "source": [
        "#data = df_endereco['GEOLOCALIZACAO_POINT']\n",
        "#mapObtf= folium.Map(width='100%', height='100%',location=[-15.788497, -47.879873], zoom_start=3)\n",
        "#mapData = [[x[0], x[1], (x[2]-50)/(100-50)] for x in data]\n",
        "#HeatMap(mapData, gradient={0.0: 'blue',\n",
        " #                          0.6:'cyan',\n",
        "  #                         0.7:'lime',\n",
        "  #                         0.8:'yellow',\n",
        "   #                        1.0:'red'}, radius = 30).add_to(mapObtf)\n",
        "#mapObtf.save('mapa_calor_Brasil.html')\n",
        "#mapObtf\n",
        "#Cor mínima=50 e máxima =100\n",
        "#A location é do Brasil\n",
        "\n"
      ]
    },
    {
      "cell_type": "markdown",
      "metadata": {
        "id": "v844S8XjdOry"
      },
      "source": [
        "##Divisão das bolsas por sexo"
      ]
    },
    {
      "cell_type": "markdown",
      "metadata": {
        "id": "nBNMXB9yRUEe"
      },
      "source": [
        "##**60,62%** das bolsas são de estudantes do sexo **Feminino**"
      ]
    },
    {
      "cell_type": "code",
      "execution_count": 117,
      "metadata": {
        "colab": {
          "base_uri": "https://localhost:8080/"
        },
        "id": "99gwlG5wSUPl",
        "outputId": "901809b1-4e75-4574-e416-d41b319445a7"
      },
      "outputs": [
        {
          "output_type": "execute_result",
          "data": {
            "text/plain": [
              "166830"
            ]
          },
          "metadata": {},
          "execution_count": 117
        }
      ],
      "source": [
        "original_copia['SEXO_BENEFICIARIO'].value_counts().sum()"
      ]
    },
    {
      "cell_type": "code",
      "execution_count": 118,
      "metadata": {
        "colab": {
          "base_uri": "https://localhost:8080/"
        },
        "id": "SKKG4frMSiac",
        "outputId": "92bc1824-6d87-4e28-a0f4-d2bd0a718504"
      },
      "outputs": [
        {
          "output_type": "execute_result",
          "data": {
            "text/plain": [
              "F    101137\n",
              "M     65693\n",
              "Name: SEXO_BENEFICIARIO, dtype: int64"
            ]
          },
          "metadata": {},
          "execution_count": 118
        }
      ],
      "source": [
        "original_copia['SEXO_BENEFICIARIO'].value_counts()"
      ]
    },
    {
      "cell_type": "markdown",
      "metadata": {
        "id": "Go9qxF5t9j7w"
      },
      "source": [
        "##Divisão de bolsas por região"
      ]
    },
    {
      "cell_type": "code",
      "execution_count": 119,
      "metadata": {
        "colab": {
          "base_uri": "https://localhost:8080/",
          "height": 350
        },
        "id": "k_ou96PtZpeY",
        "outputId": "d25ddead-9384-4e78-f9c6-1473faa047ac"
      },
      "outputs": [
        {
          "output_type": "display_data",
          "data": {
            "text/plain": [
              "<Figure size 720x360 with 1 Axes>"
            ],
            "image/png": "[encoded data removed]"
          },
          "metadata": {
            "needs_background": "light"
          }
        }
      ],
      "source": [
        "labels = ['SUDESTE', 'NORDESTE', 'SUL', 'NORTE', 'CENTRO-OESTE']\n",
        "valores = [B[0], B[1], B[2], B[3], B[4]]\n",
        "plt.bar(labels, valores,0.4, color='orange')\n",
        "plt.xlabel(\"REGIÕES DO BRASIL\")\n",
        "plt.ylabel(\"FREQUÊNCIA\")\n",
        "plt.title(\"DIVISÃO DE BOLSAS POR REGIÃO\")\n",
        "plt.show()"
      ]
    },
    {
      "cell_type": "code",
      "execution_count": 120,
      "metadata": {
        "colab": {
          "base_uri": "https://localhost:8080/"
        },
        "id": "16mLvJdFaZzc",
        "outputId": "4a5bbc33-dec5-48e4-b145-7a820e24236e"
      },
      "outputs": [
        {
          "output_type": "stream",
          "name": "stdout",
          "text": [
            "Parda            78067\n",
            "Branca           64484\n",
            "Preta            21153\n",
            "Amarela           2900\n",
            "Ind¡gena           153\n",
            "NÆo Informada       73\n",
            "Name: RACA_BENEFICIARIO, dtype: int64\n"
          ]
        }
      ],
      "source": [
        "A = original_copia['RACA_BENEFICIARIO'].value_counts()\n",
        "print(A)"
      ]
    },
    {
      "cell_type": "code",
      "execution_count": 121,
      "metadata": {
        "colab": {
          "base_uri": "https://localhost:8080/",
          "height": 351
        },
        "id": "L0wwI3KQ8AaY",
        "outputId": "5f73b27f-7870-40c7-a1c4-01da5ec43e70"
      },
      "outputs": [
        {
          "output_type": "display_data",
          "data": {
            "text/plain": [
              "<Figure size 720x360 with 1 Axes>"
            ],
            "image/png": "[encoded data removed]"
          },
          "metadata": {
            "needs_background": "light"
          }
        }
      ],
      "source": [
        "#EM andamento\n",
        "rotulo = ['SUDESTE', 'NORDESTE', 'SUL', 'NORTE', 'CENTRO-OESTE']\n",
        "Parda = [1, 4, 9, 25, 40]\n",
        "Branca = [2, 23, 40, 9, 15]\n",
        "Preta = [65, 21, 4, 6, 47]\n",
        "Amarela = [9, 1, 2, 3, 8]\n",
        "Indigena = [1, 1 , 2, 1, 2]\n",
        "Nao_Infor= [1, 1, 1, 1, 2]\n",
        "\n",
        "plt.barh(rotulo, Parda,0.5, label = 'Parda')\n",
        "plt.barh(rotulo, Branca,0.5, label = 'Branca')\n",
        "plt.barh(rotulo, Preta,0.5,label = 'Preta')\n",
        "plt.barh(rotulo, Amarela,0.5,label = 'Amarela')\n",
        "plt.barh(rotulo, Indigena,0.5,label = 'Indigena')\n",
        "plt.barh(rotulo, Nao_Infor,0.5,label = 'Nao_Infor')\n",
        "\n",
        "plt.xlabel(\"FREQUÊNCIA\")\n",
        "plt.ylabel(\"REGIÕES DO BRASIL\")\n",
        "plt.title(\"DIVISÃO DE BOLSAS POR REGIÃO\")\n",
        "plt.show()\n"
      ]
    },
    {
      "cell_type": "code",
      "execution_count": 122,
      "metadata": {
        "colab": {
          "base_uri": "https://localhost:8080/"
        },
        "id": "mjmrhEJo-YfG",
        "outputId": "057c0ea9-eeec-4402-c375-dccc7b6b78af"
      },
      "outputs": [
        {
          "output_type": "execute_result",
          "data": {
            "text/plain": [
              "Parda            78067\n",
              "Branca           64484\n",
              "Preta            21153\n",
              "Amarela           2900\n",
              "Ind¡gena           153\n",
              "NÆo Informada       73\n",
              "Name: RACA_BENEFICIARIO, dtype: int64"
            ]
          },
          "metadata": {},
          "execution_count": 122
        }
      ],
      "source": [
        "original_copia['RACA_BENEFICIARIO'].value_counts()"
      ]
    },
    {
      "cell_type": "code",
      "source": [
        "agrupar = original_copia['RACA_BENEFICIARIO'].groupby(original_copia['REGIAO_BENEFICIARIO'])"
      ],
      "metadata": {
        "id": "zry3pns6GxdL"
      },
      "execution_count": 123,
      "outputs": []
    },
    {
      "cell_type": "code",
      "source": [
        "AB = agrupar.value_counts()\n",
        "print(AB)"
      ],
      "metadata": {
        "colab": {
          "base_uri": "https://localhost:8080/"
        },
        "id": "U8K-XZv1G0aZ",
        "outputId": "e6754a14-3def-41a3-db7e-64c3693ac40d"
      },
      "execution_count": 124,
      "outputs": [
        {
          "output_type": "stream",
          "name": "stdout",
          "text": [
            "REGIAO_BENEFICIARIO               \n",
            "CENTRO-OESTE         Parda             7247\n",
            "                     Branca            3797\n",
            "                     Preta             1765\n",
            "                     Amarela            415\n",
            "                     Ind¡gena            20\n",
            "                     NÆo Informada       11\n",
            "NORDESTE             Parda            24446\n",
            "                     Branca            7665\n",
            "                     Preta             6239\n",
            "                     Amarela            838\n",
            "                     Ind¡gena            50\n",
            "                     NÆo Informada       14\n",
            "NORTE                Parda            11932\n",
            "                     Branca            2133\n",
            "                     Preta             1866\n",
            "                     Amarela            301\n",
            "                     Ind¡gena            63\n",
            "                     NÆo Informada        8\n",
            "SUDESTE              Branca           31757\n",
            "                     Parda            28965\n",
            "                     Preta             9814\n",
            "                     Amarela           1066\n",
            "                     NÆo Informada       25\n",
            "                     Ind¡gena            17\n",
            "SUL                  Branca           19132\n",
            "                     Parda             5477\n",
            "                     Preta             1469\n",
            "                     Amarela            280\n",
            "                     NÆo Informada       15\n",
            "                     Ind¡gena             3\n",
            "Name: RACA_BENEFICIARIO, dtype: int64\n"
          ]
        }
      ]
    },
    {
      "cell_type": "code",
      "execution_count": 125,
      "metadata": {
        "colab": {
          "base_uri": "https://localhost:8080/",
          "height": 683
        },
        "id": "FZT9U9XxBRRL",
        "outputId": "2b668dd5-957d-4395-e01f-8f07cd65f4d1"
      },
      "outputs": [
        {
          "output_type": "error",
          "ename": "TypeError",
          "evalue": "ignored",
          "traceback": [
            "\u001b[0;31m---------------------------------------------------------------------------\u001b[0m",
            "\u001b[0;31mTypeError\u001b[0m                                 Traceback (most recent call last)",
            "\u001b[0;32m<ipython-input-125-61b5bca69fcc>\u001b[0m in \u001b[0;36m<module>\u001b[0;34m()\u001b[0m\n\u001b[1;32m      9\u001b[0m \u001b[0;34m\u001b[0m\u001b[0m\n\u001b[1;32m     10\u001b[0m \u001b[0mplt\u001b[0m\u001b[0;34m.\u001b[0m\u001b[0mbarh\u001b[0m\u001b[0;34m(\u001b[0m\u001b[0mrotulo\u001b[0m\u001b[0;34m,\u001b[0m \u001b[0mParda\u001b[0m\u001b[0;34m,\u001b[0m\u001b[0;36m0.5\u001b[0m\u001b[0;34m,\u001b[0m \u001b[0mcolor\u001b[0m\u001b[0;34m=\u001b[0m\u001b[0;34m'blue'\u001b[0m\u001b[0;34m)\u001b[0m\u001b[0;34m\u001b[0m\u001b[0;34m\u001b[0m\u001b[0m\n\u001b[0;32m---> 11\u001b[0;31m \u001b[0mplt\u001b[0m\u001b[0;34m.\u001b[0m\u001b[0mbarh\u001b[0m\u001b[0;34m(\u001b[0m\u001b[0mrotulo\u001b[0m\u001b[0;34m,\u001b[0m \u001b[0mBranca\u001b[0m\u001b[0;34m,\u001b[0m\u001b[0;36m0.5\u001b[0m\u001b[0;34m,\u001b[0m \u001b[0mcolor\u001b[0m\u001b[0;34m=\u001b[0m\u001b[0;34m'purple'\u001b[0m\u001b[0;34m,\u001b[0m \u001b[0mbottom\u001b[0m\u001b[0;34m=\u001b[0m\u001b[0mParda\u001b[0m\u001b[0;34m)\u001b[0m\u001b[0;34m\u001b[0m\u001b[0;34m\u001b[0m\u001b[0m\n\u001b[0m\u001b[1;32m     12\u001b[0m \u001b[0mplt\u001b[0m\u001b[0;34m.\u001b[0m\u001b[0mbarh\u001b[0m\u001b[0;34m(\u001b[0m\u001b[0mrotulo\u001b[0m\u001b[0;34m,\u001b[0m \u001b[0mPreta\u001b[0m\u001b[0;34m,\u001b[0m\u001b[0;36m0.5\u001b[0m\u001b[0;34m,\u001b[0m\u001b[0mcolor\u001b[0m\u001b[0;34m=\u001b[0m\u001b[0;34m'yellow'\u001b[0m\u001b[0;34m,\u001b[0m \u001b[0mbottom\u001b[0m\u001b[0;34m=\u001b[0m\u001b[0mParda\u001b[0m \u001b[0;34m+\u001b[0m \u001b[0mBranca\u001b[0m\u001b[0;34m)\u001b[0m\u001b[0;34m\u001b[0m\u001b[0;34m\u001b[0m\u001b[0m\n\u001b[1;32m     13\u001b[0m \u001b[0mplt\u001b[0m\u001b[0;34m.\u001b[0m\u001b[0mbarh\u001b[0m\u001b[0;34m(\u001b[0m\u001b[0mrotulo\u001b[0m\u001b[0;34m,\u001b[0m \u001b[0mAmarela\u001b[0m\u001b[0;34m,\u001b[0m\u001b[0;36m0.5\u001b[0m\u001b[0;34m,\u001b[0m\u001b[0mcolor\u001b[0m\u001b[0;34m=\u001b[0m\u001b[0;34m'green'\u001b[0m\u001b[0;34m,\u001b[0m \u001b[0mbottom\u001b[0m \u001b[0;34m=\u001b[0m \u001b[0mParda\u001b[0m \u001b[0;34m+\u001b[0m \u001b[0mBranca\u001b[0m\u001b[0;34m+\u001b[0m \u001b[0mPreta\u001b[0m\u001b[0;34m)\u001b[0m\u001b[0;34m\u001b[0m\u001b[0;34m\u001b[0m\u001b[0m\n",
            "\u001b[0;32m/usr/local/lib/python3.7/dist-packages/matplotlib/pyplot.py\u001b[0m in \u001b[0;36mbarh\u001b[0;34m(y, width, height, left, align, **kwargs)\u001b[0m\n\u001b[1;32m   2421\u001b[0m \u001b[0;32mdef\u001b[0m \u001b[0mbarh\u001b[0m\u001b[0;34m(\u001b[0m\u001b[0my\u001b[0m\u001b[0;34m,\u001b[0m \u001b[0mwidth\u001b[0m\u001b[0;34m,\u001b[0m \u001b[0mheight\u001b[0m\u001b[0;34m=\u001b[0m\u001b[0;36m0.8\u001b[0m\u001b[0;34m,\u001b[0m \u001b[0mleft\u001b[0m\u001b[0;34m=\u001b[0m\u001b[0;32mNone\u001b[0m\u001b[0;34m,\u001b[0m \u001b[0;34m*\u001b[0m\u001b[0;34m,\u001b[0m \u001b[0malign\u001b[0m\u001b[0;34m=\u001b[0m\u001b[0;34m'center'\u001b[0m\u001b[0;34m,\u001b[0m \u001b[0;34m**\u001b[0m\u001b[0mkwargs\u001b[0m\u001b[0;34m)\u001b[0m\u001b[0;34m:\u001b[0m\u001b[0;34m\u001b[0m\u001b[0;34m\u001b[0m\u001b[0m\n\u001b[1;32m   2422\u001b[0m     return gca().barh(\n\u001b[0;32m-> 2423\u001b[0;31m         y, width, height=height, left=left, align=align, **kwargs)\n\u001b[0m\u001b[1;32m   2424\u001b[0m \u001b[0;34m\u001b[0m\u001b[0m\n\u001b[1;32m   2425\u001b[0m \u001b[0;34m\u001b[0m\u001b[0m\n",
            "\u001b[0;32m/usr/local/lib/python3.7/dist-packages/matplotlib/axes/_axes.py\u001b[0m in \u001b[0;36mbarh\u001b[0;34m(self, y, width, height, left, align, **kwargs)\u001b[0m\n\u001b[1;32m   2545\u001b[0m         \u001b[0mkwargs\u001b[0m\u001b[0;34m.\u001b[0m\u001b[0msetdefault\u001b[0m\u001b[0;34m(\u001b[0m\u001b[0;34m'orientation'\u001b[0m\u001b[0;34m,\u001b[0m \u001b[0;34m'horizontal'\u001b[0m\u001b[0;34m)\u001b[0m\u001b[0;34m\u001b[0m\u001b[0;34m\u001b[0m\u001b[0m\n\u001b[1;32m   2546\u001b[0m         patches = self.bar(x=left, height=height, width=width, bottom=y,\n\u001b[0;32m-> 2547\u001b[0;31m                            align=align, **kwargs)\n\u001b[0m\u001b[1;32m   2548\u001b[0m         \u001b[0;32mreturn\u001b[0m \u001b[0mpatches\u001b[0m\u001b[0;34m\u001b[0m\u001b[0;34m\u001b[0m\u001b[0m\n\u001b[1;32m   2549\u001b[0m \u001b[0;34m\u001b[0m\u001b[0m\n",
            "\u001b[0;31mTypeError\u001b[0m: bar() got multiple values for keyword argument 'bottom'"
          ]
        },
        {
          "output_type": "display_data",
          "data": {
            "text/plain": [
              "<Figure size 720x360 with 1 Axes>"
            ],
            "image/png": "[encoded data removed]"
          },
          "metadata": {
            "needs_background": "light"
          }
        }
      ],
      "source": [
        "#EM andamento\n",
        "rotulo = ['CENTRO-OESTE', 'NORDESTE', 'NORTE', 'SUDESTE', 'SUL']#Villages\n",
        "Parda =np.array([AB[0], AB[1], AB[2], AB[3], AB[4]])\n",
        "Branca =np.array([AB[5], AB[6], AB[7], AB[8], AB[9]])\n",
        "Preta =np.array([AB[10], AB[11], AB[12], AB[13], AB[14]])\n",
        "Amarela =np.array([AB[15], AB[16], AB[17], AB[18], AB[19]])\n",
        "Indigena =np.array([AB[20], AB[21], AB[22], AB[23], AB[24]])\n",
        "Nao_Infor=np.array([AB[25], AB[26], AB[27], AB[28], AB[29]])\n",
        "\n",
        "plt.barh(rotulo, Parda,0.5, color='blue')\n",
        "plt.barh(rotulo, Branca,0.5, color='purple', bottom=Parda)\n",
        "plt.barh(rotulo, Preta,0.5,color='yellow', bottom=Parda + Branca)\n",
        "plt.barh(rotulo, Amarela,0.5,color='green', bottom = Parda + Branca+ Preta)\n",
        "plt.barh(rotulo, Indigena,0.5,color='grey', bottom = Parda + Branca+ Preta + Amarela)\n",
        "plt.barh(rotulo, Nao_Infor,0.5,color='pink', bottom = Parda + Branca+ Preta + Amarela + Nao_Infor)\n",
        "\n",
        "plt.xlabel(\"FREQUÊNCIA\")\n",
        "plt.ylabel(\"REGIÕES DO BRASIL\")\n",
        "plt.title(\"DIVISÃO DE BOLSAS POR REGIÃO\")\n",
        "plt.legend(('Parda', 'Branca', 'Preta', 'Amarela', 'Indígena', 'Não Informado' ))\n",
        "plt.figure(figsize=(20,10))\n",
        "plt.show()"
      ]
    },
    {
      "cell_type": "code",
      "execution_count": null,
      "metadata": {
        "id": "zDHXDOzQWvki"
      },
      "outputs": [],
      "source": [
        "AB.dtypes"
      ]
    },
    {
      "cell_type": "code",
      "execution_count": null,
      "metadata": {
        "id": "ESvMIlo2YS2n"
      },
      "outputs": [],
      "source": [
        "AB[12]"
      ]
    },
    {
      "cell_type": "code",
      "execution_count": null,
      "metadata": {
        "id": "XKdIiBKcYVJR"
      },
      "outputs": [],
      "source": [
        ""
      ]
    }
  ],
  "metadata": {
    "colab": {
      "collapsed_sections": [],
      "name": "Projeto_2.ipynb",
      "provenance": [],
      "authorship_tag": "ABX9TyPHj9gIM8qV3+tFJ8fuxOnO",
      "include_colab_link": true
    },
    "kernelspec": {
      "display_name": "Python 3",
      "name": "python3"
    },
    "language_info": {
      "name": "python"
    }
  },
  "nbformat": 4,
  "nbformat_minor": 0
}